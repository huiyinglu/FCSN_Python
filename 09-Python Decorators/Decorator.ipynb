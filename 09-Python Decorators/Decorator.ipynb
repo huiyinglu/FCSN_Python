{
 "cells": [
  {
   "cell_type": "code",
   "execution_count": null,
   "metadata": {},
   "outputs": [],
   "source": [
    "'''\n",
    "\n",
    "In Python, functions are first class objects. That means that functions can be \n",
    "around and used as arguments. A decorator is a function that takes another \n",
    "function and extends the behavior of the latter function without explicitly \n",
    "modifying it. Decorators provide a simple syntax for calling higher-order \n",
    "functions.\n",
    "\n",
    "http://simeonfranklin.com/blog/2012/jul/1/python-decorators-in-12-steps/\n",
    "http://thecodeship.com/patterns/guide-to-python-function-decorators/\n",
    "\n",
    "'''"
   ]
  },
  {
   "cell_type": "code",
   "execution_count": 8,
   "metadata": {},
   "outputs": [
    {
     "name": "stdout",
     "output_type": "stream",
     "text": [
      "before some_func\n"
     ]
    },
    {
     "data": {
      "text/plain": [
       "2"
      ]
     },
     "execution_count": 8,
     "metadata": {},
     "output_type": "execute_result"
    }
   ],
   "source": [
    "# the function outer is the decorator\n",
    "def outer(some_func):\n",
    "    def inner():\n",
    "        print \"before some_func\"\n",
    "        ret = some_func() \n",
    "        return ret + 1\n",
    "    return inner # we are returning inner function\n",
    "\n",
    "def re_one():\n",
    "    return 1\n",
    "\n",
    "# First method to use a decorator\n",
    "outer(re_one)() \n",
    "# outer is the decorator for re_one. Any calls to re_one won't get the \n",
    "# original re_one, instead will get the decorated version."
   ]
  },
  {
   "cell_type": "code",
   "execution_count": 6,
   "metadata": {},
   "outputs": [
    {
     "name": "stdout",
     "output_type": "stream",
     "text": [
      "before some_func\n"
     ]
    },
    {
     "data": {
      "text/plain": [
       "2"
      ]
     },
     "execution_count": 6,
     "metadata": {},
     "output_type": "execute_result"
    }
   ],
   "source": [
    "# Second method to use a decorator\n",
    "@outer\n",
    "def re_two():\n",
    "    return 1\n",
    "\n",
    "re_two()"
   ]
  },
  {
   "cell_type": "code",
   "execution_count": 9,
   "metadata": {},
   "outputs": [
    {
     "name": "stdout",
     "output_type": "stream",
     "text": [
      "Allowed\n"
     ]
    }
   ],
   "source": [
    "def checkage(func):\n",
    "    def wrapper(a):\n",
    "        if func(a) < 18:\n",
    "            print \"Not allowed\"\n",
    "        else:\n",
    "            print \"Allowed\"\n",
    "    return wrapper\n",
    "\n",
    "def processdata(a):\n",
    "    return a\n",
    "\n",
    "checkage(processdata)(23)"
   ]
  },
  {
   "cell_type": "code",
   "execution_count": 10,
   "metadata": {},
   "outputs": [
    {
     "name": "stdout",
     "output_type": "stream",
     "text": [
      "Not allowed\n"
     ]
    }
   ],
   "source": [
    "def checkage(func):\n",
    "    def wrapper(a):\n",
    "        if func(a) < 18:\n",
    "            print \"Not allowed\"\n",
    "        else:\n",
    "            print \"Allowed\"\n",
    "    return wrapper\n",
    "\n",
    "@checkage\n",
    "def processdata(a):\n",
    "    return a\n",
    "\n",
    "processdata(12)"
   ]
  },
  {
   "cell_type": "code",
   "execution_count": 15,
   "metadata": {},
   "outputs": [
    {
     "name": "stdout",
     "output_type": "stream",
     "text": [
      "The time to run the function 'fun' is 0.293398830296 seconds\n"
     ]
    }
   ],
   "source": [
    "def timeit(func):\n",
    "       def wrapper(*arg):\n",
    "               import time\n",
    "               t= time.clock()\n",
    "               res = func(*arg)\n",
    "               print \"The time to run the function '%s' is %s seconds\" %(func.func_name, time.clock()-t)\n",
    "               return res\n",
    "       return wrapper\n",
    "\n",
    "\n",
    "@timeit\n",
    "def fun(n):\n",
    "       a = [i*i for i in range(n)]\n",
    "       \n",
    "fun(1000000)"
   ]
  },
  {
   "cell_type": "code",
   "execution_count": 12,
   "metadata": {},
   "outputs": [
    {
     "name": "stdout",
     "output_type": "stream",
     "text": [
      "Not allowed\n"
     ]
    }
   ],
   "source": [
    "class Login(object):\n",
    "    @classmethod\n",
    "    def checkage(cls, func): # func = processdata\n",
    "        def wrapper(a):  # pthe value that is supplied inside the outer peantheses\n",
    "            if func(a) < 18:\n",
    "                print \"Not allowed\"\n",
    "            else:\n",
    "                print \"Allowed\"\n",
    "        return wrapper\n",
    "\n",
    "@Login.checkage\n",
    "def processdata(a):\n",
    "    return a\n",
    "\n",
    "processdata(12)"
   ]
  },
  {
   "cell_type": "code",
   "execution_count": null,
   "metadata": {
    "collapsed": true
   },
   "outputs": [],
   "source": []
  }
 ],
 "metadata": {
  "anaconda-cloud": {},
  "kernelspec": {
   "display_name": "Python 3 (ipykernel)",
   "language": "python",
   "name": "python3"
  },
  "language_info": {
   "codemirror_mode": {
    "name": "ipython",
    "version": 3
   },
   "file_extension": ".py",
   "mimetype": "text/x-python",
   "name": "python",
   "nbconvert_exporter": "python",
   "pygments_lexer": "ipython3",
   "version": "3.9.11"
  }
 },
 "nbformat": 4,
 "nbformat_minor": 1
}
