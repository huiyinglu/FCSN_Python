{
 "cells": [
  {
   "cell_type": "markdown",
   "metadata": {},
   "source": [
    "# Decorators\n",
    "\n",
    "In Python, functions are first class objects. That means you can **`pass them`** to other functions **`as arguments`**, **`return`** them from other functions **`as values`**, and store them in variables and data structures. A **_decorator_** in Python is a function that **`takes another function`** as an argument, `extending the decorated function’s functionality` without explicitly modifying it. A decorator `wraps another function`, amplifies its behavior, and **`returns`** it."
   ]
  },
  {
   "cell_type": "markdown",
   "metadata": {},
   "source": [
    "Now lets build out the logic of what a decorator is. Remember that in Python everything is an object. That means functions are objects which can be assigned labels and passed into other functions."
   ]
  },
  {
   "cell_type": "markdown",
   "metadata": {},
   "source": [
    "### 1. First method to use a decorator - no \"@\" when defining the decorated function"
   ]
  },
  {
   "cell_type": "markdown",
   "metadata": {},
   "source": [
    "#### Example 1.1"
   ]
  },
  {
   "cell_type": "code",
   "execution_count": 1,
   "metadata": {},
   "outputs": [],
   "source": [
    "def new_decorator(func):\n",
    "\n",
    "    def wrap_func():\n",
    "        print(\"Code would be here, before executing the func\")\n",
    "\n",
    "        func() # Execute the function passed in\n",
    "\n",
    "        print(\"Code here will execute after the func()\")\n",
    "\n",
    "    return wrap_func # Note: we return the wrapped function\n",
    "\n",
    "def func_needs_decorator():\n",
    "    print(\"This function is in need of a Decorator\")"
   ]
  },
  {
   "cell_type": "code",
   "execution_count": 2,
   "metadata": {},
   "outputs": [
    {
     "data": {
      "text/plain": [
       "<function __main__.new_decorator.<locals>.wrap_func()>"
      ]
     },
     "execution_count": 2,
     "metadata": {},
     "output_type": "execute_result"
    }
   ],
   "source": [
    "# Note: below returns the wrapper function\n",
    "new_decorator(func_needs_decorator)"
   ]
  },
  {
   "cell_type": "code",
   "execution_count": 3,
   "metadata": {},
   "outputs": [],
   "source": [
    "# We may assign a label to above\n",
    "x = new_decorator(func_needs_decorator)"
   ]
  },
  {
   "cell_type": "code",
   "execution_count": 4,
   "metadata": {},
   "outputs": [
    {
     "name": "stdout",
     "output_type": "stream",
     "text": [
      "Code would be here, before executing the func\n",
      "This function is in need of a Decorator\n",
      "Code here will execute after the func()\n"
     ]
    }
   ],
   "source": [
    "# We need to add \"()\" to execute the wrapper function\n",
    "x()"
   ]
  },
  {
   "cell_type": "markdown",
   "metadata": {},
   "source": [
    "**Note: We call the decorator function below!!**"
   ]
  },
  {
   "cell_type": "code",
   "execution_count": 5,
   "metadata": {},
   "outputs": [
    {
     "name": "stdout",
     "output_type": "stream",
     "text": [
      "Code would be here, before executing the func\n",
      "This function is in need of a Decorator\n",
      "Code here will execute after the func()\n"
     ]
    }
   ],
   "source": [
    "# Or, you may just do the following:\n",
    "# Note: We call the decorator function here.\n",
    "new_decorator(func_needs_decorator)()"
   ]
  },
  {
   "cell_type": "markdown",
   "metadata": {},
   "source": [
    "#### Example 1.2"
   ]
  },
  {
   "cell_type": "markdown",
   "metadata": {},
   "source": [
    "**Note: We call the decorator function below!!**"
   ]
  },
  {
   "cell_type": "code",
   "execution_count": 6,
   "metadata": {},
   "outputs": [
    {
     "name": "stdout",
     "output_type": "stream",
     "text": [
      "before some_func\n"
     ]
    },
    {
     "data": {
      "text/plain": [
       "2"
      ]
     },
     "execution_count": 6,
     "metadata": {},
     "output_type": "execute_result"
    }
   ],
   "source": [
    "# The function outer is the decorator\n",
    "def outer(some_func):\n",
    "    def inner():\n",
    "        print(\"before some_func\")\n",
    "        ret = some_func() # Note: we executes the function passed in here\n",
    "        return ret + 1\n",
    "    return inner # We are returning inner function\n",
    "\n",
    "def re_one():\n",
    "    return 1\n",
    "\n",
    "# Do below to use the decorator\n",
    "outer(re_one)() \n",
    "# Outer is the decorator for re_one. Any calls to re_one won't get the \n",
    "# original re_one, instead will get the decorated version."
   ]
  },
  {
   "cell_type": "markdown",
   "metadata": {},
   "source": [
    "#### Example 1.3\n",
    "**Note: the decorated function and the wrapper function take an argument.**"
   ]
  },
  {
   "cell_type": "code",
   "execution_count": 7,
   "metadata": {},
   "outputs": [
    {
     "name": "stdout",
     "output_type": "stream",
     "text": [
      "Allowed\n"
     ]
    }
   ],
   "source": [
    "def checkage(func):\n",
    "    def wrapper(a):\n",
    "        if func(a) < 18:\n",
    "            print(\"Not allowed\")\n",
    "        else:\n",
    "            print(\"Allowed\")\n",
    "    return wrapper\n",
    "\n",
    "def processdata(a):\n",
    "    return a\n",
    "\n",
    "checkage(processdata)(23)"
   ]
  },
  {
   "cell_type": "markdown",
   "metadata": {},
   "source": [
    "### <font color='red'>2. Second method to use a decorator - using \"@\" when defining the decorated function</font>"
   ]
  },
  {
   "cell_type": "markdown",
   "metadata": {},
   "source": [
    "**<font color='red'>Note: we call the decorated function instead of the decorator function below! </font>**"
   ]
  },
  {
   "cell_type": "markdown",
   "metadata": {},
   "source": [
    "#### Example 2.1"
   ]
  },
  {
   "cell_type": "code",
   "execution_count": 8,
   "metadata": {},
   "outputs": [
    {
     "name": "stdout",
     "output_type": "stream",
     "text": [
      "Code would be here, before executing the func\n",
      "This function is in need of a Decorator\n",
      "Code here will execute after the func()\n"
     ]
    }
   ],
   "source": [
    "@new_decorator\n",
    "def func_needs_func_needs_decorator_ver2():\n",
    "    print(\"This function is in need of a Decorator\")\n",
    "    \n",
    "# Note: we call the decorated function instead of the decorator function here!\n",
    "func_needs_func_needs_decorator_ver2()"
   ]
  },
  {
   "cell_type": "markdown",
   "metadata": {},
   "source": [
    "#### Example 2.2"
   ]
  },
  {
   "cell_type": "code",
   "execution_count": 9,
   "metadata": {},
   "outputs": [
    {
     "name": "stdout",
     "output_type": "stream",
     "text": [
      "before some_func\n"
     ]
    },
    {
     "data": {
      "text/plain": [
       "2"
      ]
     },
     "execution_count": 9,
     "metadata": {},
     "output_type": "execute_result"
    }
   ],
   "source": [
    "# Second method to use a decorator\n",
    "@outer\n",
    "def re_two():\n",
    "    return 1\n",
    "\n",
    "re_two()"
   ]
  },
  {
   "cell_type": "markdown",
   "metadata": {},
   "source": [
    "#### Example 2.3\n",
    "**Note: the decorated function and the wrapper function take an argument.**"
   ]
  },
  {
   "cell_type": "code",
   "execution_count": 10,
   "metadata": {},
   "outputs": [
    {
     "name": "stdout",
     "output_type": "stream",
     "text": [
      "Allowed\n"
     ]
    }
   ],
   "source": [
    "def checkage_ver2(func):\n",
    "    def wrapper(a):\n",
    "        if func(a) < 18:\n",
    "            print(\"Not allowed\")\n",
    "        else:\n",
    "            print(\"Allowed\")\n",
    "    return wrapper\n",
    "\n",
    "@checkage\n",
    "def processdata_ver2(a):\n",
    "    return a\n",
    "\n",
    "processdata_ver2(23)"
   ]
  }
 ],
 "metadata": {
  "kernelspec": {
   "display_name": "Python 3 (ipykernel)",
   "language": "python",
   "name": "python3"
  },
  "language_info": {
   "codemirror_mode": {
    "name": "ipython",
    "version": 3
   },
   "file_extension": ".py",
   "mimetype": "text/x-python",
   "name": "python",
   "nbconvert_exporter": "python",
   "pygments_lexer": "ipython3",
   "version": "3.9.11"
  }
 },
 "nbformat": 4,
 "nbformat_minor": 1
}
