{
 "cells": [
  {
   "cell_type": "code",
   "execution_count": 1,
   "id": "8a8907fe",
   "metadata": {},
   "outputs": [],
   "source": [
    "def func():\n",
    "    return 1"
   ]
  },
  {
   "cell_type": "code",
   "execution_count": 2,
   "id": "72a28768",
   "metadata": {},
   "outputs": [
    {
     "data": {
      "text/plain": [
       "1"
      ]
     },
     "execution_count": 2,
     "metadata": {},
     "output_type": "execute_result"
    }
   ],
   "source": [
    "func()"
   ]
  },
  {
   "cell_type": "code",
   "execution_count": 3,
   "id": "634e74be",
   "metadata": {},
   "outputs": [],
   "source": [
    "s = 'Global Variable'\n",
    "\n",
    "def check_for_locals():\n",
    "    print(locals())"
   ]
  },
  {
   "cell_type": "code",
   "execution_count": 5,
   "id": "2a03c54f",
   "metadata": {},
   "outputs": [
    {
     "name": "stdout",
     "output_type": "stream",
     "text": [
      "{'__name__': '__main__', '__doc__': 'Automatically created module for IPython interactive environment', '__package__': None, '__loader__': None, '__spec__': None, '__builtin__': <module 'builtins' (built-in)>, '__builtins__': <module 'builtins' (built-in)>, '_ih': ['', 'def func():\\n    return 1', 'func()', \"s = 'Global Variable'\\n\\ndef check_for_locals():\\n    print(locals())\", 'print(locals())', 'print(locals())'], '_oh': {2: 1}, '_dh': [WindowsPath('C:/Users/huiyi/FCSN/Python_Course/09-Python Decorators')], 'In': ['', 'def func():\\n    return 1', 'func()', \"s = 'Global Variable'\\n\\ndef check_for_locals():\\n    print(locals())\", 'print(locals())', 'print(locals())'], 'Out': {2: 1}, 'get_ipython': <bound method InteractiveShell.get_ipython of <ipykernel.zmqshell.ZMQInteractiveShell object at 0x000001C890C510D0>>, 'exit': <IPython.core.autocall.ZMQExitAutocall object at 0x000001C890BDABB0>, 'quit': <IPython.core.autocall.ZMQExitAutocall object at 0x000001C890BDABB0>, '_': 1, '__': '', '___': '', '_i': 'print(locals())', '_ii': \"s = 'Global Variable'\\n\\ndef check_for_locals():\\n    print(locals())\", '_iii': 'func()', '_i1': 'def func():\\n    return 1', 'func': <function func at 0x000001C890B9F1F0>, '_i2': 'func()', '_2': 1, '_i3': \"s = 'Global Variable'\\n\\ndef check_for_locals():\\n    print(locals())\", 's': 'Global Variable', 'check_for_locals': <function check_for_locals at 0x000001C88C426EE0>, '_i4': 'print(locals())', '_i5': 'print(locals())'}\n"
     ]
    }
   ],
   "source": [
    "print(locals())"
   ]
  },
  {
   "cell_type": "code",
   "execution_count": 6,
   "id": "3278f2c2",
   "metadata": {},
   "outputs": [
    {
     "name": "stdout",
     "output_type": "stream",
     "text": [
      "{'__name__': '__main__', '__doc__': 'Automatically created module for IPython interactive environment', '__package__': None, '__loader__': None, '__spec__': None, '__builtin__': <module 'builtins' (built-in)>, '__builtins__': <module 'builtins' (built-in)>, '_ih': ['', 'def func():\\n    return 1', 'func()', \"s = 'Global Variable'\\n\\ndef check_for_locals():\\n    print(locals())\", 'print(locals())', 'print(locals())', 'print(globals())'], '_oh': {2: 1}, '_dh': [WindowsPath('C:/Users/huiyi/FCSN/Python_Course/09-Python Decorators')], 'In': ['', 'def func():\\n    return 1', 'func()', \"s = 'Global Variable'\\n\\ndef check_for_locals():\\n    print(locals())\", 'print(locals())', 'print(locals())', 'print(globals())'], 'Out': {2: 1}, 'get_ipython': <bound method InteractiveShell.get_ipython of <ipykernel.zmqshell.ZMQInteractiveShell object at 0x000001C890C510D0>>, 'exit': <IPython.core.autocall.ZMQExitAutocall object at 0x000001C890BDABB0>, 'quit': <IPython.core.autocall.ZMQExitAutocall object at 0x000001C890BDABB0>, '_': 1, '__': '', '___': '', '_i': 'print(locals())', '_ii': 'print(locals())', '_iii': \"s = 'Global Variable'\\n\\ndef check_for_locals():\\n    print(locals())\", '_i1': 'def func():\\n    return 1', 'func': <function func at 0x000001C890B9F1F0>, '_i2': 'func()', '_2': 1, '_i3': \"s = 'Global Variable'\\n\\ndef check_for_locals():\\n    print(locals())\", 's': 'Global Variable', 'check_for_locals': <function check_for_locals at 0x000001C88C426EE0>, '_i4': 'print(locals())', '_i5': 'print(locals())', '_i6': 'print(globals())'}\n"
     ]
    }
   ],
   "source": [
    "print(globals())"
   ]
  },
  {
   "cell_type": "code",
   "execution_count": 7,
   "id": "4689aa26",
   "metadata": {},
   "outputs": [
    {
     "name": "stdout",
     "output_type": "stream",
     "text": [
      "dict_keys(['__name__', '__doc__', '__package__', '__loader__', '__spec__', '__builtin__', '__builtins__', '_ih', '_oh', '_dh', 'In', 'Out', 'get_ipython', 'exit', 'quit', '_', '__', '___', '_i', '_ii', '_iii', '_i1', 'func', '_i2', '_2', '_i3', 's', 'check_for_locals', '_i4', '_i5', '_i6', '_i7'])\n"
     ]
    }
   ],
   "source": [
    "print(globals().keys())"
   ]
  },
  {
   "cell_type": "code",
   "execution_count": 9,
   "id": "b6d30608",
   "metadata": {},
   "outputs": [
    {
     "data": {
      "text/plain": [
       "'Global Variable'"
      ]
     },
     "execution_count": 9,
     "metadata": {},
     "output_type": "execute_result"
    }
   ],
   "source": [
    "globals()['s']"
   ]
  },
  {
   "cell_type": "code",
   "execution_count": 10,
   "id": "a7f821be",
   "metadata": {},
   "outputs": [
    {
     "name": "stdout",
     "output_type": "stream",
     "text": [
      "{}\n"
     ]
    }
   ],
   "source": [
    "check_for_locals()"
   ]
  },
  {
   "cell_type": "code",
   "execution_count": 13,
   "id": "b57024db",
   "metadata": {},
   "outputs": [],
   "source": [
    "def hello(name='Jose'):\n",
    "    return 'Hello '+name"
   ]
  },
  {
   "cell_type": "code",
   "execution_count": 14,
   "id": "4270fe3a",
   "metadata": {},
   "outputs": [
    {
     "data": {
      "text/plain": [
       "'Hello Jose'"
      ]
     },
     "execution_count": 14,
     "metadata": {},
     "output_type": "execute_result"
    }
   ],
   "source": [
    "hello()"
   ]
  },
  {
   "cell_type": "code",
   "execution_count": 15,
   "id": "55783f4e",
   "metadata": {},
   "outputs": [],
   "source": [
    "greet = hello"
   ]
  },
  {
   "cell_type": "code",
   "execution_count": 16,
   "id": "feb259d3",
   "metadata": {},
   "outputs": [
    {
     "data": {
      "text/plain": [
       "<function __main__.hello(name='Jose')>"
      ]
     },
     "execution_count": 16,
     "metadata": {},
     "output_type": "execute_result"
    }
   ],
   "source": [
    "greet "
   ]
  },
  {
   "cell_type": "code",
   "execution_count": 17,
   "id": "db45d510",
   "metadata": {},
   "outputs": [
    {
     "data": {
      "text/plain": [
       "'Hello Jose'"
      ]
     },
     "execution_count": 17,
     "metadata": {},
     "output_type": "execute_result"
    }
   ],
   "source": [
    "greet()"
   ]
  },
  {
   "cell_type": "code",
   "execution_count": 18,
   "id": "e41037a2",
   "metadata": {},
   "outputs": [],
   "source": [
    "del hello"
   ]
  },
  {
   "cell_type": "code",
   "execution_count": 19,
   "id": "67fedf0c",
   "metadata": {},
   "outputs": [
    {
     "ename": "NameError",
     "evalue": "name 'hello' is not defined",
     "output_type": "error",
     "traceback": [
      "\u001b[1;31m---------------------------------------------------------------------------\u001b[0m",
      "\u001b[1;31mNameError\u001b[0m                                 Traceback (most recent call last)",
      "Input \u001b[1;32mIn [19]\u001b[0m, in \u001b[0;36m<cell line: 1>\u001b[1;34m()\u001b[0m\n\u001b[1;32m----> 1\u001b[0m \u001b[43mhello\u001b[49m()\n",
      "\u001b[1;31mNameError\u001b[0m: name 'hello' is not defined"
     ]
    }
   ],
   "source": [
    "hello()"
   ]
  },
  {
   "cell_type": "code",
   "execution_count": 20,
   "id": "f9ffcb1c",
   "metadata": {},
   "outputs": [
    {
     "data": {
      "text/plain": [
       "'Hello Jose'"
      ]
     },
     "execution_count": 20,
     "metadata": {},
     "output_type": "execute_result"
    }
   ],
   "source": [
    "greet()"
   ]
  },
  {
   "cell_type": "code",
   "execution_count": 21,
   "id": "f15eb956",
   "metadata": {},
   "outputs": [],
   "source": [
    "def hello(name='Jose'):\n",
    "    print('The hello () function has been executed')\n",
    "    \n",
    "    def greet():\n",
    "        return \"\\t This is inside the greet() function\"\n",
    "    \n",
    "    def welcome():\n",
    "        return \"\\t This is insdie the welcome() function\"\n",
    "    \n",
    "    print(greet())\n",
    "    print(welcome())\n",
    "    print(\"Now we are back inside the hello() function\")"
   ]
  },
  {
   "cell_type": "code",
   "execution_count": 22,
   "id": "c3fe1e9a",
   "metadata": {},
   "outputs": [
    {
     "name": "stdout",
     "output_type": "stream",
     "text": [
      "The hello () function has been executed\n",
      "\t This is inside the greet() function\n",
      "\t This is insdie the welcome() function\n",
      "Now we are back inside the hello() function\n"
     ]
    }
   ],
   "source": [
    "hello()"
   ]
  },
  {
   "cell_type": "code",
   "execution_count": 23,
   "id": "0f112162",
   "metadata": {},
   "outputs": [
    {
     "ename": "NameError",
     "evalue": "name 'welcome' is not defined",
     "output_type": "error",
     "traceback": [
      "\u001b[1;31m---------------------------------------------------------------------------\u001b[0m",
      "\u001b[1;31mNameError\u001b[0m                                 Traceback (most recent call last)",
      "Input \u001b[1;32mIn [23]\u001b[0m, in \u001b[0;36m<cell line: 1>\u001b[1;34m()\u001b[0m\n\u001b[1;32m----> 1\u001b[0m \u001b[43mwelcome\u001b[49m()\n",
      "\u001b[1;31mNameError\u001b[0m: name 'welcome' is not defined"
     ]
    }
   ],
   "source": [
    "welcome()"
   ]
  },
  {
   "cell_type": "code",
   "execution_count": 24,
   "id": "063ce4a9",
   "metadata": {},
   "outputs": [],
   "source": [
    "def hello(name='Jose'):\n",
    "    print('The hello () function has been executed')\n",
    "    \n",
    "    def greet():\n",
    "        return \"\\t This is inside the greet() function\"\n",
    "    \n",
    "    def welcome():\n",
    "        return \"\\t This is insdie the welcome() function\"\n",
    "    \n",
    "    if name == 'Jose':\n",
    "        return greet\n",
    "    else:\n",
    "        return welcome"
   ]
  },
  {
   "cell_type": "code",
   "execution_count": 25,
   "id": "f763be16",
   "metadata": {},
   "outputs": [
    {
     "name": "stdout",
     "output_type": "stream",
     "text": [
      "The hello () function has been executed\n"
     ]
    }
   ],
   "source": [
    "x = hello()"
   ]
  },
  {
   "cell_type": "code",
   "execution_count": 26,
   "id": "02e31300",
   "metadata": {},
   "outputs": [
    {
     "data": {
      "text/plain": [
       "<function __main__.hello.<locals>.greet()>"
      ]
     },
     "execution_count": 26,
     "metadata": {},
     "output_type": "execute_result"
    }
   ],
   "source": [
    "x"
   ]
  },
  {
   "cell_type": "code",
   "execution_count": 27,
   "id": "dea0a381",
   "metadata": {},
   "outputs": [
    {
     "name": "stdout",
     "output_type": "stream",
     "text": [
      "\t This is inside the greet() function\n"
     ]
    }
   ],
   "source": [
    "print(x())"
   ]
  },
  {
   "cell_type": "code",
   "execution_count": 28,
   "id": "1158064c",
   "metadata": {},
   "outputs": [
    {
     "name": "stdout",
     "output_type": "stream",
     "text": [
      "The hello () function has been executed\n"
     ]
    }
   ],
   "source": [
    "x = hello(name='Sam')"
   ]
  },
  {
   "cell_type": "code",
   "execution_count": 29,
   "id": "90fbda12",
   "metadata": {},
   "outputs": [
    {
     "name": "stdout",
     "output_type": "stream",
     "text": [
      "\t This is insdie the welcome() function\n"
     ]
    }
   ],
   "source": [
    "print(x())"
   ]
  },
  {
   "cell_type": "code",
   "execution_count": 30,
   "id": "672c37ee",
   "metadata": {},
   "outputs": [
    {
     "name": "stdout",
     "output_type": "stream",
     "text": [
      "The hello () function has been executed\n",
      "\t This is inside the greet() function\n"
     ]
    }
   ],
   "source": [
    "print(hello()())"
   ]
  },
  {
   "cell_type": "code",
   "execution_count": 31,
   "id": "27a2573a",
   "metadata": {},
   "outputs": [],
   "source": [
    "def hello():\n",
    "    return 'Hi Jose!'\n",
    "\n",
    "def other(func):\n",
    "    print('Other code would go here')\n",
    "    print(func())"
   ]
  },
  {
   "cell_type": "code",
   "execution_count": 32,
   "id": "cf2d27c7",
   "metadata": {},
   "outputs": [
    {
     "name": "stdout",
     "output_type": "stream",
     "text": [
      "Other code would go here\n",
      "Hi Jose!\n"
     ]
    }
   ],
   "source": [
    "other(hello)"
   ]
  },
  {
   "cell_type": "code",
   "execution_count": 36,
   "id": "72b1c6f6",
   "metadata": {},
   "outputs": [],
   "source": [
    "def new_decorator(func):\n",
    "    \n",
    "    def wrap_func():\n",
    "        print(\"Code would be here, before executing the func\")\n",
    "        \n",
    "        func()\n",
    "        \n",
    "        print(\"Code here will execute after the func\")\n",
    "        \n",
    "    return wrap_func\n",
    "\n",
    "def func_needs_decorator():\n",
    "    print(\"This function is in need of a decorator\")\n",
    "    \n"
   ]
  },
  {
   "cell_type": "code",
   "execution_count": 37,
   "id": "80aa4860",
   "metadata": {},
   "outputs": [
    {
     "name": "stdout",
     "output_type": "stream",
     "text": [
      "This function is in need of a decorator\n"
     ]
    }
   ],
   "source": [
    "func_needs_decorator()"
   ]
  },
  {
   "cell_type": "code",
   "execution_count": 38,
   "id": "24300d78",
   "metadata": {},
   "outputs": [],
   "source": [
    "func_needs_decorator = new_decorator(func_needs_decorator)"
   ]
  },
  {
   "cell_type": "code",
   "execution_count": 39,
   "id": "80f0c4b7",
   "metadata": {},
   "outputs": [
    {
     "name": "stdout",
     "output_type": "stream",
     "text": [
      "Code would be here, before executing the func\n",
      "This function is in need of a decorator\n",
      "Code here will execute after the func\n"
     ]
    }
   ],
   "source": [
    "func_needs_decorator()"
   ]
  },
  {
   "cell_type": "code",
   "execution_count": 40,
   "id": "bc581fa8",
   "metadata": {},
   "outputs": [],
   "source": [
    "@new_decorator\n",
    "def func_needs_decorator():\n",
    "    print(\"This function is in need of a Decorator\")"
   ]
  },
  {
   "cell_type": "code",
   "execution_count": 41,
   "id": "3de3e5d6",
   "metadata": {},
   "outputs": [
    {
     "name": "stdout",
     "output_type": "stream",
     "text": [
      "Code would be here, before executing the func\n",
      "This function is in need of a Decorator\n",
      "Code here will execute after the func\n"
     ]
    }
   ],
   "source": [
    "func_needs_decorator()"
   ]
  },
  {
   "cell_type": "code",
   "execution_count": null,
   "id": "010c857a",
   "metadata": {},
   "outputs": [],
   "source": [
    "\n",
    "\n",
    "\n",
    "\n",
    "\n",
    "\n",
    "\n",
    "\n",
    "\n",
    "\n",
    "\n",
    "\n",
    "\n",
    "\n",
    "\n",
    "\n",
    "\n",
    "\n",
    "\n",
    "\n",
    "\n",
    "\n",
    "\n",
    "\n",
    "\n",
    "\n"
   ]
  },
  {
   "cell_type": "code",
   "execution_count": 42,
   "id": "8695f70a",
   "metadata": {},
   "outputs": [],
   "source": [
    "def new_decorator(func):\n",
    "    def wrap_func():\n",
    "        print(\"Do something before we executing func\")\n",
    "        \n",
    "        func()\n",
    "        \n",
    "        print(\"Do something after we executing func\")\n",
    "        \n",
    "    return wrap_func\n",
    "\n",
    "@new_decorator\n",
    "def func_needs_decorator():\n",
    "    print(\"I need a decorator!\")\n"
   ]
  },
  {
   "cell_type": "code",
   "execution_count": 43,
   "id": "dd76b943",
   "metadata": {},
   "outputs": [
    {
     "name": "stdout",
     "output_type": "stream",
     "text": [
      "Do something before we executing func\n",
      "I need a decorator!\n",
      "Do something after we executing func\n"
     ]
    }
   ],
   "source": [
    "func_needs_decorator()"
   ]
  },
  {
   "cell_type": "code",
   "execution_count": 44,
   "id": "d6943fea",
   "metadata": {},
   "outputs": [],
   "source": [
    "def new_decorator(func):\n",
    "    def wrap_func():\n",
    "        print(\"This is something else before calling our real func\")\n",
    "        \n",
    "        func()\n",
    "        \n",
    "        print(\"This is something else after calling our real func\")\n",
    "        \n",
    "    return wrap_func\n",
    "\n"
   ]
  },
  {
   "cell_type": "code",
   "execution_count": 45,
   "id": "e2a92117",
   "metadata": {},
   "outputs": [],
   "source": [
    "def func_needs_decorator():\n",
    "    print(\"I need a decorator!\")"
   ]
  },
  {
   "cell_type": "code",
   "execution_count": 46,
   "id": "d858fbf3",
   "metadata": {},
   "outputs": [],
   "source": [
    "func_needs_decorator = new_decorator(func_needs_decorator)"
   ]
  },
  {
   "cell_type": "code",
   "execution_count": 47,
   "id": "60273c3f",
   "metadata": {},
   "outputs": [
    {
     "name": "stdout",
     "output_type": "stream",
     "text": [
      "This is something else before calling our real func\n",
      "I need a decorator!\n",
      "This is something else after calling our real func\n"
     ]
    }
   ],
   "source": [
    "func_needs_decorator()"
   ]
  },
  {
   "cell_type": "code",
   "execution_count": 48,
   "id": "7c995b76",
   "metadata": {},
   "outputs": [],
   "source": [
    "def outer(some_func):\n",
    "    def inner():\n",
    "        print(\"before some_func\")\n",
    "        ret = some_func() \n",
    "        return (ret + 1)\n",
    "    return inner # we are returning inner function\n",
    "\n",
    "def re_one():\n",
    "    return 1"
   ]
  },
  {
   "cell_type": "code",
   "execution_count": 51,
   "id": "5f873e02",
   "metadata": {},
   "outputs": [],
   "source": [
    "result = outer(re_one)"
   ]
  },
  {
   "cell_type": "code",
   "execution_count": 52,
   "id": "dfad48dd",
   "metadata": {},
   "outputs": [
    {
     "name": "stdout",
     "output_type": "stream",
     "text": [
      "before some_func\n"
     ]
    },
    {
     "data": {
      "text/plain": [
       "2"
      ]
     },
     "execution_count": 52,
     "metadata": {},
     "output_type": "execute_result"
    }
   ],
   "source": [
    "result()"
   ]
  },
  {
   "cell_type": "code",
   "execution_count": 53,
   "id": "0d084095",
   "metadata": {},
   "outputs": [],
   "source": [
    "@outer\n",
    "def re_one():\n",
    "    return 1"
   ]
  },
  {
   "cell_type": "code",
   "execution_count": 54,
   "id": "a40560fd",
   "metadata": {},
   "outputs": [
    {
     "name": "stdout",
     "output_type": "stream",
     "text": [
      "before some_func\n"
     ]
    },
    {
     "data": {
      "text/plain": [
       "2"
      ]
     },
     "execution_count": 54,
     "metadata": {},
     "output_type": "execute_result"
    }
   ],
   "source": [
    "re_one()"
   ]
  },
  {
   "cell_type": "code",
   "execution_count": 55,
   "id": "6174d465",
   "metadata": {},
   "outputs": [],
   "source": [
    "@outer\n",
    "def re_two():\n",
    "    return 2"
   ]
  },
  {
   "cell_type": "code",
   "execution_count": 56,
   "id": "a5cdef75",
   "metadata": {},
   "outputs": [
    {
     "name": "stdout",
     "output_type": "stream",
     "text": [
      "before some_func\n"
     ]
    },
    {
     "data": {
      "text/plain": [
       "3"
      ]
     },
     "execution_count": 56,
     "metadata": {},
     "output_type": "execute_result"
    }
   ],
   "source": [
    "re_two()"
   ]
  },
  {
   "cell_type": "code",
   "execution_count": 57,
   "id": "285068af",
   "metadata": {},
   "outputs": [
    {
     "name": "stdout",
     "output_type": "stream",
     "text": [
      "before some_func\n",
      "before some_func\n"
     ]
    },
    {
     "data": {
      "text/plain": [
       "3"
      ]
     },
     "execution_count": 57,
     "metadata": {},
     "output_type": "execute_result"
    }
   ],
   "source": [
    "outer(re_one)()"
   ]
  },
  {
   "cell_type": "code",
   "execution_count": 58,
   "id": "16fcc691",
   "metadata": {},
   "outputs": [],
   "source": [
    "def re_one():\n",
    "    return 1"
   ]
  },
  {
   "cell_type": "code",
   "execution_count": 59,
   "id": "877ee102",
   "metadata": {},
   "outputs": [
    {
     "name": "stdout",
     "output_type": "stream",
     "text": [
      "before some_func\n"
     ]
    },
    {
     "data": {
      "text/plain": [
       "2"
      ]
     },
     "execution_count": 59,
     "metadata": {},
     "output_type": "execute_result"
    }
   ],
   "source": [
    "outer(re_one)()"
   ]
  },
  {
   "cell_type": "code",
   "execution_count": 65,
   "id": "6cfd2a94",
   "metadata": {},
   "outputs": [],
   "source": [
    "def checkage(func):\n",
    "    def wrap_func(a):\n",
    "        if func(a) < 18:\n",
    "            print(\"Not allowed\")\n",
    "        else:\n",
    "            print(\"Allowed\")\n",
    "    return wrap_func"
   ]
  },
  {
   "cell_type": "code",
   "execution_count": 61,
   "id": "1721bc8f",
   "metadata": {},
   "outputs": [],
   "source": [
    "def processdata(a):\n",
    "    return a"
   ]
  },
  {
   "cell_type": "code",
   "execution_count": 62,
   "id": "c2cf1627",
   "metadata": {},
   "outputs": [
    {
     "name": "stdout",
     "output_type": "stream",
     "text": [
      "Allowed\n"
     ]
    }
   ],
   "source": [
    "checkage(processdata)(23)"
   ]
  },
  {
   "cell_type": "code",
   "execution_count": 63,
   "id": "0d7ba0a1",
   "metadata": {},
   "outputs": [
    {
     "name": "stdout",
     "output_type": "stream",
     "text": [
      "Not allowed\n"
     ]
    }
   ],
   "source": [
    "checkage(processdata)(15)"
   ]
  },
  {
   "cell_type": "code",
   "execution_count": 64,
   "id": "5b41af45",
   "metadata": {},
   "outputs": [
    {
     "name": "stdout",
     "output_type": "stream",
     "text": [
      "Not allowed\n"
     ]
    }
   ],
   "source": [
    "@checkage\n",
    "def wine_seller(a):\n",
    "    return a\n",
    "\n",
    "wine_seller(17)"
   ]
  },
  {
   "cell_type": "code",
   "execution_count": null,
   "id": "a8957ebd",
   "metadata": {},
   "outputs": [],
   "source": []
  }
 ],
 "metadata": {
  "kernelspec": {
   "display_name": "Python 3 (ipykernel)",
   "language": "python",
   "name": "python3"
  },
  "language_info": {
   "codemirror_mode": {
    "name": "ipython",
    "version": 3
   },
   "file_extension": ".py",
   "mimetype": "text/x-python",
   "name": "python",
   "nbconvert_exporter": "python",
   "pygments_lexer": "ipython3",
   "version": "3.9.12"
  }
 },
 "nbformat": 4,
 "nbformat_minor": 5
}
