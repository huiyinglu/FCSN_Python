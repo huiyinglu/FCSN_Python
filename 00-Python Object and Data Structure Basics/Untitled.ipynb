{
 "cells": [
  {
   "cell_type": "code",
   "execution_count": 6,
   "id": "0bc008f8",
   "metadata": {},
   "outputs": [],
   "source": [
    "tup1 = (\"Mon\", \"Tue\", \"Wed\", \"Thu\", \"Fri\")"
   ]
  },
  {
   "cell_type": "code",
   "execution_count": 7,
   "id": "d290100d",
   "metadata": {},
   "outputs": [
    {
     "name": "stdout",
     "output_type": "stream",
     "text": [
      "index 0 Mon\n",
      "index 1 Tue\n",
      "index 2 Wed\n",
      "index 3 Thu\n",
      "index 4 Fri\n"
     ]
    }
   ],
   "source": [
    "for i in range(len(tup1)):\n",
    "    print(\"index\", i, tup1[i])"
   ]
  },
  {
   "cell_type": "code",
   "execution_count": 13,
   "id": "a3a4fec8",
   "metadata": {},
   "outputs": [
    {
     "data": {
      "text/plain": [
       "('Tue', 'Wed', 'Thu')"
      ]
     },
     "execution_count": 13,
     "metadata": {},
     "output_type": "execute_result"
    }
   ],
   "source": [
    "tup1[1:4]"
   ]
  },
  {
   "cell_type": "code",
   "execution_count": null,
   "id": "f0774b04",
   "metadata": {},
   "outputs": [],
   "source": []
  }
 ],
 "metadata": {
  "kernelspec": {
   "display_name": "Python 3 (ipykernel)",
   "language": "python",
   "name": "python3"
  },
  "language_info": {
   "codemirror_mode": {
    "name": "ipython",
    "version": 3
   },
   "file_extension": ".py",
   "mimetype": "text/x-python",
   "name": "python",
   "nbconvert_exporter": "python",
   "pygments_lexer": "ipython3",
   "version": "3.9.12"
  }
 },
 "nbformat": 4,
 "nbformat_minor": 5
}
