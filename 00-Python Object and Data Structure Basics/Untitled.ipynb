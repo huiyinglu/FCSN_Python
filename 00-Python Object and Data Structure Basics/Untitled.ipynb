{
 "cells": [
  {
   "cell_type": "code",
   "execution_count": 1,
   "id": "f95fd295",
   "metadata": {},
   "outputs": [
    {
     "name": "stdout",
     "output_type": "stream",
     "text": [
      "san jose and santa clara\n"
     ]
    }
   ],
   "source": [
    "print('{0} and {1}'.format('san jose','santa clara'))"
   ]
  },
  {
   "cell_type": "code",
   "execution_count": 2,
   "id": "3d2b4d74",
   "metadata": {},
   "outputs": [
    {
     "name": "stdout",
     "output_type": "stream",
     "text": [
      "santa clara and san jose\n"
     ]
    }
   ],
   "source": [
    "print('{1} and {0}'.format('san jose', 'santa clara'))"
   ]
  },
  {
   "cell_type": "code",
   "execution_count": 4,
   "id": "5d1e551b",
   "metadata": {},
   "outputs": [
    {
     "name": "stdout",
     "output_type": "stream",
     "text": [
      "San Jose, Santa Clara\n"
     ]
    }
   ],
   "source": [
    "print('{0}, {1}'.format('San Jose', 'Santa Clara'))"
   ]
  },
  {
   "cell_type": "code",
   "execution_count": 9,
   "id": "9153b770",
   "metadata": {},
   "outputs": [
    {
     "name": "stdout",
     "output_type": "stream",
     "text": [
      "Union City\n"
     ]
    }
   ],
   "source": [
    "print('{2}'.format('San Jose', 'Santa Clara', 'Union City'))"
   ]
  },
  {
   "cell_type": "code",
   "execution_count": 10,
   "id": "19ce0b73",
   "metadata": {},
   "outputs": [
    {
     "ename": "IndexError",
     "evalue": "Replacement index 1 out of range for positional args tuple",
     "output_type": "error",
     "traceback": [
      "\u001b[1;31m---------------------------------------------------------------------------\u001b[0m",
      "\u001b[1;31mIndexError\u001b[0m                                Traceback (most recent call last)",
      "Input \u001b[1;32mIn [10]\u001b[0m, in \u001b[0;36m<cell line: 1>\u001b[1;34m()\u001b[0m\n\u001b[1;32m----> 1\u001b[0m \u001b[38;5;28mprint\u001b[39m(\u001b[38;5;124;43m'\u001b[39;49m\u001b[38;5;132;43;01m{0}\u001b[39;49;00m\u001b[38;5;124;43m and \u001b[39;49m\u001b[38;5;132;43;01m{1}\u001b[39;49;00m\u001b[38;5;124;43m'\u001b[39;49m\u001b[38;5;241;43m.\u001b[39;49m\u001b[43mformat\u001b[49m\u001b[43m(\u001b[49m\u001b[38;5;124;43m'\u001b[39;49m\u001b[38;5;124;43msan jose\u001b[39;49m\u001b[38;5;124;43m'\u001b[39;49m\u001b[43m)\u001b[49m)\n",
      "\u001b[1;31mIndexError\u001b[0m: Replacement index 1 out of range for positional args tuple"
     ]
    }
   ],
   "source": [
    "print('{0} and {1}'.format('san jose'))"
   ]
  },
  {
   "cell_type": "code",
   "execution_count": 11,
   "id": "df814191",
   "metadata": {},
   "outputs": [
    {
     "name": "stdout",
     "output_type": "stream",
     "text": [
      "san jose\n"
     ]
    }
   ],
   "source": [
    "print('{0}'.format('san jose', 'santa clara'))"
   ]
  },
  {
   "cell_type": "code",
   "execution_count": 13,
   "id": "a7f103ff",
   "metadata": {},
   "outputs": [
    {
     "name": "stdout",
     "output_type": "stream",
     "text": [
      "San Jose and Sacremento\n"
     ]
    }
   ],
   "source": [
    "print('{nearcity} and {farcity}'.format(farcity=\"Sacremento\", nearcity=\"San Jose\"))"
   ]
  },
  {
   "cell_type": "code",
   "execution_count": 15,
   "id": "c05d2d6c",
   "metadata": {},
   "outputs": [
    {
     "name": "stdout",
     "output_type": "stream",
     "text": [
      "PI =      3.142\n"
     ]
    }
   ],
   "source": [
    "import math\n",
    "print(\"PI = %10.3f\" % math.pi)"
   ]
  },
  {
   "cell_type": "code",
   "execution_count": 23,
   "id": "6f67f7e8",
   "metadata": {},
   "outputs": [
    {
     "name": "stdout",
     "output_type": "stream",
     "text": [
      "a = 005, b= 3.25, c = 5.6\n"
     ]
    }
   ],
   "source": [
    "a = 5\n",
    "b = 3.25\n",
    "c = '5.6'\n",
    "print('a = %03d, b=%5.2f, c = %s' %(a,b,c))"
   ]
  },
  {
   "cell_type": "code",
   "execution_count": 25,
   "id": "61d4ab1e",
   "metadata": {},
   "outputs": [
    {
     "name": "stdout",
     "output_type": "stream",
     "text": [
      "My 10 character, four decimal numer is:    1234.57\n",
      "My 10 character, four decimal number is  1234.5679\n"
     ]
    }
   ],
   "source": [
    "num = 1234.56789\n",
    "print(f\"My 10 character, four decimal numer is: {num:{10}.{6}}\")\n",
    "print(\"My 10 character, four decimal number is {0:10.4f}\".format(num))"
   ]
  },
  {
   "cell_type": "code",
   "execution_count": 52,
   "id": "8046dd3c",
   "metadata": {},
   "outputs": [
    {
     "name": "stdout",
     "output_type": "stream",
     "text": [
      "My 10 character, four decimal number is:   23.4568\n",
      "My 10 character, four decimal number is:   23.4568\n",
      "   23.4568\n"
     ]
    }
   ],
   "source": [
    "num = 23.45678\n",
    "#num = 1234.56789\n",
    "print(\"My 10 character, four decimal number is:{0:10.4f}\".format(num))\n",
    "print(f\"My 10 character, four decimal number is:{num:{10}.{6}}\")\n",
    "print(f\"{num:10.4f}\")"
   ]
  },
  {
   "cell_type": "code",
   "execution_count": 54,
   "id": "44d1c997",
   "metadata": {},
   "outputs": [
    {
     "name": "stdout",
     "output_type": "stream",
     "text": [
      "10.12\n"
     ]
    }
   ],
   "source": [
    "a = 10.1234\n",
    "print(f\"{a:.2f}\")"
   ]
  },
  {
   "cell_type": "code",
   "execution_count": 55,
   "id": "ed0f7e90",
   "metadata": {},
   "outputs": [
    {
     "name": "stdout",
     "output_type": "stream",
     "text": [
      "     10.12\n"
     ]
    }
   ],
   "source": [
    "a = 10.1234\n",
    "print(f\"{a:10.2f}\")"
   ]
  },
  {
   "cell_type": "code",
   "execution_count": 56,
   "id": "aea25310",
   "metadata": {},
   "outputs": [
    {
     "name": "stdout",
     "output_type": "stream",
     "text": [
      "I am going to insert something here.\n"
     ]
    }
   ],
   "source": [
    "print(\"I am going to insert %s here.\" %\"something\")"
   ]
  },
  {
   "cell_type": "code",
   "execution_count": 58,
   "id": "9eca34f8",
   "metadata": {},
   "outputs": [
    {
     "name": "stdout",
     "output_type": "stream",
     "text": [
      "I am going to insert something here, and more here.\n"
     ]
    }
   ],
   "source": [
    "print(\"I am going to insert %s here, and %s here.\" %(\"something\", \"more\"))"
   ]
  },
  {
   "cell_type": "code",
   "execution_count": 60,
   "id": "4d96145b",
   "metadata": {},
   "outputs": [
    {
     "name": "stdout",
     "output_type": "stream",
     "text": [
      "I am going to inject some here, and more here.\n"
     ]
    }
   ],
   "source": [
    "x, y = \"some\", \"more\"\n",
    "print(\"I am going to inject %s here, and %s here.\" %(x,y))"
   ]
  },
  {
   "cell_type": "code",
   "execution_count": 62,
   "id": "2796c0e7",
   "metadata": {},
   "outputs": [
    {
     "name": "stdout",
     "output_type": "stream",
     "text": [
      "He said his name is Fred.\n",
      "He said his name is 'Fred'.\n"
     ]
    }
   ],
   "source": [
    "print(\"He said his name is %s.\" %'Fred')\n",
    "print(\"He said his name is %r.\" %'Fred')"
   ]
  },
  {
   "cell_type": "code",
   "execution_count": 65,
   "id": "eba5d5fc",
   "metadata": {},
   "outputs": [
    {
     "name": "stdout",
     "output_type": "stream",
     "text": [
      "I once caught a fish this \tbig\n",
      "I once caught a fish 'this \\tbig'\n"
     ]
    }
   ],
   "source": [
    "print(\"I once caught a fish %s\" %'this \\tbig')\n",
    "print(\"I once caught a fish %r\" %'this \\tbig')"
   ]
  },
  {
   "cell_type": "code",
   "execution_count": 67,
   "id": "a8d136cc",
   "metadata": {},
   "outputs": [
    {
     "name": "stdout",
     "output_type": "stream",
     "text": [
      "I wrote 3.75 programs today\n",
      "I wrote 3 programs today\n"
     ]
    }
   ],
   "source": [
    "print(\"I wrote %s programs today\" %3.75)\n",
    "print(\"I wrote %d programs today\" %3.75)"
   ]
  },
  {
   "cell_type": "code",
   "execution_count": 75,
   "id": "4a65a0b3",
   "metadata": {},
   "outputs": [
    {
     "name": "stdout",
     "output_type": "stream",
     "text": [
      "Floating number is  3.14\n",
      "Floating number is 3\n",
      "Floating number is 3.14400\n",
      "Floating number is       3.14\n",
      "Floating number is                      3.14\n",
      "Floating number is 3.14\n"
     ]
    }
   ],
   "source": [
    "print(\"Floating number is %5.2f\" %(3.144))\n",
    "print(\"Floating number is %1.0f\" %(3.144))\n",
    "print(\"Floating number is %1.5f\" %(3.144))\n",
    "print(\"Floating number is %10.2f\" %(3.144))\n",
    "print(\"Floating number is %25.2f\" %(3.144))\n",
    "print(\"Floating number is %.2f\" %(3.144))"
   ]
  },
  {
   "cell_type": "code",
   "execution_count": 76,
   "id": "1de2006d",
   "metadata": {},
   "outputs": [
    {
     "name": "stdout",
     "output_type": "stream",
     "text": [
      "First One, Second 23456.79, third 5000\n"
     ]
    }
   ],
   "source": [
    "print(\"First %s, Second %5.2f, third %d\" %('One', 23456.7895, 5000))"
   ]
  },
  {
   "cell_type": "code",
   "execution_count": 4,
   "id": "cb4ae4c6",
   "metadata": {},
   "outputs": [
    {
     "data": {
      "text/plain": [
       "22"
      ]
     },
     "execution_count": 4,
     "metadata": {},
     "output_type": "execute_result"
    }
   ],
   "source": [
    "my_file = open('mytext.txt', 'w+')\n",
    "my_file.write(\"Let's write the first line.\\n\")\n",
    "my_file.write(\"Add second line.\\n\")\n",
    "my_file.write(\"This is the third line.\\n\")\n",
    "my_file.write(\"Finally, we are done!\\n\")"
   ]
  },
  {
   "cell_type": "code",
   "execution_count": 6,
   "id": "62b15f6a",
   "metadata": {},
   "outputs": [
    {
     "data": {
      "text/plain": [
       "[\"Let's write the first line.\\n\",\n",
       " 'Add second line.\\n',\n",
       " 'This is the third line.\\n',\n",
       " 'Finally, we are done!\\n']"
      ]
     },
     "execution_count": 6,
     "metadata": {},
     "output_type": "execute_result"
    }
   ],
   "source": [
    "my_file.seek(0)\n",
    "my_file.readlines()"
   ]
  },
  {
   "cell_type": "code",
   "execution_count": 7,
   "id": "ea74cbae",
   "metadata": {},
   "outputs": [],
   "source": [
    "my_file.close()"
   ]
  },
  {
   "cell_type": "code",
   "execution_count": 9,
   "id": "fc67f125",
   "metadata": {},
   "outputs": [
    {
     "data": {
      "text/plain": [
       "[\"Let's write the first line.\\n\",\n",
       " 'Add second line.\\n',\n",
       " 'This is the third line.\\n',\n",
       " 'Finally, we are done!\\n',\n",
       " \"Forgot one thing. Let's add one more line...\\n\"]"
      ]
     },
     "execution_count": 9,
     "metadata": {},
     "output_type": "execute_result"
    }
   ],
   "source": [
    "my_file = open(\"mytext.txt\", \"a+\")\n",
    "my_file.write(\"Forgot one thing. Let's add one more line...\\n\")\n",
    "\n",
    "my_file.seek(0)\n",
    "my_file.readlines()"
   ]
  },
  {
   "cell_type": "code",
   "execution_count": null,
   "id": "152bf714",
   "metadata": {},
   "outputs": [],
   "source": []
  }
 ],
 "metadata": {
  "kernelspec": {
   "display_name": "Python 3 (ipykernel)",
   "language": "python",
   "name": "python3"
  },
  "language_info": {
   "codemirror_mode": {
    "name": "ipython",
    "version": 3
   },
   "file_extension": ".py",
   "mimetype": "text/x-python",
   "name": "python",
   "nbconvert_exporter": "python",
   "pygments_lexer": "ipython3",
   "version": "3.9.12"
  }
 },
 "nbformat": 4,
 "nbformat_minor": 5
}
