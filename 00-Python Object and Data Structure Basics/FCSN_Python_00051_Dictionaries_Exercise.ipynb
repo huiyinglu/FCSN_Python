{
 "cells": [
  {
   "cell_type": "markdown",
   "metadata": {},
   "source": [
    "# Dictionaries Exercise"
   ]
  },
  {
   "cell_type": "markdown",
   "metadata": {},
   "source": [
    "## Review\n",
    "1. A Python dictionary is an **unordered** collection of items (or **mappings**). Each item of a dictionary has a **key/value** pair. (Or each mapping maps a key to a value). You may also say the objects in a dictionary are stored (or indexed) by a key.\n",
    "2. A Python dictionary is **mutable** means you may change the key/value mapping dynamically after creation.\n",
    "3. The keys of a Python dictionary can be any immutable type; strings and numbers can always be keys. Tuples can be used as keys if they contain only strings, numbers, or tuples.\n",
    "4. The value of a Python dictionary can be almost any Python object.\n",
    "5. You may define a Python dictionary by **\"{\"**, a list of items separated by **\",\"**, then a **\"}\"**. Each item is in the form key **:** value.\n",
    "    - example: {key1: value1, key1: value2, key3: value3}.\n",
    "6. You may also create an empty dictionary first, then create the key, value mappying by an assignment statement.\n",
    "    - example: d = {} d[key1] = value1 etc.\n",
    "7. You may get a dictionary value by reference their key\n",
    "    - example: d[key]\n",
    "8. You may use dictionary methods by using \"yourdictionary.method()\".\n",
    "    - example: d.keys(), d.values(), d.items(), etc."
   ]
  },
  {
   "cell_type": "markdown",
   "metadata": {},
   "source": [
    "## Exercise Section"
   ]
  },
  {
   "cell_type": "markdown",
   "metadata": {},
   "source": [
    "### Creating a dictionary"
   ]
  },
  {
   "cell_type": "code",
   "execution_count": 5,
   "metadata": {},
   "outputs": [
    {
     "name": "stdout",
     "output_type": "stream",
     "text": [
      "{'95117': 'San Jose', '94086': 'Sunnyvale', '95014': 'Cupertino'}\n"
     ]
    }
   ],
   "source": [
    "# Create a dictionary called \"ziploc\" with the following mappings:\n",
    "# '95117' maps to 'San Jose', '94086' maps to Sunnyvale' and '95014' maps to 'Cupertino'\n",
    "# Method 1\n",
    "ziploc = {'95117': 'San Jose', '94086': 'Sunnyvale', '95014': 'Cupertino'}\n",
    "\n",
    "print(ziploc)"
   ]
  },
  {
   "cell_type": "code",
   "execution_count": 4,
   "metadata": {},
   "outputs": [
    {
     "name": "stdout",
     "output_type": "stream",
     "text": [
      "{'95117': 'San Jose', '94086': 'Sunnyvale', '95014': 'Cupertino'}\n"
     ]
    }
   ],
   "source": [
    "# Method 2\n",
    "ziploc = {}\n",
    "ziploc['95117'] = 'San Jose'\n",
    "ziploc['94086'] = 'Sunnyvale'\n",
    "ziploc['95014'] = 'Cupertino'\n",
    "\n",
    "print(ziploc)"
   ]
  },
  {
   "cell_type": "code",
   "execution_count": 7,
   "metadata": {},
   "outputs": [
    {
     "name": "stdout",
     "output_type": "stream",
     "text": [
      "{'key1': 123, 'key2': [101, 202, 303], 'key3': 'Hello World'}\n"
     ]
    }
   ],
   "source": [
    "# Create a dictionary with the following mapings:\n",
    "# 'key1' maps to 123, 'key2' maps to [101, 202, 303], 'key3' maps to 'Hello World'\n",
    "\n",
    "my_dict = {'key1': 123, 'key2': [101, 202, 303], 'key3': 'Hello World'}\n",
    "print(my_dict)"
   ]
  },
  {
   "cell_type": "markdown",
   "metadata": {},
   "source": [
    "### Accessing objects from a dictionary"
   ]
  },
  {
   "cell_type": "code",
   "execution_count": 8,
   "metadata": {},
   "outputs": [
    {
     "data": {
      "text/plain": [
       "'hello'"
      ]
     },
     "execution_count": 8,
     "metadata": {},
     "output_type": "execute_result"
    }
   ],
   "source": [
    "d = {'simple_key':'hello'}\n",
    "# Grab 'hello'\n",
    "\n",
    "print(d['simple_key'])"
   ]
  },
  {
   "cell_type": "code",
   "execution_count": 12,
   "metadata": {},
   "outputs": [
    {
     "data": {
      "text/plain": [
       "'hello'"
      ]
     },
     "execution_count": 12,
     "metadata": {},
     "output_type": "execute_result"
    }
   ],
   "source": [
    "d = {'k1':{'k2':'hello'}}\n",
    "# Grab 'hello'\n",
    "\n",
    "d['k1']['k2']"
   ]
  },
  {
   "cell_type": "code",
   "execution_count": 18,
   "metadata": {},
   "outputs": [
    {
     "data": {
      "text/plain": [
       "'hello'"
      ]
     },
     "execution_count": 18,
     "metadata": {},
     "output_type": "execute_result"
    }
   ],
   "source": [
    "# Getting a little tricker\n",
    "d = {'k1':[{'nest_key':['this is deep',['hello']]}]}\n",
    "\n",
    "d['k1'][0]['nest_key'][1][0]\n",
    "#Grab 'hello'"
   ]
  },
  {
   "cell_type": "code",
   "execution_count": null,
   "metadata": {},
   "outputs": [],
   "source": [
    "# OPTIONAL:\n",
    "# This will be hard and annoying!\n",
    "d = {'k1':[1,2,{'k2':['this is tricky',{'tough':[1,2,['hello']]}]}]}"
   ]
  },
  {
   "cell_type": "markdown",
   "metadata": {},
   "source": [
    "## Dictionary Methods"
   ]
  },
  {
   "cell_type": "code",
   "execution_count": 1,
   "metadata": {},
   "outputs": [],
   "source": [
    "# Create a typical dictionary\n",
    "d = {'key1':1,'key2':2,'key3':3}"
   ]
  },
  {
   "cell_type": "code",
   "execution_count": 13,
   "metadata": {},
   "outputs": [
    {
     "name": "stdout",
     "output_type": "stream",
     "text": [
      "dict_keys(['key1', 'key2', 'key3'])\n"
     ]
    }
   ],
   "source": [
    "# Use a dictionary built-in method to return a list of all keys \n",
    "print(d.keys())\n",
    "\n",
    "# list(d.keys()) type cast the dict object type to list"
   ]
  },
  {
   "cell_type": "code",
   "execution_count": 11,
   "metadata": {},
   "outputs": [
    {
     "data": {
      "text/plain": [
       "[1, 2, 3]"
      ]
     },
     "execution_count": 11,
     "metadata": {},
     "output_type": "execute_result"
    }
   ],
   "source": [
    "# Use a dictionary built-in method to return a list of all values\n",
    "d.values()\n",
    "\n",
    "list(d.values())"
   ]
  },
  {
   "cell_type": "code",
   "execution_count": 12,
   "metadata": {},
   "outputs": [
    {
     "data": {
      "text/plain": [
       "[('key1', 1), ('key2', 2), ('key3', 3)]"
      ]
     },
     "execution_count": 12,
     "metadata": {},
     "output_type": "execute_result"
    }
   ],
   "source": [
    "# Use a dictionary built-in method to print out all key,value pair in the dictionary\n",
    "d.items()\n",
    "\n",
    "list(d.items())"
   ]
  },
  {
   "cell_type": "code",
   "execution_count": null,
   "metadata": {},
   "outputs": [],
   "source": []
  }
 ],
 "metadata": {
  "kernelspec": {
   "display_name": "Python 3 (ipykernel)",
   "language": "python",
   "name": "python3"
  },
  "language_info": {
   "codemirror_mode": {
    "name": "ipython",
    "version": 3
   },
   "file_extension": ".py",
   "mimetype": "text/x-python",
   "name": "python",
   "nbconvert_exporter": "python",
   "pygments_lexer": "ipython3",
   "version": "3.9.12"
  }
 },
 "nbformat": 4,
 "nbformat_minor": 1
}
