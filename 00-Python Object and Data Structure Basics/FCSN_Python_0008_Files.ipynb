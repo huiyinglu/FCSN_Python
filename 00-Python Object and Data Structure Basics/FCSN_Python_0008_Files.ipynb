{
 "cells": [
  {
   "cell_type": "markdown",
   "metadata": {},
   "source": [
    "# Files\n",
    "Python uses file objects to interact with external files on your computer. These file objects can be any sort of file you have on your computer, whether it be an audio file, a text file, emails, Excel documents, etc.\n",
    "\n",
    "Python has a built-in open function that allows us to open and play with basic file types. First we will need a file though. We're going to use some IPython magic to create a text file!"
   ]
  },
  {
   "cell_type": "markdown",
   "metadata": {},
   "source": [
    "## Optional - IPython Writing a File \n",
    "#### This function is specific to jupyter notebooks!"
   ]
  },
  {
   "cell_type": "code",
   "execution_count": null,
   "metadata": {},
   "outputs": [],
   "source": [
    "%%writefile test.txt\n",
    "Hello, this is a quick test file."
   ]
  },
  {
   "cell_type": "markdown",
   "metadata": {},
   "source": [
    "## 1. Python Opening a file\n",
    "\n",
    "Let's beginning by opening the file test.txt that is located in the same directory as this notebook. For now we will work with files located in the same directory as the notebook or .py script you are using.\n",
    "\n",
    "It is very easy to get an error on this step:"
   ]
  },
  {
   "cell_type": "code",
   "execution_count": null,
   "metadata": {},
   "outputs": [],
   "source": [
    "myfile = open('whoops.txt')"
   ]
  },
  {
   "cell_type": "markdown",
   "metadata": {},
   "source": [
    "To avoid this error,make sure your .txt file is saved in the same location as your notebook, to check your notebook location, use **pwd**:"
   ]
  },
  {
   "cell_type": "code",
   "execution_count": null,
   "metadata": {},
   "outputs": [],
   "source": [
    "pwd"
   ]
  },
  {
   "cell_type": "markdown",
   "metadata": {},
   "source": [
    "**Alternatively, to grab files from any location on your computer, simply pass in the entire file path.**\n",
    "\n",
    "For Windows you need to use double \\ so python doesn't treat the second \\ as an escape character, a file path is in the form:\n",
    "\n",
    "    myfile = open(\"C:\\\\Users\\\\YourUserName\\\\Home\\\\Folder\\\\myfile.txt\")\n",
    "\n",
    "For MacOS and Linux you use slashes in the opposite direction:\n",
    "\n",
    "    myfile = open(\"/Users/YouUserName/Folder/myfile.txt\")\n",
    "\n",
    "Note: open() returns a **`file object` (file handler)** whose type depends on the mode, and **through which the standard file operations such as reading and writing are performed.** "
   ]
  },
  {
   "cell_type": "markdown",
   "metadata": {},
   "source": [
    "### File functions shown in the following examples:\n",
    "1. open\n",
    "2. read\n",
    "  * Syntax: fileObject.read(size=-1)\n",
    "  * Read from underlying buffer until we have n (specifized by `size` argument) characters or we hit EOF. If n is negative or omitted, **`read until EOF`**.\n",
    "\n",
    "3. readlines\n",
    "    * Syntax: fileObject.readlines(hint=-1)\n",
    "    * Readlines returns **`a list of the lines`** in the file.\n",
    "4. seek\n",
    "5. close"
   ]
  },
  {
   "cell_type": "code",
   "execution_count": null,
   "metadata": {},
   "outputs": [],
   "source": [
    "# Open the text.txt we made earlier\n",
    "my_file = open('test.txt')"
   ]
  },
  {
   "cell_type": "code",
   "execution_count": null,
   "metadata": {},
   "outputs": [],
   "source": [
    "# We can now read the file\n",
    "my_file.read()"
   ]
  },
  {
   "cell_type": "code",
   "execution_count": null,
   "metadata": {},
   "outputs": [],
   "source": [
    "# But what happens if we try to read it again?\n",
    "my_file.read()"
   ]
  },
  {
   "cell_type": "markdown",
   "metadata": {},
   "source": [
    "This happens because you can imagine the reading \"cursor\" is at the end of the file after having read it. So there is nothing left to read. We can reset the \"cursor\" like this:"
   ]
  },
  {
   "cell_type": "code",
   "execution_count": null,
   "metadata": {},
   "outputs": [],
   "source": [
    "# Seek to the start of file (index 0)\n",
    "my_file.seek(0)"
   ]
  },
  {
   "cell_type": "code",
   "execution_count": null,
   "metadata": {},
   "outputs": [],
   "source": [
    "# Now read again\n",
    "my_file.read()"
   ]
  },
  {
   "cell_type": "markdown",
   "metadata": {},
   "source": [
    "You can read a file line by line using the readlines method. Use caution with large files, since everything will be held in memory. We will learn how to iterate over large files later in the course."
   ]
  },
  {
   "cell_type": "code",
   "execution_count": null,
   "metadata": {},
   "outputs": [],
   "source": [
    "# Readlines returns a list of the lines in the file\n",
    "my_file.seek(0)\n",
    "my_file.readlines()"
   ]
  },
  {
   "cell_type": "markdown",
   "metadata": {},
   "source": [
    "When you have finished using a file, it is always good practice to close it."
   ]
  },
  {
   "cell_type": "code",
   "execution_count": null,
   "metadata": {},
   "outputs": [],
   "source": [
    "my_file.close()"
   ]
  },
  {
   "cell_type": "markdown",
   "metadata": {},
   "source": [
    "## 2. Writing to a File\n",
    "\n",
    "By default, the `open()` function will only allow us to read the file. We need to pass the argument `'w'` to write over the file. \n",
    "\n",
    "+ **Syntax :** open(file, `mode='r'`...). The meaning for the characters passed in as the second argument is:\n",
    "    + 'r'       open for reading (default)\n",
    "    + 'w'       open for writing, truncating the file first\n",
    "    + 'a'       open for writing, appending to the end of the file if it exists\n",
    "    + '+'       open a disk file for updating (**`reading and writing`**)\n",
    "    \n",
    "For example:"
   ]
  },
  {
   "cell_type": "code",
   "execution_count": null,
   "metadata": {},
   "outputs": [],
   "source": [
    "# Add a second argument to the function, 'w' which stands for write.\n",
    "# Passing 'w+' lets us read and write to the file\n",
    "\n",
    "my_file = open('test.txt','w+')"
   ]
  },
  {
   "cell_type": "markdown",
   "metadata": {},
   "source": [
    "### <strong><font color='red'>Use caution!</font></strong> \n",
    "Opening a file with `'w'` or `'w+'` truncates the original, meaning that anything that was in the original file **is deleted**!"
   ]
  },
  {
   "cell_type": "markdown",
   "metadata": {},
   "source": [
    "### File functions shown in the following examples:\n",
    "1. write\n",
    "    * Syntax: fileObject.write(text)\n",
    "    * Write string to the file. Returns the number of characters written (which is always equal to the length of the string).\n",
    "2. writelines\n",
    "    * Syntax: fileObject.writelines(list)\n",
    "    * Write a list of lines to a file. Line separators are not added, so it is usual for each of the lines provided to have a line separator at the end."
   ]
  },
  {
   "cell_type": "code",
   "execution_count": null,
   "metadata": {},
   "outputs": [],
   "source": [
    "# Write to the file\n",
    "my_file.write('This is a new line')"
   ]
  },
  {
   "cell_type": "code",
   "execution_count": null,
   "metadata": {},
   "outputs": [],
   "source": [
    "# Read the file\n",
    "my_file.seek(0)\n",
    "my_file.read()"
   ]
  },
  {
   "cell_type": "code",
   "execution_count": null,
   "metadata": {},
   "outputs": [],
   "source": [
    "my_file.close()  # always do this when you're done with a file"
   ]
  },
  {
   "cell_type": "code",
   "execution_count": null,
   "metadata": {},
   "outputs": [],
   "source": [
    "# Writing a file\n",
    "fo = open('python_list1.txt', 'w+') \n",
    "# Here the text file is opened in write and read mode. \n",
    "# You may write just one line without using a list([])\n",
    "fo.writelines('1,2,3\\n') # The list just have one line\n",
    "fo.writelines('a,b,c\\n') # The list just have one line\n",
    "# You may use list([]) to write several lines at a time.\n",
    "fo.writelines(['4,5,6\\n', 'd,e,f\\n'])\n",
    "print(fo)\n",
    "fo.close()\n",
    "\n",
    "fo = open('python_list1.txt', 'r')\n",
    "for items in fo.readlines():\n",
    "    print(items.strip())\n",
    "fo.close()"
   ]
  },
  {
   "cell_type": "markdown",
   "metadata": {},
   "source": [
    "## 3. Appending to a File\n",
    "Passing the argument `'a'` opens the file and puts the pointer at the **end**, so anything written is appended. Like `'w+'`, `'a+'` lets us read and write to a file. If the file does not exist, one will be created."
   ]
  },
  {
   "cell_type": "code",
   "execution_count": null,
   "metadata": {},
   "outputs": [],
   "source": [
    "my_file = open('test.txt','a+')\n",
    "my_file.write('\\nThis is text being appended to test.txt')\n",
    "my_file.write('\\nAnd another line here.')"
   ]
  },
  {
   "cell_type": "code",
   "execution_count": null,
   "metadata": {},
   "outputs": [],
   "source": [
    "my_file.seek(0)\n",
    "# Note: you have to apply print on my_file.read()\n",
    "print(my_file.read())"
   ]
  },
  {
   "cell_type": "code",
   "execution_count": null,
   "metadata": {},
   "outputs": [],
   "source": [
    "my_file.close()"
   ]
  },
  {
   "cell_type": "code",
   "execution_count": null,
   "metadata": {},
   "outputs": [],
   "source": [
    "# appending to a file\n",
    "fo = open('python_list1.txt','a') \n",
    "# here the text file is opened in append mode\n",
    "fo.writelines('little puppy\\n')\n",
    "fo.writelines('cute cub \\n')\n",
    "print(fo)\n",
    "print(\"After appending, writing, trying to print the file without seeking\")\n",
    "fo.close()\n",
    "\n",
    "# You may open the file in 'r' mode for just reading\n",
    "fo = open('python_list1.txt', 'a+') \n",
    "fo.seek(0)\n",
    "print(\"Open file in 'a+' mode, seek/reset pointer to 0, use readlines and print line by line...\")\n",
    "for items in fo.readlines():\n",
    "    print(items.strip())\n",
    "fo.close()"
   ]
  },
  {
   "cell_type": "markdown",
   "metadata": {},
   "source": [
    "### Optional - Appending with `%%writefile`\n",
    "We can do the same thing using IPython cell magic:"
   ]
  },
  {
   "cell_type": "code",
   "execution_count": null,
   "metadata": {},
   "outputs": [],
   "source": [
    "%%writefile -a test.txt\n",
    "\n",
    "This is text being appended to test.txt\n",
    "And another line here.\n"
   ]
  },
  {
   "cell_type": "markdown",
   "metadata": {},
   "source": [
    "Add a blank space if you want the first line to begin on its own line, as Jupyter won't recognize escape sequences like `\\n`"
   ]
  },
  {
   "cell_type": "markdown",
   "metadata": {},
   "source": [
    "## 4. Iterating through a File"
   ]
  },
  {
   "cell_type": "markdown",
   "metadata": {},
   "source": [
    "Now we can use a little bit of flow to tell the program to for through every line of the file and do something:"
   ]
  },
  {
   "cell_type": "code",
   "execution_count": null,
   "metadata": {},
   "outputs": [],
   "source": [
    "# Let's create python_list.txt first\n",
    "f = open('python_list.txt', 'w+')\n",
    "f.write('dogs\\n\\n')\n",
    "f.write('frogs\\n\\n\\n')\n",
    "f.write('bogs\\n\\n')\n",
    "f.write('logs\\n\\n\\n\\n')\n",
    "f.write('lots\\n')\n",
    "# f.writelines(['dogs\\n', '\\n', 'frogs\\n', '\\n', '\\n', 'bogs\\n', '\\n', 'logs\\n', '\\n', '\\n', '\\n', 'logs\\n'])\n",
    "f.close()\n",
    "\n",
    "f1 = open('python_list.txt', 'r')\n",
    "for line in f1.readlines():\n",
    "    print(line)\n",
    "f1.close()"
   ]
  },
  {
   "cell_type": "code",
   "execution_count": null,
   "metadata": {},
   "outputs": [],
   "source": [
    "f = open('python_list.txt')\n",
    "# Let's print out f.readlines()\n",
    "print(f.readlines()) # Note: f.readlines() is a list\n",
    "print()\n",
    "\n",
    "# Run this cell once, remove the pound sign before \"f.seek(0)\", then run this cell again\n",
    "# Reset cursor to at the beginning of the file\n",
    "f.seek(0)\n",
    "\n",
    "for line in f.readlines():\n",
    "    print(line.strip())\n",
    "# strip removes newline, carriage return, space etc at the beginning and at the end of the line.\n",
    "f.close()"
   ]
  },
  {
   "cell_type": "code",
   "execution_count": null,
   "metadata": {},
   "outputs": [],
   "source": [
    "f = open('python_list.txt')\n",
    "for line in f.readlines():\n",
    "    cleanedline = line.strip() \n",
    "    if cleanedline:\n",
    "        #Skip empty lines which just have newline character.\n",
    "        print(cleanedline)\n",
    "f.close()"
   ]
  },
  {
   "cell_type": "code",
   "execution_count": null,
   "metadata": {},
   "outputs": [],
   "source": [
    "# tell() returns the current position within the file.\n",
    "fo = open('python_list.txt', 'r')\n",
    "print(fo.tell())\n",
    "\n",
    "for line in fo.readlines():\n",
    "    print(line)\n",
    "\n",
    "print(fo.tell())\n",
    "fo.close()"
   ]
  },
  {
   "cell_type": "markdown",
   "metadata": {},
   "source": [
    "### With statement in Python\n",
    "\n",
    "In Python, **`with`** statement is used in `exception handling` to make the code **cleaner** and much more readable. It simplifies the management of common resources like file streams. **There is no need to call file.close() when using with statement**. The with statement itself ensures proper acquisition and release of resources."
   ]
  },
  {
   "cell_type": "code",
   "execution_count": null,
   "metadata": {},
   "outputs": [],
   "source": [
    "# The with keyword is called the context manager\n",
    "# It will close the file whether or not there is an exception\n",
    "with open('python_list1.txt', 'r') as fo:\n",
    "    for line in fo.readlines():\n",
    "        print(line.strip())\n",
    "# close does not have to be called exclusively"
   ]
  },
  {
   "cell_type": "code",
   "execution_count": null,
   "metadata": {},
   "outputs": [],
   "source": []
  }
 ],
 "metadata": {
  "kernelspec": {
   "display_name": "Python 3 (ipykernel)",
   "language": "python",
   "name": "python3"
  },
  "language_info": {
   "codemirror_mode": {
    "name": "ipython",
    "version": 3
   },
   "file_extension": ".py",
   "mimetype": "text/x-python",
   "name": "python",
   "nbconvert_exporter": "python",
   "pygments_lexer": "ipython3",
   "version": "3.9.15"
  }
 },
 "nbformat": 4,
 "nbformat_minor": 1
}
