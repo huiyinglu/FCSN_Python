{
 "cells": [
  {
   "cell_type": "markdown",
   "id": "48bf3636",
   "metadata": {},
   "source": [
    "# Strings Exercise"
   ]
  },
  {
   "cell_type": "markdown",
   "id": "107f912c",
   "metadata": {},
   "source": [
    "## Review\n",
    "1. To create a string in Python you need to use either `single quotes` or `double quotes`. Note: if you have a single quote (or double quote) within your string, you need to use double quotes (or single quotes) to create your string object.\n",
    "    - Example: str1 = \"It's a wonderful world!\"\n",
    "    - Example: str2 = 'His first name is \"John\"'\n",
    "2. **String Indexing**: Strings are **sequences**, which means Python can use indexes to call parts of the sequence. *Indexing* means referring to an element of an iterable by its **position** within the iterable. In Python, we use brackets `[]` after an object to call its __*index*__. We should also note that indexing starts at **0** for Python and we use index __-1__ to access the __*last*__ element in a sequence.\n",
    "    - Example: str1 = \"Hello World\"\n",
    "     - str1[0] refers to the 1st element (element at position 0), which is \"H\", \n",
    "     - str1[1] refers to the 2nd element (element at position 1), which is \"e\",\n",
    "     - str1[2] refers to the 3rd element (element at position 2), which is \"l\",\n",
    "     - str1[3] refers to the 4th element (element at position 3), which is \"l\",\n",
    "     - ...\n",
    "     - str1[10] refers to the 11th element (element at position 10), which is \"d\".\n",
    "     - str1[-1] refers to the last element, which is \"d\".\n",
    "3. **String Slicing**: We can use a `:` to perform __*slicing*__ which grabs everything up to a designated point. \n",
    "    - Example: assume that str1 is defined as above, str1[1:4] returns \"ell\" (elements at position 1 ~ 3, not include element at position 4)\n",
    "4. We can also use `index` and `slice` notation to grab elements of a sequence by a specified __step__ size.\n",
    "    - Syntax: **`string[start:end:step]`**. __Note:__ you may skip start, end, or step. (the default value for start is 0, the default value for end is the last element and the default step size is 1).\n",
    "    - We can use two colons in a row and then a number specifying the frequency to grab elements.\n",
    "     - Example: assume that str1 is defined as above, str1[::2] returns 'HloWrd'\n",
    "5. We can also use negative indexing to go backwards.\n",
    "    - Example: str1[::-1] returns 'dlroW olleH'(print 'Hello World' backwards).\n",
    "6. **Basic Built-in String methods:** Objects in Python usually have built-in methods. These methods are functions inside the object that can perform actions or commands on the object itself. We call methods with a `period` and then the `method name`. \n",
    "    - Syntax: **`object.method(parameters)`**. Where parameters are extra arguments we can pass into the method.\n",
    "     - Example: assume str1 is defined as above. str1.upper() shows str1 in upper case."
   ]
  },
  {
   "cell_type": "markdown",
   "id": "9abef906",
   "metadata": {},
   "source": [
    "## Exercise Section"
   ]
  },
  {
   "cell_type": "code",
   "execution_count": null,
   "id": "9544bd19",
   "metadata": {},
   "outputs": [],
   "source": [
    "# Assign s as a string\n",
    "s = 'Beautiful Sunday'"
   ]
  },
  {
   "cell_type": "code",
   "execution_count": null,
   "id": "6f3c7c06",
   "metadata": {},
   "outputs": [],
   "source": [
    "# KLU: show 2nd element (index 1) in s using string indexing"
   ]
  },
  {
   "cell_type": "code",
   "execution_count": null,
   "id": "06020a51",
   "metadata": {},
   "outputs": [],
   "source": [
    "# KLU: show last element in s using string indexing"
   ]
  },
  {
   "cell_type": "code",
   "execution_count": null,
   "id": "5e3d88c1",
   "metadata": {},
   "outputs": [],
   "source": [
    "# KLU: Grab everything past the 3rd element (index 2) all the way to the length of s which is len(s)"
   ]
  },
  {
   "cell_type": "code",
   "execution_count": null,
   "id": "c99bc507",
   "metadata": {},
   "outputs": [],
   "source": [
    "# KLU: Grab everything UP TO the 5th element (index = 4)"
   ]
  },
  {
   "cell_type": "code",
   "execution_count": null,
   "id": "4aa69890",
   "metadata": {},
   "outputs": [],
   "source": [
    "#KLU: Grab everything using string slicing"
   ]
  },
  {
   "cell_type": "code",
   "execution_count": null,
   "id": "ba4a3fcc",
   "metadata": {},
   "outputs": [],
   "source": [
    "# KLU: Grab everything but the last letter using string slicing"
   ]
  },
  {
   "cell_type": "code",
   "execution_count": null,
   "id": "7b4fde5e",
   "metadata": {},
   "outputs": [],
   "source": [
    "# KLU: Using string slicing, grab everything, but go in step sizes of 2"
   ]
  },
  {
   "cell_type": "code",
   "execution_count": null,
   "id": "4da55d5f",
   "metadata": {},
   "outputs": [],
   "source": [
    "# KLU: Using string slicing, print a string backwards"
   ]
  },
  {
   "cell_type": "code",
   "execution_count": null,
   "id": "2dc203a7",
   "metadata": {},
   "outputs": [],
   "source": [
    "# KLU: Using string slicing, grab everything starting from 2st element (index 1) , until the last element, step size is 2"
   ]
  },
  {
   "cell_type": "code",
   "execution_count": null,
   "id": "d538c274",
   "metadata": {},
   "outputs": [],
   "source": [
    "# KLU: execute this cell\n",
    "s = 'Python is interesting to learn'"
   ]
  },
  {
   "cell_type": "code",
   "execution_count": null,
   "id": "4e056ea5",
   "metadata": {},
   "outputs": [],
   "source": [
    "# KLU: Using a string method, show s in uppper case"
   ]
  },
  {
   "cell_type": "code",
   "execution_count": null,
   "id": "213d2327",
   "metadata": {},
   "outputs": [],
   "source": [
    "# KLU: Using a string method, show s in lower case"
   ]
  },
  {
   "cell_type": "code",
   "execution_count": null,
   "id": "ecb6aa5d",
   "metadata": {},
   "outputs": [],
   "source": [
    "# KLU: Split a string by blank space (this is the default)\n",
    "# list1 = s.yourfunction()"
   ]
  },
  {
   "cell_type": "code",
   "execution_count": null,
   "id": "c1d3cc7b",
   "metadata": {},
   "outputs": [],
   "source": [
    "# KLU: you may execute this cell after you've got the correct answer for the cell above this.\n",
    "# \" \".join(list1)"
   ]
  },
  {
   "cell_type": "code",
   "execution_count": null,
   "id": "066e928f",
   "metadata": {},
   "outputs": [],
   "source": [
    "# KLU: count how many 'i' in string s. Hint: use s.count(...)"
   ]
  },
  {
   "cell_type": "code",
   "execution_count": null,
   "id": "4f491464",
   "metadata": {},
   "outputs": [],
   "source": [
    "# KLU: return the lowest index in S where substring 'in' is found.\n",
    "#      Hint: use s.index(...) or s.find(...)"
   ]
  }
 ],
 "metadata": {
  "kernelspec": {
   "display_name": "Python 3 (ipykernel)",
   "language": "python",
   "name": "python3"
  },
  "language_info": {
   "codemirror_mode": {
    "name": "ipython",
    "version": 3
   },
   "file_extension": ".py",
   "mimetype": "text/x-python",
   "name": "python",
   "nbconvert_exporter": "python",
   "pygments_lexer": "ipython3",
   "version": "3.9.12"
  }
 },
 "nbformat": 4,
 "nbformat_minor": 5
}
