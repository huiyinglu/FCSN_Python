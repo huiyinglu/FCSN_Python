{
 "cells": [
  {
   "cell_type": "code",
   "execution_count": null,
   "metadata": {},
   "outputs": [],
   "source": [
    "'''\n",
    "Input and output functions\n",
    "1. stdout using print\n",
    "2. formatted printing\n",
    "3. stdin using \n",
    "'''"
   ]
  },
  {
   "cell_type": "code",
   "execution_count": 2,
   "metadata": {},
   "outputs": [
    {
     "name": "stdout",
     "output_type": "stream",
     "text": [
      "4\n"
     ]
    }
   ],
   "source": [
    "a = 4\n",
    "print a # a simple print statement "
   ]
  },
  {
   "cell_type": "code",
   "execution_count": 4,
   "metadata": {},
   "outputs": [
    {
     "name": "stdout",
     "output_type": "stream",
     "text": [
      "the value of a is:  4\n"
     ]
    }
   ],
   "source": [
    "print'the value of a is: ',a "
   ]
  },
  {
   "cell_type": "code",
   "execution_count": 6,
   "metadata": {},
   "outputs": [
    {
     "name": "stdout",
     "output_type": "stream",
     "text": [
      "the value of a is 4\n"
     ]
    }
   ],
   "source": [
    "print 'the value of a is %d' %a "
   ]
  },
  {
   "cell_type": "code",
   "execution_count": null,
   "metadata": {},
   "outputs": [],
   "source": [
    "# Single line comment in Python should start with # \n",
    "\n",
    "'''\n",
    "Multiple line comments should either start and end with three single quotes or \n",
    "start and end with three double quotes.\n",
    "'''\n",
    "# or\n",
    "\n",
    "\"\"\"\n",
    "Multiple line comments should either start and end with three single quotes or \n",
    "start and end with \n",
    "three double quotes.\n",
    "\"\"\""
   ]
  },
  {
   "cell_type": "code",
   "execution_count": 9,
   "metadata": {},
   "outputs": [
    {
     "name": "stdout",
     "output_type": "stream",
     "text": [
      "the value is: 19\n",
      "19\n",
      "20\n"
     ]
    }
   ],
   "source": [
    "'''\n",
    "Multi-line statements can be indicated by '\\' at the end of each line except \n",
    "for the last line\n",
    "\n",
    "total = item_one + \\\n",
    "        item_two + \\\n",
    "        item_three\n",
    "\n",
    "'''\n",
    "a = 4 + \\\n",
    "    5 + \\\n",
    "    10 \n",
    "    \n",
    "print 'the value is: %d' %a # this is an example of a formatted print statement \n",
    "print a\n",
    "print a + 1"
   ]
  },
  {
   "cell_type": "code",
   "execution_count": null,
   "metadata": {},
   "outputs": [],
   "source": [
    "# stringA.upper() converts stringA to uppercase\n",
    "a = 'apple'\n",
    "print a.upper()\n"
   ]
  },
  {
   "cell_type": "code",
   "execution_count": 13,
   "metadata": {},
   "outputs": [
    {
     "name": "stdout",
     "output_type": "stream",
     "text": [
      "hyderabad\n",
      "banana\n"
     ]
    }
   ],
   "source": [
    "# stringA.lower() converts stringA to lowercase\n",
    "a = 'Hyderabad'\n",
    "print a.lower()\n",
    "\n",
    "b = 'BANANA'\n",
    "print b.lower()"
   ]
  },
  {
   "cell_type": "code",
   "execution_count": 16,
   "metadata": {},
   "outputs": [
    {
     "name": "stdout",
     "output_type": "stream",
     "text": [
      "san jose and santa clara\n"
     ]
    }
   ],
   "source": [
    "# formatted printing\n",
    "print '{0} and {1}'.format('san jose','santa clara')"
   ]
  },
  {
   "cell_type": "code",
   "execution_count": 18,
   "metadata": {},
   "outputs": [
    {
     "ename": "IndexError",
     "evalue": "tuple index out of range",
     "output_type": "error",
     "traceback": [
      "\u001b[1;31m\u001b[0m",
      "\u001b[1;31mIndexError\u001b[0mTraceback (most recent call last)",
      "\u001b[1;32m<ipython-input-18-1cf965f21bea>\u001b[0m in \u001b[0;36m<module>\u001b[1;34m()\u001b[0m\n\u001b[1;32m----> 1\u001b[1;33m \u001b[1;32mprint\u001b[0m \u001b[1;34m'{0} and {1}'\u001b[0m\u001b[1;33m.\u001b[0m\u001b[0mformat\u001b[0m\u001b[1;33m(\u001b[0m\u001b[1;34m'san jose'\u001b[0m\u001b[1;33m)\u001b[0m \u001b[1;31m# fails as we need to provide two value\u001b[0m\u001b[1;33m\u001b[0m\u001b[0m\n\u001b[0m",
      "\u001b[1;31mIndexError\u001b[0m: tuple index out of range"
     ]
    }
   ],
   "source": [
    "print '{0} and {1}'.format('san jose') # fails as we need to provide two value"
   ]
  },
  {
   "cell_type": "code",
   "execution_count": 20,
   "metadata": {},
   "outputs": [
    {
     "name": "stdout",
     "output_type": "stream",
     "text": [
      "san jose\n"
     ]
    }
   ],
   "source": [
    "print '{0}'.format('san jose','santa clara') \n",
    "# the first value in the list will be printed"
   ]
  },
  {
   "cell_type": "code",
   "execution_count": 22,
   "metadata": {},
   "outputs": [
    {
     "name": "stdout",
     "output_type": "stream",
     "text": [
      "San jose and Sacramento\n"
     ]
    }
   ],
   "source": [
    "print '{nearcity} and {farcity}'.format(farcity='Sacramento',nearcity='San jose')"
   ]
  },
  {
   "cell_type": "code",
   "execution_count": 24,
   "metadata": {},
   "outputs": [
    {
     "name": "stdout",
     "output_type": "stream",
     "text": [
      "PI = 3.14159\n"
     ]
    }
   ],
   "source": [
    "import math \n",
    "print 'PI = %0.5f' %(math.pi) # The () is optional for one input"
   ]
  },
  {
   "cell_type": "code",
   "execution_count": 26,
   "metadata": {},
   "outputs": [
    {
     "name": "stdout",
     "output_type": "stream",
     "text": [
      "a = 005 b = 3.25 c = 5.6\n"
     ]
    }
   ],
   "source": [
    "a = 5\n",
    "b = 3.25\n",
    "c = '5.6'\n",
    "print 'a = %03d b = %0.2f c = %s' %(a,b,c)"
   ]
  },
  {
   "cell_type": "code",
   "execution_count": 29,
   "metadata": {},
   "outputs": [
    {
     "name": "stdout",
     "output_type": "stream",
     "text": [
      "Enter a name : Nick\n",
      "Nick\n"
     ]
    }
   ],
   "source": [
    "'''\n",
    "raw_input() gets input from the command line.\n",
    "In this example, we are getting the input from the user and assigning it \n",
    "to variable s.\n",
    "'''\n",
    "s = raw_input('Enter a name : ')\n",
    "print s"
   ]
  },
  {
   "cell_type": "code",
   "execution_count": 32,
   "metadata": {},
   "outputs": [
    {
     "name": "stdout",
     "output_type": "stream",
     "text": [
      "r2\n"
     ]
    }
   ],
   "source": [
    "a = 'r'\n",
    "b = str(2)\n",
    "print a+b"
   ]
  },
  {
   "cell_type": "code",
   "execution_count": null,
   "metadata": {},
   "outputs": [],
   "source": [
    "'''\n",
    "In-class activity: Can you insert a space between r and 2? If yes, then \n",
    "implement it. \n",
    "'''"
   ]
  },
  {
   "cell_type": "code",
   "execution_count": null,
   "metadata": {},
   "outputs": [],
   "source": [
    "'''\n",
    "In-class activity: Can you ask the user to enter an integer greater than 50. \n",
    "Then print the value and also its type.\n",
    "'''\n"
   ]
  },
  {
   "cell_type": "code",
   "execution_count": null,
   "metadata": {},
   "outputs": [],
   "source": [
    "'''\n",
    "Note - Go to for-loop iPython notebook. \n",
    "'''"
   ]
  },
  {
   "cell_type": "code",
   "execution_count": 7,
   "metadata": {},
   "outputs": [
    {
     "name": "stdout",
     "output_type": "stream",
     "text": [
      "dogs\n",
      "\n",
      "frogs\n",
      "\n",
      "\n",
      "bogs\n",
      "\n",
      "logs\n",
      "\n",
      "\n",
      "\n",
      "lots\n"
     ]
    }
   ],
   "source": [
    "# f is a filehandler\n",
    "f = open('python_list.txt')\n",
    "# readlines reads one line at a time from the file\n",
    "# Syntax filehandle.readlines()\n",
    "for line in f.readlines():\n",
    "    print line.strip()\n",
    "# strip removes newline, carriage return, space etc at the beginning and \n",
    "# at the end of the line.\n",
    "f.close()"
   ]
  },
  {
   "cell_type": "code",
   "execution_count": 10,
   "metadata": {},
   "outputs": [
    {
     "name": "stdout",
     "output_type": "stream",
     "text": [
      "dogs\n",
      "frogs\n",
      "bogs\n",
      "logs\n",
      "lots\n"
     ]
    }
   ],
   "source": [
    "# f is a filehandler\n",
    "f = open('python_list.txt')\n",
    "# readlines reads one line at a time from the file\n",
    "# Syntax filehandle.readlines()\n",
    "for line in f.readlines():\n",
    "    cleanedline = line.strip() \n",
    "    if cleanedline:\n",
    "        print cleanedline\n",
    "f.close()"
   ]
  },
  {
   "cell_type": "code",
   "execution_count": 14,
   "metadata": {},
   "outputs": [
    {
     "name": "stdout",
     "output_type": "stream",
     "text": [
      "['dogs\\n', '\\n', 'frogs\\n', '\\n', '\\n', 'bogs\\n', '\\n', 'logs\\n', '\\n', '\\n', '\\n', 'lots\\n']\n"
     ]
    }
   ],
   "source": [
    "fo = open('python_list.txt', 'r')\n",
    "print fo.readlines()\n",
    "# fo.readlines is a list of string where each item in the list is a string.\n",
    "\n",
    "# Why does the for-loop not produce any output ???\n",
    "for items in fo.readlines():\n",
    "    print 'inside for-loop',items\n",
    "fo.close()"
   ]
  },
  {
   "cell_type": "code",
   "execution_count": 16,
   "metadata": {},
   "outputs": [
    {
     "name": "stdout",
     "output_type": "stream",
     "text": [
      "dogs\n",
      "\n",
      "\n",
      "\n",
      "frogs\n",
      "\n",
      "\n",
      "\n",
      "\n",
      "\n",
      "bogs\n",
      "\n",
      "\n",
      "\n",
      "logs\n",
      "\n",
      "\n",
      "\n",
      "\n",
      "\n",
      "\n",
      "\n",
      "lots\n",
      "\n",
      "45\n"
     ]
    }
   ],
   "source": [
    "# tell() returns the current position within the file. \n",
    "fo = open('python_list.txt', 'r')\n",
    "for items in fo.readlines():\n",
    "    print items\n",
    "print fo.tell()\n",
    "\n",
    "#fo.close()"
   ]
  },
  {
   "cell_type": "code",
   "execution_count": 17,
   "metadata": {},
   "outputs": [
    {
     "name": "stdout",
     "output_type": "stream",
     "text": [
      "48\n",
      "\n",
      "1\n",
      "ogs\n",
      "\n",
      "\n",
      "46\n",
      "\n"
     ]
    }
   ],
   "source": [
    "'''\n",
    "seek() changes the current file position\n",
    "syntax - filehandler.seek(offset, position). \n",
    "The number of bytes to be moved is given in offset argument.\n",
    "In the position argument the bytes are to be moved is given.\n",
    "position = 0, means the reference position is the beginning of the file\n",
    "position = 1, means the reference position is the current position \n",
    "position = 2, means the reference position is the end of the file\n",
    "\n",
    "'''\n",
    "fo.seek(3,1)\n",
    "print fo.tell()\n",
    "print fo.read(5)\n",
    "\n",
    "fo.seek(1,0)\n",
    "print fo.tell()\n",
    "print fo.read(5)\n",
    "\n",
    "fo.seek(1,2)\n",
    "print fo.tell()\n",
    "print fo.read(3)"
   ]
  },
  {
   "cell_type": "code",
   "execution_count": 18,
   "metadata": {},
   "outputs": [
    {
     "name": "stdout",
     "output_type": "stream",
     "text": [
      "0\n",
      "dogs\n",
      "\n",
      "\n",
      "\n",
      "frogs\n",
      "\n",
      "\n",
      "\n",
      "\n",
      "\n",
      "bogs\n",
      "\n",
      "\n",
      "\n",
      "logs\n",
      "\n",
      "\n",
      "\n",
      "\n",
      "\n",
      "\n",
      "\n",
      "lots\n",
      "\n"
     ]
    }
   ],
   "source": [
    "fo.seek(0,0)\n",
    "print fo.tell()\n",
    "for i in fo.readlines():\n",
    "    print i"
   ]
  },
  {
   "cell_type": "code",
   "execution_count": 23,
   "metadata": {},
   "outputs": [
    {
     "name": "stdout",
     "output_type": "stream",
     "text": [
      "<open file 'python_list1.txt', mode 'w+' at 0x0000000008F88F60>\n",
      "1,2,3\n",
      "a,b,c\n"
     ]
    }
   ],
   "source": [
    "# Writing a file\n",
    "fo = open('python_list1.txt', 'w+') \n",
    "# here the text file is opened in write and read mode. \n",
    "fo.writelines('1,2,3\\n')\n",
    "fo.writelines('a,b,c\\n')\n",
    "print fo\n",
    "fo.close()\n",
    "\n",
    "fo = open('python_list1.txt', 'r')\n",
    "for items in fo.readlines():\n",
    "    print items.strip()\n",
    "fo.close()"
   ]
  },
  {
   "cell_type": "code",
   "execution_count": 35,
   "metadata": {},
   "outputs": [
    {
     "name": "stdout",
     "output_type": "stream",
     "text": [
      "<open file 'python_list1.txt', mode 'a' at 0x0000000008F88F60>\n",
      "more and more\n",
      "even more\n",
      "little puppy\n",
      "cute cub\n",
      "more and more\n",
      "even more\n",
      "little puppy\n",
      "cute cub\n",
      "little puppy\n",
      "cute cub\n"
     ]
    }
   ],
   "source": [
    "# appending to a file\n",
    "fo = open('python_list1.txt','a') \n",
    "# here the text file is opened in append mode\n",
    "fo.writelines('little puppy\\n')\n",
    "fo.writelines('cute cub \\n')\n",
    "print fo\n",
    "fo.close()\n",
    "\n",
    "fo = open('python_list1.txt', 'a+')\n",
    "for items in fo.readlines():\n",
    "    print items.strip()\n",
    "fo.close()"
   ]
  },
  {
   "cell_type": "code",
   "execution_count": 40,
   "metadata": {},
   "outputs": [
    {
     "name": "stdout",
     "output_type": "stream",
     "text": [
      "more and more\n",
      "even more\n",
      "little puppy\n",
      "cute cub\n",
      "more and more\n",
      "even more\n",
      "little puppy\n",
      "cute cub\n",
      "little puppy\n",
      "cute cub\n"
     ]
    }
   ],
   "source": [
    "# The with keyword is called the context manager\n",
    "# It will close the file whether or not there is an exception\n",
    "with open('python_list1.txt', 'r') as fo:\n",
    "    for items in fo.readlines():\n",
    "        print items.strip()\n",
    "# close does not have to be called exclusively "
   ]
  },
  {
   "cell_type": "code",
   "execution_count": null,
   "metadata": {},
   "outputs": [],
   "source": [
    "'''\n",
    "In-class activity: Create a txt file and write names of 4 states and close the \n",
    "file. Then open the file and print each line. \n",
    "'''"
   ]
  },
  {
   "cell_type": "code",
   "execution_count": null,
   "metadata": {},
   "outputs": [],
   "source": [
    "'''\n",
    "Instead of Python 2.7 raw_input(), in Python 3, you should use input().\n",
    "'''"
   ]
  }
 ],
 "metadata": {
  "anaconda-cloud": {},
  "kernelspec": {
   "display_name": "Python 3 (ipykernel)",
   "language": "python",
   "name": "python3"
  },
  "language_info": {
   "codemirror_mode": {
    "name": "ipython",
    "version": 3
   },
   "file_extension": ".py",
   "mimetype": "text/x-python",
   "name": "python",
   "nbconvert_exporter": "python",
   "pygments_lexer": "ipython3",
   "version": "3.9.12"
  }
 },
 "nbformat": 4,
 "nbformat_minor": 1
}
