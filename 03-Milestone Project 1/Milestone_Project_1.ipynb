{
 "cells": [
  {
   "cell_type": "markdown",
   "id": "0d7a8b9c",
   "metadata": {},
   "source": [
    "# Milestone Project - Tools for Grading and Analyzing Students' Score"
   ]
  },
  {
   "cell_type": "markdown",
   "id": "59a33da4",
   "metadata": {},
   "source": [
    "## Program Flow and Tasks:\n",
    "1. Use **\"with open(...) as ... fileHandler\"** to open a file \"scores.txt\" in **read** mode. Note:\n",
    "    - Each line of scores.txt stores a student's scores for a particular subject X of a class.\n",
    "    - The format of each line looks like: **student_name, hw1_score, hw2_score, hw3_score, mid-termExam_score, finalExam_score**.\n",
    "2. Loop through each line use **for** and **fileHandler.readlines**. \n",
    "    - Use Python String strip() function to remove the whitespace from the beginning and at the end of the line and save the cleaned line.\n",
    "    - Use Python String **split() function** to split the cleaned line at the separator **\",\"** and get a list of substrings - the name of the student, and the scores for hw1, hw2, hw3, mid-term exam, and final exam. \n",
    "    - Create a **new list (name it new_rec)** which will hold the following **`9`** elements: index (the sequence number of this record in the whole class), student name, hw1_score, hw2_score, hw3_score, mid-termExam_score, finalExam_score, the final_score, and grade. **Note**: you will be able to fill in index, student name, and all the scores from the line just read in. However, the **final score** and **grade** will be calculated in a **separate function later**. So **you need to leave the space for these 2 elements when creating new_rec.**\n",
    "    - Create a **function** which takes new_rec as an input argument and calcuates the **final score** and **grade** for that student.\n",
    "        - The formula to calculate the final score is: *`final score = (hw1_score * 0.15) + (hw2_score * 0.15) + (hw3_score * 0.15) + (mid-termExame_score * 0.25) + (finlExam_score * 0.3)`*\n",
    "        - The formula to calculate the grade is:\n",
    "            - Final score < 60: grade = 'F'\n",
    "            - 60 <= final score < 70: grade = 'D'\n",
    "            - 70 <= final score < 80: grade = 'C'\n",
    "            - 80 <= final score < 90: grade = 'B'\n",
    "            - final score >= 90: grade = 'A'\n",
    "        - Save the final score and grade in the list passed into the function.\n",
    "    - Print new_rec.\n",
    "    - Use Python List **append() function** to append new_rec to a list **score_rec** which holds the score records for the whole class. Note: score_rec is a **nested list** (list of lists). It has **index** number of items, each item itself is a list with **9** elements. So its dimension is *`index * 9`*.\n",
    "3. Print the score_rec list which holds the score records for the whole class.\n",
    "4. Create a function to **sort** the students' score records according to their **final scores (in decending order)**.\n",
    "    - The function takes score_rec as its input argument.\n",
    "    - You may use **list comprehension** to collect a list of tuples (name it tup_list) which consist of **(final_score, index number of the student record)** from all the students in the class.\n",
    "    - Sort tup_list in decending order. Note: by default, the tuples in the list will be **sorted according to the first item (which is the final score) in the tuple**.\n",
    "    - Loop through the sorted tup list (get the index number), retrive the corresponding student record from score_rec, print out student name, their final score and grade.\n",
    "5. Create a function such that for each grade, it counts/prints the number of students who get that grade. \n",
    "    - The function takes score_rec as its input argument.\n",
    "    - It creates an empty **dictionary** first. Then it goes thru the score_rec, uses the grade of each student as the key to the dictionary, finds the corresponding value (the number of students who get that grade so far), and increment the value by 1. Note: you may use Python **Dictionary get() function** to get the value for a given key (grade). Pass '0' as the second argument to the get function. If the key was not in the dictionary before, it will be set into the dictionary with initial value '0'. \n",
    "    - For each grade, print out the number of student who get that grade.\n",
    "6. Create a function to calculate the average of the final scores for all the students. \n",
    "    - You may use **list comprehension** to get a list for all the final scores of the students.\n",
    "    - Use **sum() function** to sum up all the final scores, then divide the number by number of students.\n",
    "    - Print the average value calculated in the step above."
   ]
  }
 ],
 "metadata": {
  "kernelspec": {
   "display_name": "Python 3 (ipykernel)",
   "language": "python",
   "name": "python3"
  },
  "language_info": {
   "codemirror_mode": {
    "name": "ipython",
    "version": 3
   },
   "file_extension": ".py",
   "mimetype": "text/x-python",
   "name": "python",
   "nbconvert_exporter": "python",
   "pygments_lexer": "ipython3",
   "version": "3.9.15"
  }
 },
 "nbformat": 4,
 "nbformat_minor": 5
}
