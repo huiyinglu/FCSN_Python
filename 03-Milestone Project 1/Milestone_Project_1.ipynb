{
 "cells": [
  {
   "cell_type": "code",
   "execution_count": 1,
   "id": "29913b2b",
   "metadata": {},
   "outputs": [],
   "source": [
    "import math"
   ]
  },
  {
   "cell_type": "code",
   "execution_count": 2,
   "id": "d69f38dd",
   "metadata": {},
   "outputs": [],
   "source": [
    "def cal_score_grade(rec):\n",
    "    final_score = (rec[2]*0.15) + (rec[3]*0.15) + (rec[4]*0.15) + (rec[5]*0.25) + (rec[6]*0.3)\n",
    "    rec[7] = round(final_score, 2)\n",
    "    #rec[7] = math.ceil(final_score*100)/100\n",
    "    if rec[7] < 60:\n",
    "        rec[8] = 'F'\n",
    "    elif rec[7] < 70:\n",
    "        rec[8] = 'D'\n",
    "    elif rec[7] < 80:\n",
    "        rec[8] = 'C'\n",
    "    elif rec[7] < 90:\n",
    "        rec[8] = 'B'\n",
    "    else:\n",
    "        rec[8] = 'A'"
   ]
  },
  {
   "cell_type": "code",
   "execution_count": 11,
   "id": "328c7bbb",
   "metadata": {},
   "outputs": [],
   "source": [
    "def sort_score_list(score_list):\n",
    "    tup_list = [(score_list[i][7], score_list[i][0]) for i in range(len(score_list))]\n",
    "    sorted_tup_list = sorted(tup_list, reverse=True)\n",
    "    print(\"\\n\")\n",
    "    for score, idx in sorted_tup_list:\n",
    "        print(f\"Name: {score_list[idx][1]:20s}, Final Score: {score_list[idx][7]:.2f}, Grade: {score_list[idx][8]}\")\n",
    "        #print(\"Student: %-20s, Final Score: %.2f, Grade: %s\" \\\n",
    "        #      % (score_list[idx][1], score_list[idx][7], score_list[idx][8]))"
   ]
  },
  {
   "cell_type": "code",
   "execution_count": 4,
   "id": "fc4359c0",
   "metadata": {},
   "outputs": [],
   "source": [
    "def count_grade(score_list):\n",
    "    grade_dict = {}\n",
    "    for i in range(len(score_list)):\n",
    "        grade_dict[score_list[i][8]] = grade_dict.get(score_list[i][8], 0) + 1\n",
    "    \n",
    "    print(\"\\n\")\n",
    "    for key in sorted(grade_dict.keys()):\n",
    "        print(f\"Number of students get grade {key}: {grade_dict[key]}\")"
   ]
  },
  {
   "cell_type": "code",
   "execution_count": 5,
   "id": "7bc18105",
   "metadata": {},
   "outputs": [],
   "source": [
    "def calc_ave_score(score_list):\n",
    "    ave = sum([score_list[i][7] for i in range(len(score_list))])/len(score_list)\n",
    "    print(\"\\n\")\n",
    "    print(f\"The average score of the class is {ave:.2f}\")"
   ]
  },
  {
   "cell_type": "code",
   "execution_count": 12,
   "id": "eca5d730",
   "metadata": {},
   "outputs": [
    {
     "name": "stdout",
     "output_type": "stream",
     "text": [
      "[0, 'Judy Wolf', 80, 90, 100, 85, 95, 90.25, 'A']\n",
      "[1, 'Alice Wong', 70, 78, 79, 75, 72, 74.4, 'C']\n",
      "[2, 'Kevin Perterson', 88, 88, 82, 87, 89, 87.15, 'B']\n",
      "[3, 'Ken Miller', 100, 90, 95, 98, 99, 96.95, 'A']\n",
      "\n",
      "[[0, 'Judy Wolf', 80, 90, 100, 85, 95, 90.25, 'A'], [1, 'Alice Wong', 70, 78, 79, 75, 72, 74.4, 'C'], [2, 'Kevin Perterson', 88, 88, 82, 87, 89, 87.15, 'B'], [3, 'Ken Miller', 100, 90, 95, 98, 99, 96.95, 'A']]\n",
      "Total number of students:  4\n",
      "\n",
      "\n",
      "Name: Ken Miller          , Final Score: 96.95, Grade: A\n",
      "Name: Judy Wolf           , Final Score: 90.25, Grade: A\n",
      "Name: Kevin Perterson     , Final Score: 87.15, Grade: B\n",
      "Name: Alice Wong          , Final Score: 74.40, Grade: C\n",
      "\n",
      "\n",
      "Number of students get grade A: 2\n",
      "Number of students get grade B: 1\n",
      "Number of students get grade C: 1\n",
      "\n",
      "\n",
      "The average score of the class is 87.19\n"
     ]
    }
   ],
   "source": [
    "index = 0\n",
    "score_rec = []\n",
    "\n",
    "with open('scores.txt', 'r') as fo:\n",
    "    for line in fo.readlines():\n",
    "        cleaned_line = line.strip()\n",
    "        temp_list = cleaned_line.split(',')\n",
    "        #print(temp_list)\n",
    "        new_rec = [0]*9\n",
    "        new_rec[0] = index\n",
    "        index += 1\n",
    "        new_rec[1] = temp_list[0]\n",
    "        for i in range(5):\n",
    "            new_rec[2+i] = int(temp_list[1+i])\n",
    "        #new_rec[7] = sum(new_rec[2:7])/5\n",
    "        #new_rec[7] = np.mean(new_rec[2:7])\n",
    "        cal_score_grade(new_rec)\n",
    "        print(new_rec)\n",
    "        score_rec.append(new_rec)\n",
    "\n",
    "\n",
    "print()\n",
    "print(score_rec)\n",
    "print(\"Total number of students: \", index)\n",
    "\n",
    "sort_score_list(score_rec)\n",
    "count_grade(score_rec)\n",
    "calc_ave_score(score_rec)"
   ]
  }
 ],
 "metadata": {
  "kernelspec": {
   "display_name": "Python 3 (ipykernel)",
   "language": "python",
   "name": "python3"
  },
  "language_info": {
   "codemirror_mode": {
    "name": "ipython",
    "version": 3
   },
   "file_extension": ".py",
   "mimetype": "text/x-python",
   "name": "python",
   "nbconvert_exporter": "python",
   "pygments_lexer": "ipython3",
   "version": "3.9.15"
  }
 },
 "nbformat": 4,
 "nbformat_minor": 5
}
