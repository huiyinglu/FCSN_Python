{
 "cells": [
  {
   "cell_type": "markdown",
   "id": "0d7a8b9c",
   "metadata": {},
   "source": [
    "# Milestone Project - Tools for Grading and Analyzing Students' Score"
   ]
  },
  {
   "cell_type": "markdown",
   "id": "59a33da4",
   "metadata": {},
   "source": [
    "## Program Flow and Tasks:\n",
    "1. Use **\"with open(...) as ... fileHandler\"** to open a file \"scores.txt\" in **read** mode. Note:\n",
    "    - Each line of scores.txt stores a student's scores for a particular subject X of a class.\n",
    "    - The format of each line looks like: **student_name, hw1_score, hw2_score, hw3_score, mid-termExam_score, finalExam_score**.\n",
    "2. Loop through each line use **for** and **fileHandler.readlines**. \n",
    "    - Use Python String strip() function to remove the whitespace from the beginning and at the end of the line and save the cleaned line.\n",
    "    - Use Python String **split() function** to split the cleaned line at the separator **\",\"** and get a list of substrings - the name of the student, and the scores for hw1, hw2, hw3, mid-term exam, and final exam. \n",
    "    - Create a **new list (name it new_rec)** which will hold the following **`9`** elements: index (the sequence number of this record in the whole class), student name, hw1_score, hw2_score, hw3_score, mid-termExam_score, finalExam_score, the final_score, and grade. **Note**: you will be able to fill in index, student name, and all the scores from the line just read in. However, the **final score** and **grade** will be calculated in a **separate function later**. So **you need to leave the space for these 2 elements when creating new_rec.**\n",
    "    - Create a **function** which takes new_rec as an input argument and calcuates the **final score** and **grade** for that student.\n",
    "        - The formula to calculate the final score is: *`final score = (hw1_score * 0.15) + (hw2_score * 0.15) + (hw3_score * 0.15) + (mid-termExame_score * 0.25) + (finlExam_score * 0.3)`*\n",
    "        - The formula to calculate the grade is:\n",
    "            - Final score < 60: grade = 'F'\n",
    "            - 60 <= final score < 70: grade = 'D'\n",
    "            - 70 <= final score < 80: grade = 'C'\n",
    "            - 80 <= final score < 90: grade = 'B'\n",
    "            - final score >= 90: grade = 'A'\n",
    "        - Save the final score and grade in the list passed into the function.\n",
    "    - Print new_rec.\n",
    "    - Use Python List **append() function** to append new_rec to a list **score_rec** which holds the score records for the whole class. Note: score_rec is a **nested list** (list of lists). It has **index** number of items, each item itself is a list with **9** elements. So its dimension is *`index * 9`*.\n",
    "3. Print the score_rec list which holds the score records for the whole class.\n",
    "4. Create a function to **sort** the students' score records according to their **final scores (in decending order)**.\n",
    "    - The function takes score_rec as its input argument.\n",
    "    - You may use **list comprehension** to collect a list of tuples (name it tup_list) which consist of **(final_score, index number of the student record)** from all the students in the class.\n",
    "    - Sort tup_list in decending order. Note: by default, the tuples in the list will be **sorted according to the first item (which is the final score) in the tuple**.\n",
    "    - Loop through the sorted tup list (get the index number), retrive the corresponding student record from score_rec, print out student name, their final score and grade.\n",
    "5. Create a function such that for each grade, it counts/prints the number of students who get that grade. \n",
    "    - The function takes score_rec as its input argument.\n",
    "    - It creates an empty **dictionary** first. Then it goes thru the score_rec, uses the grade of each student as the key to the dictionary, finds the corresponding value (the number of students who get that grade so far), and increment the value by 1. Note: you may use Python **Dictionary get() function** to get the value for a given key (grade). Pass '0' as the second argument to the get function. If the key was not in the dictionary before, it will be set into the dictionary with initial value '0'. \n",
    "    - For each grade, print out the number of student who get that grade.\n",
    "6. Create a function to calculate the average of the final scores for all the students. \n",
    "    - You may use **list comprehension** to get a list for all the final scores of the students.\n",
    "    - Use **sum() function** to sum up all the final scores, then divide the number by number of students.\n",
    "    - Print the average value calculated in the step above."
   ]
  },
  {
   "cell_type": "code",
   "execution_count": 1,
   "id": "29913b2b",
   "metadata": {},
   "outputs": [],
   "source": [
    "import math"
   ]
  },
  {
   "cell_type": "code",
   "execution_count": 2,
   "id": "d69f38dd",
   "metadata": {},
   "outputs": [],
   "source": [
    "def cal_score_grade(rec):\n",
    "    final_score = (rec[2]*0.15) + (rec[3]*0.15) + (rec[4]*0.15) + (rec[5]*0.25) + (rec[6]*0.3)\n",
    "    rec[7] = round(final_score, 2)\n",
    "    #rec[7] = math.ceil(final_score*100)/100\n",
    "    if rec[7] < 60:\n",
    "        rec[8] = 'F'\n",
    "    elif rec[7] < 70:\n",
    "        rec[8] = 'D'\n",
    "    elif rec[7] < 80:\n",
    "        rec[8] = 'C'\n",
    "    elif rec[7] < 90:\n",
    "        rec[8] = 'B'\n",
    "    else:\n",
    "        rec[8] = 'A'"
   ]
  },
  {
   "cell_type": "code",
   "execution_count": 3,
   "id": "328c7bbb",
   "metadata": {},
   "outputs": [],
   "source": [
    "def sort_score_list(score_list):\n",
    "    tup_list = [(score_list[i][7], score_list[i][0]) for i in range(len(score_list))]\n",
    "    sorted_tup_list = sorted(tup_list, reverse=True)\n",
    "    print(\"\\n\")\n",
    "    for score, idx in sorted_tup_list:\n",
    "        print(f\"Name: {score_list[idx][1]:20s}, Final Score: {score_list[idx][7]:.2f}, Grade: {score_list[idx][8]}\")\n",
    "        #print(\"Student: %-20s, Final Score: %.2f, Grade: %s\" \\\n",
    "        #      % (score_list[idx][1], score_list[idx][7], score_list[idx][8]))"
   ]
  },
  {
   "cell_type": "code",
   "execution_count": 4,
   "id": "fc4359c0",
   "metadata": {},
   "outputs": [],
   "source": [
    "def count_grade(score_list):\n",
    "    grade_dict = {}\n",
    "    for i in range(len(score_list)):\n",
    "        grade_dict[score_list[i][8]] = grade_dict.get(score_list[i][8], 0) + 1\n",
    "    \n",
    "    print(\"\\n\")\n",
    "    for key in sorted(grade_dict.keys()):\n",
    "        print(f\"Number of students get grade {key}: {grade_dict[key]}\")"
   ]
  },
  {
   "cell_type": "code",
   "execution_count": 5,
   "id": "7bc18105",
   "metadata": {},
   "outputs": [],
   "source": [
    "def calc_ave_score(score_list):\n",
    "    ave = sum([score_list[i][7] for i in range(len(score_list))])/len(score_list)\n",
    "    print(\"\\n\")\n",
    "    print(f\"The average score of the class is {ave:.2f}\")"
   ]
  },
  {
   "cell_type": "code",
   "execution_count": 6,
   "id": "eca5d730",
   "metadata": {},
   "outputs": [
    {
     "name": "stdout",
     "output_type": "stream",
     "text": [
      "[0, 'Judy Wolf', 63, 60, 73, 65, 69, 66.35, 'D']\n",
      "[1, 'Alice Wong', 70, 78, 79, 75, 72, 74.4, 'C']\n",
      "[2, 'Kevin Perterson', 88, 88, 82, 87, 89, 87.15, 'B']\n",
      "[3, 'Ken Miller', 100, 90, 95, 98, 99, 96.95, 'A']\n",
      "[4, 'Martin Hollowell', 65, 78, 66, 74, 80, 73.85, 'C']\n",
      "[5, 'Timothy Heck', 54, 56, 46, 58, 50, 52.9, 'F']\n",
      "[6, 'Cindy Kirk', 79, 82, 73, 89, 91, 84.65, 'B']\n",
      "[7, 'Jonathan Laird', 65, 75, 85, 90, 92, 83.85, 'B']\n",
      "[8, 'Helen Little', 55, 62, 70, 77, 81, 71.6, 'C']\n",
      "[9, 'Raymond Lott', 72, 61, 66, 71, 68, 68.0, 'D']\n",
      "[10, 'Brian Martin', 95, 96, 98, 99, 100, 98.1, 'A']\n",
      "[11, 'David Mercado', 90, 91, 93, 95, 97, 93.95, 'A']\n",
      "[12, 'Edward Pisco', 99, 97, 95, 90, 85, 91.65, 'A']\n",
      "[13, 'Frank Washington', 80, 83, 82, 87, 89, 85.2, 'B']\n",
      "[14, 'Greg Brock', 77, 73, 79, 65, 68, 71.0, 'C']\n",
      "[15, 'Ilia Caldwell', 72, 74, 83, 85, 90, 82.6, 'B']\n",
      "[16, 'Jeffrey Galdos', 65, 67, 69, 78, 83, 74.55, 'C']\n",
      "[17, 'Linda Hopkins', 87, 82, 94, 85, 92, 88.3, 'B']\n",
      "[18, 'Mary Hu', 76, 90, 83, 91, 87, 86.2, 'B']\n",
      "[19, 'Nathan Lee', 89, 91, 93, 95, 90, 91.7, 'A']\n",
      "\n",
      "[[0, 'Judy Wolf', 63, 60, 73, 65, 69, 66.35, 'D'], [1, 'Alice Wong', 70, 78, 79, 75, 72, 74.4, 'C'], [2, 'Kevin Perterson', 88, 88, 82, 87, 89, 87.15, 'B'], [3, 'Ken Miller', 100, 90, 95, 98, 99, 96.95, 'A'], [4, 'Martin Hollowell', 65, 78, 66, 74, 80, 73.85, 'C'], [5, 'Timothy Heck', 54, 56, 46, 58, 50, 52.9, 'F'], [6, 'Cindy Kirk', 79, 82, 73, 89, 91, 84.65, 'B'], [7, 'Jonathan Laird', 65, 75, 85, 90, 92, 83.85, 'B'], [8, 'Helen Little', 55, 62, 70, 77, 81, 71.6, 'C'], [9, 'Raymond Lott', 72, 61, 66, 71, 68, 68.0, 'D'], [10, 'Brian Martin', 95, 96, 98, 99, 100, 98.1, 'A'], [11, 'David Mercado', 90, 91, 93, 95, 97, 93.95, 'A'], [12, 'Edward Pisco', 99, 97, 95, 90, 85, 91.65, 'A'], [13, 'Frank Washington', 80, 83, 82, 87, 89, 85.2, 'B'], [14, 'Greg Brock', 77, 73, 79, 65, 68, 71.0, 'C'], [15, 'Ilia Caldwell', 72, 74, 83, 85, 90, 82.6, 'B'], [16, 'Jeffrey Galdos', 65, 67, 69, 78, 83, 74.55, 'C'], [17, 'Linda Hopkins', 87, 82, 94, 85, 92, 88.3, 'B'], [18, 'Mary Hu', 76, 90, 83, 91, 87, 86.2, 'B'], [19, 'Nathan Lee', 89, 91, 93, 95, 90, 91.7, 'A']]\n",
      "Total number of students:  20\n",
      "\n",
      "\n",
      "Name: Brian Martin        , Final Score: 98.10, Grade: A\n",
      "Name: Ken Miller          , Final Score: 96.95, Grade: A\n",
      "Name: David Mercado       , Final Score: 93.95, Grade: A\n",
      "Name: Nathan Lee          , Final Score: 91.70, Grade: A\n",
      "Name: Edward Pisco        , Final Score: 91.65, Grade: A\n",
      "Name: Linda Hopkins       , Final Score: 88.30, Grade: B\n",
      "Name: Kevin Perterson     , Final Score: 87.15, Grade: B\n",
      "Name: Mary Hu             , Final Score: 86.20, Grade: B\n",
      "Name: Frank Washington    , Final Score: 85.20, Grade: B\n",
      "Name: Cindy Kirk          , Final Score: 84.65, Grade: B\n",
      "Name: Jonathan Laird      , Final Score: 83.85, Grade: B\n",
      "Name: Ilia Caldwell       , Final Score: 82.60, Grade: B\n",
      "Name: Jeffrey Galdos      , Final Score: 74.55, Grade: C\n",
      "Name: Alice Wong          , Final Score: 74.40, Grade: C\n",
      "Name: Martin Hollowell    , Final Score: 73.85, Grade: C\n",
      "Name: Helen Little        , Final Score: 71.60, Grade: C\n",
      "Name: Greg Brock          , Final Score: 71.00, Grade: C\n",
      "Name: Raymond Lott        , Final Score: 68.00, Grade: D\n",
      "Name: Judy Wolf           , Final Score: 66.35, Grade: D\n",
      "Name: Timothy Heck        , Final Score: 52.90, Grade: F\n",
      "\n",
      "\n",
      "Number of students get grade A: 5\n",
      "Number of students get grade B: 7\n",
      "Number of students get grade C: 5\n",
      "Number of students get grade D: 2\n",
      "Number of students get grade F: 1\n",
      "\n",
      "\n",
      "The average score of the class is 81.15\n"
     ]
    }
   ],
   "source": [
    "index = 0\n",
    "score_rec = []\n",
    "\n",
    "with open('scores.txt', 'r') as fo:\n",
    "    for line in fo.readlines():\n",
    "        cleaned_line = line.strip()\n",
    "        temp_list = cleaned_line.split(',')\n",
    "        #print(temp_list)\n",
    "        new_rec = [0]*9\n",
    "        new_rec[0] = index\n",
    "        index += 1\n",
    "        new_rec[1] = temp_list[0]\n",
    "        for i in range(5):\n",
    "            new_rec[2+i] = int(temp_list[1+i])\n",
    "        #new_rec[7] = sum(new_rec[2:7])/5\n",
    "        #new_rec[7] = np.mean(new_rec[2:7])\n",
    "        cal_score_grade(new_rec)\n",
    "        print(new_rec)\n",
    "        score_rec.append(new_rec)\n",
    "\n",
    "\n",
    "print()\n",
    "print(score_rec)\n",
    "print(\"Total number of students: \", index)\n",
    "\n",
    "sort_score_list(score_rec)\n",
    "count_grade(score_rec)\n",
    "calc_ave_score(score_rec)"
   ]
  },
  {
   "cell_type": "code",
   "execution_count": null,
   "id": "2b940094",
   "metadata": {},
   "outputs": [],
   "source": []
  }
 ],
 "metadata": {
  "kernelspec": {
   "display_name": "Python 3 (ipykernel)",
   "language": "python",
   "name": "python3"
  },
  "language_info": {
   "codemirror_mode": {
    "name": "ipython",
    "version": 3
   },
   "file_extension": ".py",
   "mimetype": "text/x-python",
   "name": "python",
   "nbconvert_exporter": "python",
   "pygments_lexer": "ipython3",
   "version": "3.9.15"
  }
 },
 "nbformat": 4,
 "nbformat_minor": 5
}
