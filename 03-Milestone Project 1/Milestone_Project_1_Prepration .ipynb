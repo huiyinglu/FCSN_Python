{
 "cells": [
  {
   "cell_type": "code",
   "execution_count": 1,
   "id": "e525f289",
   "metadata": {},
   "outputs": [],
   "source": [
    "score_list = ['Judy Wolf, 63, 60, 73, 65, 69\\n', \\\n",
    "              'Alice Wong, 70, 78, 79, 75, 72\\n', \\\n",
    "              'Kevin Perterson, 88, 88, 82, 87, 89\\n', \\\n",
    "              'Ken Miller, 100, 90, 95, 98, 99\\n', \\\n",
    "              'Martin Hollowell, 65, 78, 66, 74, 80\\n', \\\n",
    "              'Timothy Heck, 54, 56, 46, 58, 50\\n', \\\n",
    "              'Cindy Kirk, 79, 82, 73, 89, 91\\n', \\\n",
    "              'Jonathan Laird, 65, 75, 85, 90, 92\\n', \\\n",
    "              'Helen Little, 55, 62, 70, 77, 81\\n', \\\n",
    "              'Raymond Lott, 72, 61, 66, 71, 68\\n', \\\n",
    "              'Brian Martin, 95, 96, 98, 99, 100\\n', \\\n",
    "              'David Mercado, 90, 91, 93, 95, 97\\n', \\\n",
    "              'Edward Pisco, 99, 97, 95, 90, 85\\n', \\\n",
    "              'Frank Washington, 80, 83, 82, 87, 89\\n', \\\n",
    "              'Greg Brock, 77, 73, 79, 65, 68\\n', \\\n",
    "              'Ilia Caldwell, 72, 74, 83, 85, 90\\n', \\\n",
    "              'Jeffrey Galdos, 65, 67, 69, 78, 83\\n', \\\n",
    "              'Linda Hopkins, 87, 82, 94, 85, 92\\n', \\\n",
    "              'Mary Hu, 76, 90, 83, 91, 87\\n', \\\n",
    "              'Nathan Lee, 89, 91, 93, 95, 90\\n']\n",
    "\n",
    "f = open('scores.txt', 'w')\n",
    "f.writelines(score_list)\n",
    "f.close()"
   ]
  },
  {
   "cell_type": "code",
   "execution_count": 2,
   "id": "a1043fce",
   "metadata": {},
   "outputs": [
    {
     "name": "stdout",
     "output_type": "stream",
     "text": [
      "Judy Wolf, 63, 60, 73, 65, 69\n",
      "Alice Wong, 70, 78, 79, 75, 72\n",
      "Kevin Perterson, 88, 88, 82, 87, 89\n",
      "Ken Miller, 100, 90, 95, 98, 99\n",
      "Martin Hollowell, 65, 78, 66, 74, 80\n",
      "Timothy Heck, 54, 56, 46, 58, 50\n",
      "Cindy Kirk, 79, 82, 73, 89, 91\n",
      "Jonathan Laird, 65, 75, 85, 90, 92\n",
      "Helen Little, 55, 62, 70, 77, 81\n",
      "Raymond Lott, 72, 61, 66, 71, 68\n",
      "Brian Martin, 95, 96, 98, 99, 100\n",
      "David Mercado, 90, 91, 93, 95, 97\n",
      "Edward Pisco, 99, 97, 95, 90, 85\n",
      "Frank Washington, 80, 83, 82, 87, 89\n",
      "Greg Brock, 77, 73, 79, 65, 68\n",
      "Ilia Caldwell, 72, 74, 83, 85, 90\n",
      "Jeffrey Galdos, 65, 67, 69, 78, 83\n",
      "Linda Hopkins, 87, 82, 94, 85, 92\n",
      "Mary Hu, 76, 90, 83, 91, 87\n",
      "Nathan Lee, 89, 91, 93, 95, 90\n"
     ]
    }
   ],
   "source": [
    "with open('scores.txt', 'r') as f:\n",
    "    for line in f.readlines():\n",
    "        cleaned_line = line.strip()\n",
    "        if cleaned_line:\n",
    "            print(cleaned_line)"
   ]
  },
  {
   "cell_type": "code",
   "execution_count": null,
   "id": "36156710",
   "metadata": {},
   "outputs": [],
   "source": []
  }
 ],
 "metadata": {
  "kernelspec": {
   "display_name": "Python 3 (ipykernel)",
   "language": "python",
   "name": "python3"
  },
  "language_info": {
   "codemirror_mode": {
    "name": "ipython",
    "version": 3
   },
   "file_extension": ".py",
   "mimetype": "text/x-python",
   "name": "python",
   "nbconvert_exporter": "python",
   "pygments_lexer": "ipython3",
   "version": "3.9.15"
  }
 },
 "nbformat": 4,
 "nbformat_minor": 5
}
