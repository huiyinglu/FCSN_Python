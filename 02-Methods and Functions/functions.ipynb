{
 "cells": [
  {
   "cell_type": "code",
   "execution_count": null,
   "metadata": {},
   "outputs": [],
   "source": [
    "'''\n",
    "Functions\n",
    "1. Arguments and outputs\n",
    "2. default argument\n",
    "3. keyword based arguments\n",
    "\n",
    "Syntax for function\n",
    "def name_of_the_function(list of arguments):\n",
    "    statements that need to be executed\n",
    "    return value\n",
    "'''"
   ]
  },
  {
   "cell_type": "code",
   "execution_count": null,
   "metadata": {},
   "outputs": [],
   "source": [
    "def increment(a):\n",
    "    b = a+1\n",
    "    print 'the increment value is : %d' %b\n",
    "    return b\n",
    "\n",
    "increment(20) # calling the function and passing a required argument. "
   ]
  },
  {
   "cell_type": "code",
   "execution_count": null,
   "metadata": {},
   "outputs": [],
   "source": [
    "# Scope of variables is local to the function. \n",
    "\n",
    "'''\n",
    "The variable b does not exist outside the function.  \n",
    "So we will get NameError exception.\n",
    "'''\n",
    "\n",
    "def increment(a):\n",
    "    b = a+1\n",
    "    print 'the increment value is : %d' %b\n",
    "    return b\n",
    "\n",
    "increment(20) # calling the function and passing a required argument. \n",
    "#print b \n"
   ]
  },
  {
   "cell_type": "code",
   "execution_count": null,
   "metadata": {},
   "outputs": [],
   "source": [
    "# A function can take multiple inputs\n",
    "def increment(a,incr):\n",
    "    c = a+incr\n",
    "    print 'The value of a is: %d' %a\n",
    "    return c\n",
    "\n",
    "increment(3,10) # calling the function and passing two required arguments. \n",
    "# 10 will be assigned to a and \n",
    "# 3 will be assigned to incr. So these are called positional arguments. "
   ]
  },
  {
   "cell_type": "code",
   "execution_count": null,
   "metadata": {},
   "outputs": [],
   "source": [
    "def increment(a,incr):\n",
    "    c = a+incr\n",
    "    return (c,a,incr)\n",
    "    # returning multiple values as a tuple\n",
    "increment(10,3)"
   ]
  },
  {
   "cell_type": "code",
   "execution_count": null,
   "metadata": {},
   "outputs": [],
   "source": [
    "# Specifying default values\n",
    "def increment(a,incr=1):\n",
    "    a = a+incr\n",
    "    return a\n",
    "\n",
    "print increment(3) # for this the incr will default to 1\n",
    "print increment(3,4) \n",
    "# here the incr is assigned a value of 4 which overrides the default value"
   ]
  },
  {
   "cell_type": "code",
   "execution_count": 1,
   "metadata": {},
   "outputs": [
    {
     "name": "stdout",
     "output_type": "stream",
     "text": [
      "the value of a is :6\n",
      "8\n",
      "the value of a is 6\n",
      "8\n"
     ]
    }
   ],
   "source": [
    "def increment(a=4,incr1=1):\n",
    "    print 'the value of a is :%d' %a\n",
    "    a = a+incr1\n",
    "    return a\n",
    "\n",
    "print increment(a=6,incr1=2) # 2 keyword arguments "
   ]
  },
  {
   "cell_type": "code",
   "execution_count": 2,
   "metadata": {},
   "outputs": [
    {
     "name": "stdout",
     "output_type": "stream",
     "text": [
      "the value of a is 3\n",
      "5\n",
      "the value of a is 3\n",
      "5\n"
     ]
    }
   ],
   "source": [
    "print increment(incr1=2,a=3)\n",
    "# Unlike positional arguments, order is not important for keyword arguments."
   ]
  },
  {
   "cell_type": "code",
   "execution_count": 3,
   "metadata": {},
   "outputs": [
    {
     "name": "stdout",
     "output_type": "stream",
     "text": [
      "the value of a is 10\n",
      "15\n",
      "the value of a is 10\n",
      "15\n"
     ]
    }
   ],
   "source": [
    "print increment(10,incr1=5) #if you assign a value for a keyword argument \n",
    "# then other arguments to its right should also be assigned values."
   ]
  },
  {
   "cell_type": "code",
   "execution_count": 5,
   "metadata": {},
   "outputs": [
    {
     "ename": "SyntaxError",
     "evalue": "non-keyword arg after keyword arg (<ipython-input-5-c94119bfccf7>, line 1)",
     "output_type": "error",
     "traceback": [
      "\u001b[1;36m  File \u001b[1;32m\"<ipython-input-5-c94119bfccf7>\"\u001b[1;36m, line \u001b[1;32m1\u001b[0m\n\u001b[1;33m    print increment(a=10,5) # This will generate a Syntax error\u001b[0m\n\u001b[1;31mSyntaxError\u001b[0m\u001b[1;31m:\u001b[0m non-keyword arg after keyword arg\n"
     ]
    }
   ],
   "source": [
    "print increment(a=10,5) # This will generate a Syntax error"
   ]
  },
  {
   "cell_type": "code",
   "execution_count": 6,
   "metadata": {},
   "outputs": [
    {
     "name": "stdout",
     "output_type": "stream",
     "text": [
      "the value of a is 5\n",
      "7\n"
     ]
    }
   ],
   "source": [
    "print increment(5,incr1=2) \n",
    "# if you assign a value for a keyword argument \n",
    "# then other keyword arguments to its right should also be assigned values. "
   ]
  },
  {
   "cell_type": "code",
   "execution_count": 8,
   "metadata": {},
   "outputs": [
    {
     "data": {
      "text/plain": [
       "<function __main__.increment>"
      ]
     },
     "execution_count": 8,
     "metadata": {},
     "output_type": "execute_result"
    }
   ],
   "source": [
    "type(increment)\n",
    "increment"
   ]
  },
  {
   "cell_type": "code",
   "execution_count": null,
   "metadata": {
    "collapsed": true
   },
   "outputs": [],
   "source": [
    "'''\n",
    "Pass-by-value and pass-by-reference\n",
    "'''"
   ]
  },
  {
   "cell_type": "code",
   "execution_count": 10,
   "metadata": {},
   "outputs": [
    {
     "name": "stdout",
     "output_type": "stream",
     "text": [
      "a =  4\n",
      "b =  2\n"
     ]
    }
   ],
   "source": [
    "def myfunc(a):# a is an int\n",
    "    a = a*2\n",
    "    print \"a = \", a\n",
    "    return a\n",
    "b = 2\n",
    "myfunc(b)\n",
    "print \"b = \", b"
   ]
  },
  {
   "cell_type": "code",
   "execution_count": 12,
   "metadata": {},
   "outputs": [
    {
     "name": "stdout",
     "output_type": "stream",
     "text": [
      "a =  (4, 5, 6)\n",
      "b =  (1, 2, 3)\n"
     ]
    }
   ],
   "source": [
    "def myfunc(a):# a is a TUPLE that is completely replaced\n",
    "    a = (4, 5, 6,)\n",
    "    print \"a = \", a\n",
    "    return a\n",
    "b = (1,2,3)\n",
    "myfunc(b)\n",
    "print \"b = \", b"
   ]
  },
  {
   "cell_type": "code",
   "execution_count": 13,
   "metadata": {},
   "outputs": [
    {
     "name": "stdout",
     "output_type": "stream",
     "text": [
      "a =  [4, 5, 6]\n",
      "b =  [1, 2, 3]\n",
      "a =  [4, 5, 6]\n",
      "b =  [1, 2, 3]\n"
     ]
    }
   ],
   "source": [
    "def myfunc(a):# a is a list that is completely replaced\n",
    "    a = [4,5,6]\n",
    "    print \"a = \", a\n",
    "    return a\n",
    "b = [1,2,3]\n",
    "myfunc(b)\n",
    "print \"b = \", b"
   ]
  },
  {
   "cell_type": "code",
   "execution_count": 16,
   "metadata": {},
   "outputs": [
    {
     "name": "stdout",
     "output_type": "stream",
     "text": [
      "a =  [1, 2, 3, 4]\n",
      "b =  [1, 2, 3, 4]\n"
     ]
    }
   ],
   "source": [
    "def myfunc(a):# a is a LIST that is modified inline\n",
    "    a.append(4)\n",
    "    print \"a = \", a\n",
    "    return a\n",
    "b = [1,2,3]\n",
    "myfunc(b)\n",
    "print \"b = \", b"
   ]
  },
  {
   "cell_type": "code",
   "execution_count": 17,
   "metadata": {},
   "outputs": [
    {
     "name": "stdout",
     "output_type": "stream",
     "text": [
      "a =  [1, 2, 3, 4]\n",
      "b =  [1, 2, 3]\n",
      "a =  [1, 2, 3, 4]\n",
      "b =  [1, 2, 3]\n"
     ]
    }
   ],
   "source": [
    "def myfunc(a):# a is a LIST that is modified inline\n",
    "    a = a[:] \n",
    "    # Creating a deepcopy will solve the problem of pass by reference\n",
    "    a.append(4)\n",
    "    print \"a = \", a\n",
    "    return a\n",
    "b = [1,2,3]\n",
    "myfunc(b)\n",
    "print \"b = \", b"
   ]
  },
  {
   "cell_type": "code",
   "execution_count": null,
   "metadata": {
    "collapsed": true
   },
   "outputs": [],
   "source": [
    "'''\n",
    "Summary of pass-by-value and pass-by-reference\n",
    "'''"
   ]
  },
  {
   "cell_type": "markdown",
   "metadata": {},
   "source": [
    "<img src=\"http://i.stack.imgur.com/hKDcu.png = 70*70\">"
   ]
  },
  {
   "cell_type": "code",
   "execution_count": null,
   "metadata": {},
   "outputs": [],
   "source": [
    "'''\n",
    "In-class activity\n",
    "\n",
    "Create a function called squared which takes a list called mylist and \n",
    "returns another list where the elements are square of mylist. Also write \n",
    "another function that takes mylist and returns a dictionary where the key \n",
    "is the input and the value is the square of the input. \n",
    "'''\n",
    "mylist = [2, -7, 10]"
   ]
  },
  {
   "cell_type": "code",
   "execution_count": null,
   "metadata": {
    "collapsed": true
   },
   "outputs": [],
   "source": [
    "# Pass by value or pass by reference\n",
    "# http://stackoverflow.com/questions/986006/how-do-i-pass-a-variable-by-reference\n"
   ]
  },
  {
   "cell_type": "code",
   "execution_count": 18,
   "metadata": {},
   "outputs": [
    {
     "name": "stdout",
     "output_type": "stream",
     "text": [
      "(-10,) <type 'tuple'>\n",
      "-10\n",
      "(1, 2, 3) <type 'tuple'>\n",
      "1\n",
      "2\n",
      "3\n",
      "(-10,) <type 'tuple'>\n",
      "-10\n",
      "(1, 2, 3) <type 'tuple'>\n",
      "1\n",
      "2\n",
      "3\n"
     ]
    }
   ],
   "source": [
    "# args and kwargs helps to supply variable number of arguments to a \n",
    "# function. Inside the function, args is of type tuple.\n",
    "def take1(*args):\n",
    "    print args, type(args)\n",
    "    for i in args:\n",
    "        print i\n",
    "        \n",
    "take1(-10)\n",
    "take1(1,2,3)"
   ]
  },
  {
   "cell_type": "code",
   "execution_count": 19,
   "metadata": {},
   "outputs": [
    {
     "name": "stdout",
     "output_type": "stream",
     "text": [
      "{'a': 'abe'} <type 'dict'>\n",
      "{'a': 'abe', 'b': 'cab'} <type 'dict'>\n",
      "{'a': 'abe'} <type 'dict'>\n",
      "{'a': 'abe', 'b': 'cab'} <type 'dict'>\n"
     ]
    }
   ],
   "source": [
    "# kwargs is a dictionary, with the dictionary key being the variable \n",
    "# name and dictionary value is the value of that variable\n",
    "def utake(**kwargs):\n",
    "    print kwargs, type(kwargs)\n",
    "    \n",
    "utake(a = 'abe')\n",
    "utake(a = 'abe', b ='cab')"
   ]
  },
  {
   "cell_type": "code",
   "execution_count": 21,
   "metadata": {},
   "outputs": [
    {
     "name": "stdout",
     "output_type": "stream",
     "text": [
      "a 7\n",
      "c 3\n",
      "b -5\n",
      "d -10\n"
     ]
    }
   ],
   "source": [
    "def ptab(**kwargs):\n",
    "    # since kwargs is a dictionary, we can iterate using items() function. \n",
    "    for key, value in kwargs.items():\n",
    "        print key, value\n",
    "\n",
    "ptab(a = 7, b = -5, c = 3, d = -10)"
   ]
  },
  {
   "cell_type": "code",
   "execution_count": null,
   "metadata": {},
   "outputs": [],
   "source": [
    "'''\n",
    "In-class activity: define a function that takes a word and prints characters \n",
    "from the word. Call the function and pass a word.\n",
    "'''\n"
   ]
  },
  {
   "cell_type": "code",
   "execution_count": null,
   "metadata": {
    "collapsed": true
   },
   "outputs": [],
   "source": [
    "'''\n",
    "In-class activity: define a function that converts Fahrenheit into Celsius. \n",
    "The formula is C = (F - 32)*(5.0/9). Use sys in the code and pass the value when \n",
    "running the program from the command line (if Windows) or terminal (if MAC).\n",
    "'''\n"
   ]
  }
 ],
 "metadata": {
  "kernelspec": {
   "display_name": "Python 3 (ipykernel)",
   "language": "python",
   "name": "python3"
  },
  "language_info": {
   "codemirror_mode": {
    "name": "ipython",
    "version": 3
   },
   "file_extension": ".py",
   "mimetype": "text/x-python",
   "name": "python",
   "nbconvert_exporter": "python",
   "pygments_lexer": "ipython3",
   "version": "3.9.12"
  }
 },
 "nbformat": 4,
 "nbformat_minor": 1
}
