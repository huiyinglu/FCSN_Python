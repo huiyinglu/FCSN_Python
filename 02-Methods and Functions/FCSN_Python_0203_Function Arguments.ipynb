{
 "cells": [
  {
   "cell_type": "markdown",
   "metadata": {},
   "source": [
    "# Function Arguments\n",
    "## Overview\n",
    "### Function Definition\n",
    "The function definition starts with the keyword **`def`**. It must be followed by the function name and the parenthesized list of formal parameters (arguments). The statements that form the body of the function start at the next line and **must be indented**.\n",
    "    \n",
    "    def fname(arg1, arg2):\n",
    "        statements that need to be executed\n",
    "        return value\n",
    "    \n",
    "    Where arg1 and arg2 are formal parameters. We can define a function with a variable number of parameters (arguments).\n",
    "### Function Call\n",
    "After we define the function, we need another statement (function call) to execute the statements within the function.\n",
    "    \n",
    "    fname(a, b)\n",
    "    Where a and b are actual arguments which are passed during function call.\n",
    "### Types of Arguments\n",
    "1. Default Arguments:\n",
    "    - Default arguments are arguments that are provided with `default values` while **defining functions**.\n",
    "    - The assignment operator `=` is used to assign a default value to the argument.\n",
    "    - Default arguments become `optional` during the function calls.\n",
    "    - If we provide a value to the default arguments during function calls, it **overrides** the default value.\n",
    "    - The function can have any number of default arguments.\n",
    "    - **Default arguments should follow non-default arguments**.\n",
    "    - Example: <br>\n",
    "        def add(a,b=5,c=10):\n",
    "            return (a+b+c)\n",
    "        \n",
    "        add(3) # function call 1 <br>\n",
    "        add(3,4) # function call 2 <br>\n",
    "        add(3,4,7) # function call 3 <br>\n",
    "        add(3,b=6,c=8) # function call 4 <br>\n",
    "      \n",
    "      - In function definition, default value is given to argument b and c. `B` and `c` are default arguments.\n",
    "      - In function call 1: 3 is assigned to a, b uses default value 5 and c uses default value 10.\n",
    "      - In function call 2: 3 is assigned to a, 4 is assigned to b and c uses default value 10.\n",
    "      - In function call 3: 3 is assigned to a, 4 is assigned to b, 7 is assigned to c.\n",
    "      - In function call 4: 3 is assigned to a, 6 is assigned to b, 8 is assigned to c.\n",
    "      \n",
    "      \n",
    "2. Keyword Arguments:\n",
    "    - Functions can be called using keyword arguments of the form `kwarg=value`.\n",
    "    - During a function call, values passed through arguments **need not be** in the order of parameters in the function definition. This can be achieved by keyword arguments. \n",
    "    - But all the keyword arguments should match the parameters in the function definition.\n",
    "    - Example: <br>\n",
    "        def add(a,b=5,c=10):\n",
    "            return (a+b+c)\n",
    "        \n",
    "        add(b=3, c=5, a=1) # function call 1 <br>\n",
    "        add(a=10) # function call 2 <br>\n",
    "        \n",
    "        - In function call 1, all parameters are given as keyword arguments, so no need to maintain the same order.\n",
    "        - In function call 2, only required argument `a` is given as a keyword argument. Optional default arguments are skipped.\n",
    "        \n",
    "3. Positional Arguments:\n",
    "    - During a function call, values passed through arguments `should be in the order of parameters in the function definition`. This is called positional arguments.\n",
    "    - **Keyword arguments should follow positional arguments only**.\n",
    "    - Example: <br>\n",
    "        def add(a,b,c):\n",
    "            return (a+b+c)\n",
    "        \n",
    "        add(1, 2, 3) # function call 1 <br>\n",
    "        add(3, c=7, b=5) # function call 2 <br>\n",
    "        add(b=2,1,c=3) # function call 3 <br>\n",
    "        - In function call 1, all arguments are given as positional arguments. Values passed through arguments are passed to parameters `by their position`. 1 is assigned to a, 2 is assigned to b and 3 is assigned to c.\n",
    "        - In function call 2, we are giving a mix of positional and keyword arguments, keyword arguments should always follow positional arguments\n",
    "        - In function call 3, **we will get an error** since positional argument follows keyword argument!\n",
    "4.Variable-Length Arguments (Arbitrary Positional Arguments & Arbitrary Keyword Arguments): We will discuss this in a later lecture.\n",
    "\n",
    "### Default vs Positional vs Keyword Arguments\n",
    "Assume we have:\n",
    "- function definition -\n",
    "      def fname(a,b,c,d=5,e=10):\n",
    "          statements\n",
    "\n",
    "  **Note: `d` & `e` are default arguments.**\n",
    "  \n",
    "- function call - \n",
    "      fname(a1, b1, d=15, c=20)\n",
    "      \n",
    "  **Note: `a1` & `b1` are positional arguments, `d` and `c` are keyword arguments.**\n",
    "\n",
    "#### Important points to remember: (just remember arguments with equal sign need to be put after arguments without equal sign!!!)\n",
    "1. default arguments should follow **non-default** arguments.\n",
    "    \n",
    "    Example: <br>\n",
    "    def add(a=5,b,c):\n",
    "        return (a+b+c)\n",
    "\n",
    "    #Output:SyntaxError: non-default argument follows default argument\n",
    "2. keyword arguments should follow **positional arguments**.\n",
    "\n",
    "    Example: <br>\n",
    "    def add(a,b,c):\n",
    "        return (a+b+c)\n",
    "\n",
    "    add(a=10,3,4) <br>\n",
    "    #Output:SyntaxError: positional argument follows keyword argument\n",
    "3. All the keyword arguments passed must match one of the arguments accepted by the function and their order is not important.\n",
    "\n",
    "    Example: <br>\n",
    "    def add(a,b,c):\n",
    "        return (a+b+c)\n",
    "\n",
    "    add(a=10,b1=5,c=12) <br>\n",
    "    #Output:TypeError: add() got an unexpected keyword argument 'b1'\n",
    "4. Default arguments are **optional arguments**.\n",
    "\n",
    "    Example 1: giving only the required arguments <br>\n",
    "    def add(a,b=5,c=10):\n",
    "        return (a+b+c)\n",
    "\n",
    "    add(2) <br>\n",
    "    #Output:17\n",
    "\n",
    "    Example 2: giving all arguments (optional and required arguments)<br>\n",
    "    def add(a,b=5,c=10):\n",
    "        return (a+b+c)\n",
    "\n",
    "    add(2,3,4) <br>\n",
    "    #Output:9"
   ]
  },
  {
   "cell_type": "markdown",
   "metadata": {},
   "source": [
    "## Let's Start Coding!"
   ]
  },
  {
   "cell_type": "markdown",
   "metadata": {},
   "source": [
    "### Topic 1: Function Arguments"
   ]
  },
  {
   "cell_type": "markdown",
   "metadata": {},
   "source": [
    "#### Example 1.1:\n",
    "A function is defined with some default arguments. \n",
    "1. Default arguments follow non-default arguments.\n",
    "2. Default arguments are optional arguments in the function call 1 & 2.\n",
    "3. We may pass positional arguments (arguments without equal sign) and keyword arguments.\n",
    "   Keyword arguments should follow positional arguments. "
   ]
  },
  {
   "cell_type": "code",
   "execution_count": 1,
   "metadata": {},
   "outputs": [
    {
     "name": "stdout",
     "output_type": "stream",
     "text": [
      "a =  3\n",
      "b =  5\n",
      "c =  10\n",
      "18\n",
      "a =  3\n",
      "b =  4\n",
      "c =  10\n",
      "17\n",
      "a =  3\n",
      "b =  4\n",
      "c =  7\n",
      "14\n",
      "a =  3\n",
      "b =  6\n",
      "c =  8\n",
      "17\n"
     ]
    }
   ],
   "source": [
    "# B & c are default arguments\n",
    "def my_func(a, b=5, c=10):\n",
    "    print('a = ', a)\n",
    "    print('b = ', b)\n",
    "    print('c = ', c)\n",
    "    return (a+b+c)\n",
    "\n",
    "# Note: 3 is positional argument and assigned to a, b use default value 5, c use default value 10\n",
    "print(my_func(3))\n",
    "\n",
    "# Note: 3 (is assigned to a) & 4 (is assigned to b) are positional arguments. \n",
    "# C use default value 10\n",
    "print(my_func(3, 4))\n",
    "\n",
    "# Note: 3, 4, 7 are all positional arguments.\n",
    "# 3 is assigned to a, 4 is assigned to b, and 7 is assigned to c.\n",
    "print(my_func(3, 4, 7))\n",
    "\n",
    "# Note: 3 is positional argument (assigned to a). b & c are keyword arguments\n",
    "print(my_func(3, b = 6, c = 8))"
   ]
  },
  {
   "cell_type": "markdown",
   "metadata": {},
   "source": [
    "#### Example 1.2:\n",
    "A function is defined with some default arguments.\n",
    "1. The order of keyword arguments does not need to be the same as the order defined in the function definition."
   ]
  },
  {
   "cell_type": "code",
   "execution_count": 2,
   "metadata": {},
   "outputs": [
    {
     "name": "stdout",
     "output_type": "stream",
     "text": [
      "a =  1\n",
      "b =  7\n",
      "c =  12\n",
      "20\n",
      "a =  8\n",
      "b =  5\n",
      "c =  10\n",
      "23\n",
      "a =  1\n",
      "b =  5\n",
      "c =  3\n",
      "9\n"
     ]
    }
   ],
   "source": [
    "# B and c are default arguments.\n",
    "def add(a, b=5, c=10):\n",
    "    print('a = ', a)\n",
    "    print('b = ', b)\n",
    "    print('c = ', c)\n",
    "    return (a+b+c)\n",
    "\n",
    "# B, c, a are keyword arguments. Values passed through arguments need not be in the order of \n",
    "# parameters in the function definition.\n",
    "print(add(b=7, c=12, a=1))\n",
    "\n",
    "# A is keyword argument. B and C use default values\n",
    "print(add(a=8))\n",
    "\n",
    "# 1 is positional argument (assigned to a). B used default value. C is keyword argument.\n",
    "print(add(1,c=3))"
   ]
  },
  {
   "cell_type": "markdown",
   "metadata": {},
   "source": [
    "#### Example 1.3:\n",
    "Note: there is an error in the function definition: **non-default argument follows default argument.** `'a=5'` followed by `'b'` is the error."
   ]
  },
  {
   "cell_type": "code",
   "execution_count": 3,
   "metadata": {},
   "outputs": [
    {
     "ename": "SyntaxError",
     "evalue": "non-default argument follows default argument (4279596472.py, line 1)",
     "output_type": "error",
     "traceback": [
      "\u001b[1;36m  Input \u001b[1;32mIn [3]\u001b[1;36m\u001b[0m\n\u001b[1;33m    def add(a=5, b, c):\u001b[0m\n\u001b[1;37m                    ^\u001b[0m\n\u001b[1;31mSyntaxError\u001b[0m\u001b[1;31m:\u001b[0m non-default argument follows default argument\n"
     ]
    }
   ],
   "source": [
    "def add(a=5, b, c):\n",
    "    print('a = ', a)\n",
    "    print('b = ', b)\n",
    "    print('c = ', c)\n",
    "    return (a+b+c)\n",
    "\n",
    "print(add(1 2,3))"
   ]
  },
  {
   "cell_type": "markdown",
   "metadata": {},
   "source": [
    "#### Example 1.4:\n",
    "Note: there is an error in the 3rd function call: **positional argument follows keyword argument.**\n",
    "        `'1'` follows `'b=2'` is the error."
   ]
  },
  {
   "cell_type": "code",
   "execution_count": 4,
   "metadata": {},
   "outputs": [
    {
     "ename": "SyntaxError",
     "evalue": "positional argument follows keyword argument (4162064534.py, line 15)",
     "output_type": "error",
     "traceback": [
      "\u001b[1;36m  Input \u001b[1;32mIn [4]\u001b[1;36m\u001b[0m\n\u001b[1;33m    print(add(b=2,1,c=3))\u001b[0m\n\u001b[1;37m                       ^\u001b[0m\n\u001b[1;31mSyntaxError\u001b[0m\u001b[1;31m:\u001b[0m positional argument follows keyword argument\n"
     ]
    }
   ],
   "source": [
    "def add(a, b, c):\n",
    "    print('a = ', a)\n",
    "    print('b = ', b)\n",
    "    print('c = ', c)\n",
    "    return (a+b+c)\n",
    "\n",
    "# All 1, 2, 3 are positional arguments. \n",
    "# 1 is assigned to a, 2 is assigned to b, and 3 is assigned to c.\n",
    "print(add(1, 2, 3))\n",
    "\n",
    "# 3 is a positional argument and assigned to a. Both c and b are keyword arguments, so \n",
    "# their order does not need to be the same as given in the function definition.\n",
    "print(add(3, c=7, b=5))\n",
    "\n",
    "# Error! Positional argument follows keyword argument - 1 follows 'b=2'\n",
    "print(add(b=2,1,c=3))"
   ]
  },
  {
   "cell_type": "markdown",
   "metadata": {},
   "source": [
    "#### Example 1.5:\n",
    "Note: there is an error in the function call. We passed a keyword argument `b1` which does not matched any arguments defined in the function definition."
   ]
  },
  {
   "cell_type": "code",
   "execution_count": 5,
   "metadata": {},
   "outputs": [
    {
     "ename": "TypeError",
     "evalue": "add() got an unexpected keyword argument 'b1'",
     "output_type": "error",
     "traceback": [
      "\u001b[1;31m---------------------------------------------------------------------------\u001b[0m",
      "\u001b[1;31mTypeError\u001b[0m                                 Traceback (most recent call last)",
      "Input \u001b[1;32mIn [5]\u001b[0m, in \u001b[0;36m<cell line: 4>\u001b[1;34m()\u001b[0m\n\u001b[0;32m      1\u001b[0m \u001b[38;5;28;01mdef\u001b[39;00m \u001b[38;5;21madd\u001b[39m(a,b,c):\n\u001b[0;32m      2\u001b[0m     \u001b[38;5;28;01mreturn\u001b[39;00m (a\u001b[38;5;241m+\u001b[39mb\u001b[38;5;241m+\u001b[39mc)\n\u001b[1;32m----> 4\u001b[0m \u001b[38;5;28mprint\u001b[39m(\u001b[43madd\u001b[49m\u001b[43m(\u001b[49m\u001b[43ma\u001b[49m\u001b[38;5;241;43m=\u001b[39;49m\u001b[38;5;241;43m10\u001b[39;49m\u001b[43m,\u001b[49m\u001b[43mb1\u001b[49m\u001b[38;5;241;43m=\u001b[39;49m\u001b[38;5;241;43m5\u001b[39;49m\u001b[43m,\u001b[49m\u001b[43mc\u001b[49m\u001b[38;5;241;43m=\u001b[39;49m\u001b[38;5;241;43m12\u001b[39;49m\u001b[43m)\u001b[49m)\n",
      "\u001b[1;31mTypeError\u001b[0m: add() got an unexpected keyword argument 'b1'"
     ]
    }
   ],
   "source": [
    "def add(a,b,c):\n",
    "    return (a+b+c)\n",
    "\n",
    "print(add(a=10,b1=5,c=12))"
   ]
  },
  {
   "cell_type": "markdown",
   "metadata": {},
   "source": [
    "#### Example 1.6:\n"
   ]
  },
  {
   "cell_type": "markdown",
   "metadata": {},
   "source": [
    "Great! You should now have a basic understanding of creating your own functions to save yourself from repeatedly writing code!"
   ]
  }
 ],
 "metadata": {
  "kernelspec": {
   "display_name": "Python 3 (ipykernel)",
   "language": "python",
   "name": "python3"
  },
  "language_info": {
   "codemirror_mode": {
    "name": "ipython",
    "version": 3
   },
   "file_extension": ".py",
   "mimetype": "text/x-python",
   "name": "python",
   "nbconvert_exporter": "python",
   "pygments_lexer": "ipython3",
   "version": "3.9.12"
  }
 },
 "nbformat": 4,
 "nbformat_minor": 1
}
