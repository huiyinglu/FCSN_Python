{
 "cells": [
  {
   "cell_type": "markdown",
   "id": "e49c1002",
   "metadata": {},
   "source": [
    "# Variable Assignment\n",
    "\n",
    "## Rules for variable names\n",
    "* names can not start with a number\n",
    "* names can not contain spaces, use _ intead\n",
    "* names can not contain any of these symbols:\n",
    "\n",
    "      :'\",<>/?|\\!@#%^&*~-+\n",
    "       \n",
    "* it's considered best practice ([PEP8](https://www.python.org/dev/peps/pep-0008/#function-and-variable-names)) that names are lowercase with underscores\n",
    "* avoid using Python built-in keywords like `list` and `str`\n",
    "* avoid using the single characters `l` (lowercase letter el), `O` (uppercase letter oh) and `I` (uppercase letter eye) as they can be confused with `1` and `0`"
   ]
  },
  {
   "cell_type": "markdown",
   "id": "a1c392bb",
   "metadata": {},
   "source": [
    "## Dynamic Typing\n",
    "\n",
    "Python uses *dynamic typing*, meaning you can reassign variables to different data types. This makes Python very flexible in assigning data types; it differs from other languages that are *statically typed*."
   ]
  },
  {
   "cell_type": "code",
   "execution_count": 15,
   "id": "a0579f28",
   "metadata": {},
   "outputs": [],
   "source": [
    "my_dogs = 2"
   ]
  },
  {
   "cell_type": "code",
   "execution_count": 16,
   "id": "61b8dcdb",
   "metadata": {},
   "outputs": [
    {
     "data": {
      "text/plain": [
       "2"
      ]
     },
     "execution_count": 16,
     "metadata": {},
     "output_type": "execute_result"
    }
   ],
   "source": [
    "my_dogs"
   ]
  },
  {
   "cell_type": "code",
   "execution_count": 18,
   "id": "df35b356",
   "metadata": {},
   "outputs": [],
   "source": [
    "my_dogs = ['Sammy', 'Frankie']"
   ]
  },
  {
   "cell_type": "code",
   "execution_count": 19,
   "id": "604b7bb0",
   "metadata": {},
   "outputs": [
    {
     "data": {
      "text/plain": [
       "['Sammy', 'Frankie']"
      ]
     },
     "execution_count": 19,
     "metadata": {},
     "output_type": "execute_result"
    }
   ],
   "source": [
    "my_dogs"
   ]
  },
  {
   "cell_type": "markdown",
   "id": "567f2767",
   "metadata": {},
   "source": [
    "### Pros and Cons of Dynamic Typing\n",
    "#### Pros of Dynamic Typing\n",
    "* very easy to work with\n",
    "* faster development time\n",
    "\n",
    "#### Cons of Dynamic Typing\n",
    "* may result in unexpected bugs!\n",
    "* you need to be aware of `type()`"
   ]
  },
  {
   "cell_type": "markdown",
   "id": "4338be61",
   "metadata": {},
   "source": [
    "## Assigning Variables\n",
    "Variable assignment follows `name = object`, where a single equals sign `=` is an *assignment operator*"
   ]
  },
  {
   "cell_type": "code",
   "execution_count": 1,
   "id": "bacf1467",
   "metadata": {},
   "outputs": [],
   "source": [
    "a = 5"
   ]
  },
  {
   "cell_type": "code",
   "execution_count": 2,
   "id": "2ad9a07c",
   "metadata": {},
   "outputs": [
    {
     "data": {
      "text/plain": [
       "5"
      ]
     },
     "execution_count": 2,
     "metadata": {},
     "output_type": "execute_result"
    }
   ],
   "source": [
    "a"
   ]
  },
  {
   "cell_type": "markdown",
   "id": "a9960e66",
   "metadata": {},
   "source": [
    "Here we assigned the integer object `5` to the variable name `a`.<br>Let's assign `a` to something else:"
   ]
  },
  {
   "cell_type": "code",
   "execution_count": 3,
   "id": "bca27f40",
   "metadata": {},
   "outputs": [],
   "source": [
    "a = 10"
   ]
  },
  {
   "cell_type": "code",
   "execution_count": 4,
   "id": "810b0a05",
   "metadata": {},
   "outputs": [
    {
     "data": {
      "text/plain": [
       "10"
      ]
     },
     "execution_count": 4,
     "metadata": {},
     "output_type": "execute_result"
    }
   ],
   "source": [
    "a"
   ]
  },
  {
   "cell_type": "markdown",
   "id": "daf3ab1e",
   "metadata": {},
   "source": [
    "You can now use `a` in place of the number `10`:`"
   ]
  },
  {
   "cell_type": "code",
   "execution_count": 5,
   "id": "72940ea8",
   "metadata": {},
   "outputs": [
    {
     "data": {
      "text/plain": [
       "20"
      ]
     },
     "execution_count": 5,
     "metadata": {},
     "output_type": "execute_result"
    }
   ],
   "source": [
    "a + a"
   ]
  },
  {
   "cell_type": "markdown",
   "id": "39ea656b",
   "metadata": {},
   "source": [
    "## Reassigning Variables\n",
    "Python lets you reassign variables with a reference to the same object."
   ]
  },
  {
   "cell_type": "code",
   "execution_count": 1,
   "id": "bd09ce76",
   "metadata": {},
   "outputs": [],
   "source": [
    "a = 10"
   ]
  },
  {
   "cell_type": "code",
   "execution_count": 2,
   "id": "bfd876a2",
   "metadata": {},
   "outputs": [],
   "source": [
    "a = a + 10"
   ]
  },
  {
   "cell_type": "code",
   "execution_count": 3,
   "id": "4851d4f7",
   "metadata": {},
   "outputs": [
    {
     "data": {
      "text/plain": [
       "20"
      ]
     },
     "execution_count": 3,
     "metadata": {},
     "output_type": "execute_result"
    }
   ],
   "source": [
    "a"
   ]
  },
  {
   "cell_type": "markdown",
   "id": "df86fcc7",
   "metadata": {},
   "source": [
    "There's actually a shortcut for this. Python lets you add, subtract, multiply and divide numbers with reassignment using `+=`, `-=`, `*=`, and `/=`."
   ]
  },
  {
   "cell_type": "code",
   "execution_count": 4,
   "id": "eceff74f",
   "metadata": {},
   "outputs": [],
   "source": [
    "# a = a + 10\n",
    "a += 10"
   ]
  },
  {
   "cell_type": "code",
   "execution_count": 5,
   "id": "362e4e81",
   "metadata": {},
   "outputs": [
    {
     "data": {
      "text/plain": [
       "30"
      ]
     },
     "execution_count": 5,
     "metadata": {},
     "output_type": "execute_result"
    }
   ],
   "source": [
    "a"
   ]
  },
  {
   "cell_type": "code",
   "execution_count": 6,
   "id": "8664bef6",
   "metadata": {},
   "outputs": [],
   "source": [
    "# a = a * 2\n",
    "a *= 2"
   ]
  },
  {
   "cell_type": "code",
   "execution_count": 7,
   "id": "56d12fba",
   "metadata": {},
   "outputs": [
    {
     "data": {
      "text/plain": [
       "60"
      ]
     },
     "execution_count": 7,
     "metadata": {},
     "output_type": "execute_result"
    }
   ],
   "source": [
    "a"
   ]
  },
  {
   "cell_type": "markdown",
   "id": "c0f20d46",
   "metadata": {},
   "source": [
    "## Determining variable type with `type()`\n",
    "You can check what type of object is assigned to a variable using Python's built-in `type()` function. Common data types include:\n",
    "* **int** (for integer)\n",
    "* **float**\n",
    "* **str** (for string)\n",
    "* **list**\n",
    "* **tuple**\n",
    "* **dict** (for dictionary)\n",
    "* **set**\n",
    "* **bool** (for Boolean True/False)"
   ]
  },
  {
   "cell_type": "code",
   "execution_count": 8,
   "id": "0e5001d6",
   "metadata": {},
   "outputs": [
    {
     "data": {
      "text/plain": [
       "int"
      ]
     },
     "execution_count": 8,
     "metadata": {},
     "output_type": "execute_result"
    }
   ],
   "source": [
    "type(a)"
   ]
  },
  {
   "cell_type": "code",
   "execution_count": 9,
   "id": "47aab9de",
   "metadata": {},
   "outputs": [],
   "source": [
    "a = (1,2)"
   ]
  },
  {
   "cell_type": "code",
   "execution_count": 10,
   "id": "c351a623",
   "metadata": {},
   "outputs": [
    {
     "data": {
      "text/plain": [
       "tuple"
      ]
     },
     "execution_count": 10,
     "metadata": {},
     "output_type": "execute_result"
    }
   ],
   "source": [
    "type(a)"
   ]
  },
  {
   "cell_type": "markdown",
   "id": "6c620733",
   "metadata": {},
   "source": [
    "## Simple Exercise\n",
    "This shows how variables make calculations more readable and easier to follow."
   ]
  },
  {
   "cell_type": "code",
   "execution_count": 12,
   "id": "a039da70",
   "metadata": {},
   "outputs": [],
   "source": [
    "my_income = 100\n",
    "tax_rate = 0.1\n",
    "my_taxes = my_income * tax_rate"
   ]
  },
  {
   "cell_type": "code",
   "execution_count": 13,
   "id": "786c24fd",
   "metadata": {},
   "outputs": [
    {
     "data": {
      "text/plain": [
       "10.0"
      ]
     },
     "execution_count": 13,
     "metadata": {},
     "output_type": "execute_result"
    }
   ],
   "source": [
    "my_taxes"
   ]
  },
  {
   "cell_type": "markdown",
   "id": "9071a155",
   "metadata": {},
   "source": [
    "Great! You should now understand the basics of variable assignment and reassignment in Python.\n",
    "Up next, we'll learn about strings!"
   ]
  }
 ],
 "metadata": {
  "kernelspec": {
   "display_name": "Python 3 (ipykernel)",
   "language": "python",
   "name": "python3"
  },
  "language_info": {
   "codemirror_mode": {
    "name": "ipython",
    "version": 3
   },
   "file_extension": ".py",
   "mimetype": "text/x-python",
   "name": "python",
   "nbconvert_exporter": "python",
   "pygments_lexer": "ipython3",
   "version": "3.9.7"
  }
 },
 "nbformat": 4,
 "nbformat_minor": 5
}
