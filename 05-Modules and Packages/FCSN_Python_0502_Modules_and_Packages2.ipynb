{
 "cells": [
  {
   "cell_type": "markdown",
   "id": "e57750ff",
   "metadata": {},
   "source": [
    "# Modules 2"
   ]
  },
  {
   "cell_type": "markdown",
   "id": "858cc6ff",
   "metadata": {},
   "source": [
    "## OS: Module Provides Functions for Interacting with the Operating System"
   ]
  },
  {
   "cell_type": "code",
   "execution_count": 1,
   "id": "a5064765",
   "metadata": {},
   "outputs": [
    {
     "data": {
      "text/plain": [
       "['.ipynb_checkpoints',\n",
       " 'Capstone-Project.ipynb',\n",
       " 'FCSN_Python_0501_Modules_and_Packages.ipynb',\n",
       " 'FCSN_Python_0502_Modules_and_Packages2.ipynb',\n",
       " 'file1.csv',\n",
       " 'file2.csv',\n",
       " 'file2.txt',\n",
       " 'myfolder',\n",
       " 'myprog.py',\n",
       " 'test1.db',\n",
       " 'Untitled.ipynb',\n",
       " 'using collections .ipynb',\n",
       " '__pycache__']"
      ]
     },
     "execution_count": 1,
     "metadata": {},
     "output_type": "execute_result"
    }
   ],
   "source": [
    "import os\n",
    "\n",
    "os.listdir(\".\")"
   ]
  },
  {
   "cell_type": "code",
   "execution_count": 2,
   "id": "29b2cf21",
   "metadata": {},
   "outputs": [
    {
     "data": {
      "text/plain": [
       "'C:\\\\Users\\\\huiyi\\\\FCSN\\\\Python_Course\\\\05-Modules and Packages'"
      ]
     },
     "execution_count": 2,
     "metadata": {},
     "output_type": "execute_result"
    }
   ],
   "source": [
    "pwd"
   ]
  },
  {
   "cell_type": "code",
   "execution_count": 3,
   "id": "3de4e659",
   "metadata": {},
   "outputs": [
    {
     "data": {
      "text/plain": [
       "['.ipynb_checkpoints',\n",
       " 'Capstone-Project.ipynb',\n",
       " 'FCSN_Python_0501_Modules_and_Packages.ipynb',\n",
       " 'FCSN_Python_0502_Modules_and_Packages2.ipynb',\n",
       " 'file1.csv',\n",
       " 'file2.csv',\n",
       " 'file2.txt',\n",
       " 'myfolder',\n",
       " 'myprog.py',\n",
       " 'test1.db',\n",
       " 'Untitled.ipynb',\n",
       " 'using collections .ipynb',\n",
       " '__pycache__']"
      ]
     },
     "execution_count": 3,
     "metadata": {},
     "output_type": "execute_result"
    }
   ],
   "source": [
    "os.listdir('C:\\\\Users\\\\huiyi\\\\FCSN\\\\Python_Course\\\\05-Modules and Packages')"
   ]
  },
  {
   "cell_type": "code",
   "execution_count": 4,
   "id": "8060af9e",
   "metadata": {},
   "outputs": [
    {
     "name": "stdout",
     "output_type": "stream",
     "text": [
      "This is root:  C:\\Users\\huiyi\\FCSN\\Python_Course\\05-Modules and Packages\n",
      "This is dirs:  ['.ipynb_checkpoints', 'myfolder', '__pycache__']\n",
      "C:\\Users\\huiyi\\FCSN\\Python_Course\\05-Modules and Packages\\myprog.py\n",
      "This is root:  C:\\Users\\huiyi\\FCSN\\Python_Course\\05-Modules and Packages\\.ipynb_checkpoints\n",
      "This is dirs:  []\n",
      "This is root:  C:\\Users\\huiyi\\FCSN\\Python_Course\\05-Modules and Packages\\myfolder\n",
      "This is dirs:  ['.ipynb_checkpoints', '__pycache__']\n",
      "C:\\Users\\huiyi\\FCSN\\Python_Course\\05-Modules and Packages\\myfolder\\mymodule.py\n",
      "This is root:  C:\\Users\\huiyi\\FCSN\\Python_Course\\05-Modules and Packages\\myfolder\\.ipynb_checkpoints\n",
      "This is dirs:  []\n",
      "This is root:  C:\\Users\\huiyi\\FCSN\\Python_Course\\05-Modules and Packages\\myfolder\\__pycache__\n",
      "This is dirs:  []\n",
      "This is root:  C:\\Users\\huiyi\\FCSN\\Python_Course\\05-Modules and Packages\\__pycache__\n",
      "This is dirs:  []\n"
     ]
    }
   ],
   "source": [
    "for root, dirs, files in os.walk('C:\\\\Users\\\\huiyi\\\\FCSN\\\\Python_Course\\\\05-Modules and Packages'):\n",
    "    print(\"This is root: \", root)\n",
    "    print(\"This is dirs: \", dirs)\n",
    "    # root, dirs, files\n",
    "    for file in files:\n",
    "        if file.endswith(\".py\"):\n",
    "             print(os.path.join(root, file))"
   ]
  },
  {
   "cell_type": "code",
   "execution_count": 5,
   "id": "b158a8f4",
   "metadata": {},
   "outputs": [
    {
     "data": {
      "text/plain": [
       "'C:\\\\Users\\\\huiyi\\\\FCSN\\\\Python_Course\\\\05-Modules and Packages'"
      ]
     },
     "execution_count": 5,
     "metadata": {},
     "output_type": "execute_result"
    }
   ],
   "source": [
    "os.getcwd()"
   ]
  },
  {
   "cell_type": "markdown",
   "id": "4104c0ca",
   "metadata": {},
   "source": [
    "## Math"
   ]
  },
  {
   "cell_type": "code",
   "execution_count": 6,
   "id": "0cfc8d38",
   "metadata": {},
   "outputs": [
    {
     "name": "stdout",
     "output_type": "stream",
     "text": [
      "0.7071067811865476\n"
     ]
    }
   ],
   "source": [
    "# Import all functions in a given module\n",
    "# You have to refer to the module name when \n",
    "# calling the function\n",
    "import math\n",
    "print(math.sin(math.pi/4))"
   ]
  },
  {
   "cell_type": "code",
   "execution_count": 7,
   "id": "be55e156",
   "metadata": {},
   "outputs": [
    {
     "name": "stdout",
     "output_type": "stream",
     "text": [
      "0.7071067811865476\n"
     ]
    }
   ],
   "source": [
    "# Import all functions in a given module\n",
    "# You do not need to refer to the module name when \n",
    "# calling the function\n",
    "from math import *\n",
    "print(sin(pi/4))"
   ]
  },
  {
   "cell_type": "code",
   "execution_count": 8,
   "id": "70b7fa79",
   "metadata": {},
   "outputs": [
    {
     "name": "stdout",
     "output_type": "stream",
     "text": [
      "0.7071067811865476\n"
     ]
    }
   ],
   "source": [
    "# Give a shortcut name to the module. \n",
    "# Especially true for modules with long names such as matplotlib\n",
    "import math as ma\n",
    "print(ma.sin(ma.pi/4))"
   ]
  },
  {
   "cell_type": "code",
   "execution_count": 9,
   "id": "dc25e12c",
   "metadata": {},
   "outputs": [
    {
     "name": "stdout",
     "output_type": "stream",
     "text": [
      "0.7071067811865476\n"
     ]
    }
   ],
   "source": [
    "# Only import the necessary functions from a module\n",
    "# This is memory efficient\n",
    "from math import sin,pi\n",
    "print(sin(pi/4))"
   ]
  },
  {
   "cell_type": "markdown",
   "id": "1f35576b",
   "metadata": {},
   "source": [
    "## Datetime: Module for Manipulating Dates and Times"
   ]
  },
  {
   "cell_type": "code",
   "execution_count": 10,
   "id": "d808ca61",
   "metadata": {},
   "outputs": [],
   "source": [
    "import datetime"
   ]
  },
  {
   "cell_type": "code",
   "execution_count": 11,
   "id": "7494f90f",
   "metadata": {},
   "outputs": [
    {
     "name": "stdout",
     "output_type": "stream",
     "text": [
      "08:30:00\n"
     ]
    }
   ],
   "source": [
    "# Create a Python time object hour=8, minute=30, seconds = 0\n",
    "t = datetime.time(8,30,0)\n",
    "print(t)"
   ]
  },
  {
   "cell_type": "code",
   "execution_count": 12,
   "id": "3b3d296c",
   "metadata": {},
   "outputs": [
    {
     "name": "stdout",
     "output_type": "stream",
     "text": [
      "2022-12-06\n"
     ]
    }
   ],
   "source": [
    "# Create a Python date object year = 2022, month = 12 and day = 6\n",
    "d = datetime.date(year=2022, month=12, day=6)\n",
    "print(d)"
   ]
  },
  {
   "cell_type": "code",
   "execution_count": 13,
   "id": "e5aed596",
   "metadata": {},
   "outputs": [
    {
     "name": "stdout",
     "output_type": "stream",
     "text": [
      "2022-12-18\n"
     ]
    }
   ],
   "source": [
    "# Print current date\n",
    "print(datetime.date.today())"
   ]
  },
  {
   "cell_type": "code",
   "execution_count": 14,
   "id": "8f6b0ffc",
   "metadata": {},
   "outputs": [
    {
     "name": "stdout",
     "output_type": "stream",
     "text": [
      "2022-12-18 2022-12-19\n"
     ]
    }
   ],
   "source": [
    "td = datetime.date.today() # Todays date\n",
    "tomd = datetime.date.today()+datetime.timedelta(days=1) # Tomorrows date\n",
    "print(td,tomd)"
   ]
  },
  {
   "cell_type": "code",
   "execution_count": 15,
   "id": "2a1bf6ac",
   "metadata": {},
   "outputs": [
    {
     "name": "stdout",
     "output_type": "stream",
     "text": [
      "2022-12-18 00:20:14.507398\n"
     ]
    }
   ],
   "source": [
    "# If you want both date and time\n",
    "today = datetime.datetime.today()\n",
    "print(today)"
   ]
  },
  {
   "cell_type": "markdown",
   "id": "87338f47",
   "metadata": {},
   "source": [
    "## Python Collections Module"
   ]
  },
  {
   "cell_type": "markdown",
   "id": "5963110f",
   "metadata": {},
   "source": [
    "**Collections module** contains `specialized datatypes` that can be used in addition to basic data \n",
    "types such as list, dictionary, set and tuple.\n",
    "\n",
    "Some of the datatypes available in the collection modules are\n",
    "\n",
    "1. Counter\n",
    "2. Named Tuple\n",
    "3. Default Dictionary\n",
    "4. Ordered Dictionary\n",
    "5. Deque or Double Ended Queue (pronunciation: deck)\n",
    "\n",
    "We will just go over Counter in this lecture."
   ]
  },
  {
   "cell_type": "markdown",
   "id": "f8ae1872",
   "metadata": {},
   "source": [
    "### Counter Datatype\n",
    "A counter keeps track of `number of times an element appears`. As the name indicates,  a counter is used to **count objects**.  This can be implemented in multiple ways but counter is an efficient method."
   ]
  },
  {
   "cell_type": "code",
   "execution_count": 16,
   "id": "d73f6204",
   "metadata": {},
   "outputs": [
    {
     "name": "stdout",
     "output_type": "stream",
     "text": [
      "Counter({'e': 2, 's': 2, ' ': 2, 'o': 2, 'P': 1, 'l': 1, 'a': 1, 'c': 1, 'u': 1, 'n': 1, 't': 1, 'w': 1, 'r': 1, 'd': 1})\n"
     ]
    }
   ],
   "source": [
    "from collections import Counter \n",
    "c = Counter(\"Please count words\")\n",
    "\n",
    "# Prints the individual letter and also its frequency\n",
    "print(c)"
   ]
  },
  {
   "cell_type": "code",
   "execution_count": 17,
   "id": "f58780bb",
   "metadata": {},
   "outputs": [
    {
     "name": "stdout",
     "output_type": "stream",
     "text": [
      "Counter({'e': 2, 's': 2, ' ': 2, 'P': 1, 'l': 1, 'a': 1, 'c': 1, 'o': 1, 'u': 1, 'n': 1, 't': 1, 'w': 1, 'r': 1, 'd': 1})\n"
     ]
    }
   ],
   "source": [
    "# Resetting the value of 'o' to 1\n",
    "c['o'] = 1\n",
    "print(c)"
   ]
  },
  {
   "cell_type": "code",
   "execution_count": 18,
   "id": "17541db1",
   "metadata": {},
   "outputs": [
    {
     "name": "stdout",
     "output_type": "stream",
     "text": [
      "dict_values([1, 1, 2, 1, 2, 2, 1, 1, 1, 1, 1, 1, 1, 1])\n",
      "P 1\n",
      "l 1\n",
      "e 2\n",
      "a 1\n",
      "s 2\n",
      "  2\n",
      "c 1\n",
      "o 1\n",
      "u 1\n",
      "n 1\n",
      "t 1\n",
      "w 1\n",
      "r 1\n",
      "d 1\n"
     ]
    }
   ],
   "source": [
    "# This will return all the values\n",
    "print(c.values())\n",
    "\n",
    "for k, v in c.items():\n",
    "    print(k, v)"
   ]
  },
  {
   "cell_type": "markdown",
   "id": "6ea9f7bc",
   "metadata": {},
   "source": [
    "#### We can perform operations on a counter"
   ]
  },
  {
   "cell_type": "code",
   "execution_count": 19,
   "id": "b10dcd4e",
   "metadata": {},
   "outputs": [
    {
     "name": "stdout",
     "output_type": "stream",
     "text": [
      "Counter({'s': 2, 'a': 1, 'n': 1, 'j': 1, 'o': 1, 'e': 1})\n",
      "Counter({'a': 4, 's': 1, 'n': 1, 't': 1, 'c': 1, 'l': 1, 'r': 1})\n"
     ]
    }
   ],
   "source": [
    "c1 = Counter(['s', 'a', 'n', 'j', 'o', 's','e'])\n",
    "c2 = Counter('santaclara')\n",
    "print(c1)\n",
    "print(c2)"
   ]
  },
  {
   "cell_type": "code",
   "execution_count": 20,
   "id": "be5eef41",
   "metadata": {},
   "outputs": [
    {
     "data": {
      "text/plain": [
       "Counter({'s': 3,\n",
       "         'a': 5,\n",
       "         'n': 2,\n",
       "         'j': 1,\n",
       "         'o': 1,\n",
       "         'e': 1,\n",
       "         't': 1,\n",
       "         'c': 1,\n",
       "         'l': 1,\n",
       "         'r': 1})"
      ]
     },
     "execution_count": 20,
     "metadata": {},
     "output_type": "execute_result"
    }
   ],
   "source": [
    "c1 + c2 # Addition combines the values in the two containers"
   ]
  },
  {
   "cell_type": "code",
   "execution_count": 21,
   "id": "51815440",
   "metadata": {},
   "outputs": [
    {
     "data": {
      "text/plain": [
       "Counter({'s': 1, 'j': 1, 'o': 1, 'e': 1})"
      ]
     },
     "execution_count": 21,
     "metadata": {},
     "output_type": "execute_result"
    }
   ],
   "source": [
    "c1 - c2 #Subtraction removes the value from c1 that is present in c2\n",
    "# If the difference between the value is negative that key is ignored"
   ]
  },
  {
   "cell_type": "code",
   "execution_count": 22,
   "id": "ec232108",
   "metadata": {},
   "outputs": [
    {
     "data": {
      "text/plain": [
       "Counter({'s': 1, 'a': 1, 'n': 1})"
      ]
     },
     "execution_count": 22,
     "metadata": {},
     "output_type": "execute_result"
    }
   ],
   "source": [
    "c1 & c2 # Intersection finds the positive minimum value"
   ]
  },
  {
   "cell_type": "code",
   "execution_count": 23,
   "id": "2f60191c",
   "metadata": {},
   "outputs": [
    {
     "data": {
      "text/plain": [
       "Counter({'s': 2,\n",
       "         'a': 4,\n",
       "         'n': 1,\n",
       "         'j': 1,\n",
       "         'o': 1,\n",
       "         'e': 1,\n",
       "         't': 1,\n",
       "         'c': 1,\n",
       "         'l': 1,\n",
       "         'r': 1})"
      ]
     },
     "execution_count": 23,
     "metadata": {},
     "output_type": "execute_result"
    }
   ],
   "source": [
    "c1 | c2 # Union keeps the highest value in one of the two in the final result"
   ]
  }
 ],
 "metadata": {
  "kernelspec": {
   "display_name": "Python 3 (ipykernel)",
   "language": "python",
   "name": "python3"
  },
  "language_info": {
   "codemirror_mode": {
    "name": "ipython",
    "version": 3
   },
   "file_extension": ".py",
   "mimetype": "text/x-python",
   "name": "python",
   "nbconvert_exporter": "python",
   "pygments_lexer": "ipython3",
   "version": "3.9.12"
  }
 },
 "nbformat": 4,
 "nbformat_minor": 5
}
