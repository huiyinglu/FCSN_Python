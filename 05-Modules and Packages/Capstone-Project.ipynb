{
 "cells": [
  {
   "cell_type": "code",
   "execution_count": 1,
   "id": "eca5d730",
   "metadata": {},
   "outputs": [
    {
     "name": "stdout",
     "output_type": "stream",
     "text": [
      "['Henry Wolf', ' 45']\n",
      "['John Miller', ' 27']\n",
      "['Mary Wong', ' 38']\n",
      "['Alice Wilson', ' 63']\n"
     ]
    },
    {
     "data": {
      "text/plain": [
       "[(63, 'Alice Wilson'),\n",
       " (45, 'Henry Wolf'),\n",
       " (38, 'Mary Wong'),\n",
       " (27, 'John Miller')]"
      ]
     },
     "execution_count": 1,
     "metadata": {},
     "output_type": "execute_result"
    }
   ],
   "source": [
    "with open('file2.txt', 'r') as fo:\n",
    "    results = []\n",
    "    for line in fo.readlines():\n",
    "        line = line.strip()\n",
    "        temp_list = line.split(',')\n",
    "        print(temp_list)\n",
    "        results.append([temp_list[0], int(temp_list[1])])\n",
    "\n",
    "tup = sorted([(item[1], item[0]) for item in results], reverse=True)\n",
    "tup"
   ]
  },
  {
   "cell_type": "code",
   "execution_count": null,
   "id": "8061bd7b",
   "metadata": {},
   "outputs": [],
   "source": []
  }
 ],
 "metadata": {
  "kernelspec": {
   "display_name": "Python 3 (ipykernel)",
   "language": "python",
   "name": "python3"
  },
  "language_info": {
   "codemirror_mode": {
    "name": "ipython",
    "version": 3
   },
   "file_extension": ".py",
   "mimetype": "text/x-python",
   "name": "python",
   "nbconvert_exporter": "python",
   "pygments_lexer": "ipython3",
   "version": "3.9.12"
  }
 },
 "nbformat": 4,
 "nbformat_minor": 5
}
