{
 "cells": [
  {
   "cell_type": "markdown",
   "id": "9d186df6",
   "metadata": {},
   "source": [
    "# Modules, Packages and Libraries\n",
    "#### Python Modules\n",
    "A module is basically a bunch of related code saved in a file with the extension `.py`. You may choose to define functions, classes, or variables in a module. If we want to use the code defined in a module in our application, we first need to import the respective module using the **`import`** statement. Then, we’ll be ready to use a function defined in this module by calling that function with the `module.function()` syntax.\n",
    "\n",
    "#### Python Packages\n",
    "*`Python packages are basically a directory of a collection of modules.`* Packages allow the hierarchical structure of the module namespace. Just like we organize our files on a hard drive into folders and sub-folders, we can organize our modules into packages and subpackages.\n",
    "\n",
    "#### Python Libraries\n",
    "*`A library is an umbrella term referring to a reusable chunk of code.`* Usually, a Python library contains a collection of related modules and packages. Actually, this term is often used interchangeably with “Python package” because packages can also contain modules and other packages (subpackages). However, it is often assumed that while *`a package is a collection of modules, a library is a collection of packages.`*\n",
    "\n",
    "Source:\n",
    "https://learnpython.com/blog/python-modules-packages-libraries-frameworks/"
   ]
  },
  {
   "cell_type": "markdown",
   "id": "737862ae",
   "metadata": {},
   "source": [
    "## Creating Your Own Modules"
   ]
  },
  {
   "cell_type": "markdown",
   "id": "1a193dc3",
   "metadata": {},
   "source": [
    "**Example:** module is in `the same directory` as the program which needs to use functions from other modules"
   ]
  },
  {
   "cell_type": "code",
   "execution_count": 1,
   "id": "f14963ce",
   "metadata": {},
   "outputs": [
    {
     "name": "stdout",
     "output_type": "stream",
     "text": [
      "5\n"
     ]
    }
   ],
   "source": [
    "# The file myprog.py is in the same folder as this Jupyter notebook\n",
    "import myprog\n",
    "print(myprog.increment(2,3))"
   ]
  },
  {
   "cell_type": "markdown",
   "id": "3cdc03f1",
   "metadata": {},
   "source": [
    "**Example:** module is in a different directory than the program which needs to use functions from other modules"
   ]
  },
  {
   "cell_type": "code",
   "execution_count": 5,
   "id": "577f7a68",
   "metadata": {},
   "outputs": [
    {
     "name": "stdout",
     "output_type": "stream",
     "text": [
      "True\n"
     ]
    }
   ],
   "source": [
    "# The file mymodule.py is in the folder \"myfolder\" which is \n",
    "# in the same location as this Jupyter notebook\n",
    "from myfolder import mymodule # This used very often\n",
    "print(mymodule.even_check([2,4,6]))\n",
    "\n",
    "#print(even_check([2,4,6]) does not work!!!"
   ]
  },
  {
   "cell_type": "markdown",
   "id": "ce8559c9",
   "metadata": {},
   "source": [
    "**Example:** module is in a different directory than the program which needs to use functions from other modules"
   ]
  },
  {
   "cell_type": "code",
   "execution_count": 7,
   "id": "4b453b13",
   "metadata": {},
   "outputs": [
    {
     "name": "stdout",
     "output_type": "stream",
     "text": [
      "False\n",
      "False\n"
     ]
    }
   ],
   "source": [
    "import myfolder\n",
    "print(mymodule.even_check([1,3,5]))\n",
    "\n",
    "# Clearer \n",
    "import myfolder\n",
    "print(myfolder.mymodule.even_check([1,2,3,4]))"
   ]
  },
  {
   "cell_type": "markdown",
   "id": "62f1da95",
   "metadata": {},
   "source": [
    "**Examples: Give a shortcut name to the module**\n",
    "\n",
    "Note: this is extreamly useful for modules with long names such as matplotlib"
   ]
  },
  {
   "cell_type": "code",
   "execution_count": 11,
   "id": "ba4cc9a4",
   "metadata": {},
   "outputs": [
    {
     "name": "stdout",
     "output_type": "stream",
     "text": [
      "False\n",
      "False\n"
     ]
    }
   ],
   "source": [
    "import myfolder as mf\n",
    "print(mf.mymodule.even_check([20,3]))\n",
    "\n",
    "# Clear and convinent\n",
    "import myfolder.mymodule as mmod\n",
    "print(mmod.even_check([2,3]))"
   ]
  },
  {
   "cell_type": "markdown",
   "id": "c3d51a11",
   "metadata": {},
   "source": [
    "**Examples: import function(s) or everything in a given module** \n",
    "\n",
    "Note: you `don't need` to refer the module name when calling the function."
   ]
  },
  {
   "cell_type": "code",
   "execution_count": 13,
   "id": "140b1567",
   "metadata": {},
   "outputs": [
    {
     "name": "stdout",
     "output_type": "stream",
     "text": [
      "True\n",
      "8\n"
     ]
    }
   ],
   "source": [
    "# Only import certain function\n",
    "from myfolder.mymodule import even_check\n",
    "print(even_check([2,4,6]))\n",
    "\n",
    "# Import everything including function\n",
    "from myprog import *\n",
    "print(increment(3,5))"
   ]
  },
  {
   "cell_type": "markdown",
   "id": "7bff631d",
   "metadata": {},
   "source": [
    "## Python Libraries for Data Science: Numpy, Pandas and Matplotlib"
   ]
  },
  {
   "cell_type": "code",
   "execution_count": null,
   "id": "f264f146",
   "metadata": {},
   "outputs": [],
   "source": [
    "import numpy as np\n",
    "import pandas as pd\n",
    "import matplotlib.pyplot as plt\n",
    "\n",
    "%matplotlib inline"
   ]
  },
  {
   "cell_type": "markdown",
   "id": "614b75ae",
   "metadata": {},
   "source": [
    "### 1. Numpy\n",
    "#### Numpy Array"
   ]
  },
  {
   "cell_type": "code",
   "execution_count": null,
   "id": "af9485c4",
   "metadata": {},
   "outputs": [],
   "source": [
    "### Create a 1 dimensional array\n",
    "a = np.array([1,2,3])\n",
    "\n",
    "### Print object type\n",
    "print(type(a))\n",
    "\n",
    "### Print shape\n",
    "print(a.shape)\n",
    "\n",
    "### Print some values in a\n",
    "print(a[0], a[1], a[2])\n",
    "\n",
    "### Create a 2x2 numpy array\n",
    "b = np.array([[1,2],[3,4]])\n",
    "\n",
    "### Print shape\n",
    "print(b.shape)\n",
    "\n",
    "## Print some values in b\n",
    "print(b[0,0], b[0,1], b[1,1])\n",
    "\n",
    "### Create a 3x2 numpy array\n",
    "c = np.array([[1,2],[3,4],[5,6]])\n",
    "\n",
    "### Print shape\n",
    "print(c.shape)\n",
    "\n",
    "### Print some values in c\n",
    "print(c[0,1], c[1,0], c[2,0], c[2,1])"
   ]
  },
  {
   "cell_type": "markdown",
   "id": "6324ed44",
   "metadata": {},
   "source": [
    "**Numpy.random.random(): a function used `very often`!**"
   ]
  },
  {
   "cell_type": "code",
   "execution_count": null,
   "id": "5c532ec4",
   "metadata": {},
   "outputs": [],
   "source": [
    "### Generate a 3 x 3 array of random floating point numbers in the range [0.0, 1.0).\n",
    "g = np.random.random((3,3))\n",
    "print(g)"
   ]
  },
  {
   "cell_type": "code",
   "execution_count": null,
   "id": "34c7dba0",
   "metadata": {},
   "outputs": [],
   "source": [
    "# random.randint(low, high, size): low and size are optional\n",
    "\n",
    "# Generate a random integer value between 0 and 9 inclusive\n",
    "print(np.random.randint(10))\n",
    "\n",
    "# Generate a 4 x 3 array of ints between 0 and 4, inclusive:\n",
    "print(np.random.randint(5, size=(4,3)))"
   ]
  },
  {
   "cell_type": "markdown",
   "id": "89cf05b2",
   "metadata": {},
   "source": [
    "#### Array Math (Optional)\n",
    "Basic mathematical functions operate **`elementwise`** on arrays, and are available both as `operator overloads` and as `functions` in the numpy module:"
   ]
  },
  {
   "cell_type": "code",
   "execution_count": null,
   "id": "0907f302",
   "metadata": {},
   "outputs": [],
   "source": [
    "x = np.array([[1,2],[3,4]], dtype=np.float64)\n",
    "y = np.array([[5,6],[7,8]], dtype=np.float64)\n",
    "\n",
    "# Elementwise sum; both produce the array\n",
    "# [[ 6.0  8.0]\n",
    "#  [10.0 12.0]]\n",
    "print(x + y)\n",
    "print(np.add(x, y))\n",
    "\n",
    "# Elementwise difference; both produce the array\n",
    "# [[-4.0 -4.0]\n",
    "#  [-4.0 -4.0]]\n",
    "print(x - y)\n",
    "print(np.subtract(x, y))\n",
    "\n",
    "# Elementwise product; both produce the array\n",
    "# [[ 5.0 12.0]\n",
    "#  [21.0 32.0]]\n",
    "print(x * y)\n",
    "print(np.multiply(x, y))\n",
    "\n",
    "# Elementwise division; both produce the array\n",
    "# [[ 0.2         0.33333333]\n",
    "#  [ 0.42857143  0.5       ]]\n",
    "print(x / y)\n",
    "print(np.divide(x, y))\n",
    "\n",
    "# Elementwise square root; produces the array\n",
    "# [[ 1.          1.41421356]\n",
    "#  [ 1.73205081  2.        ]]\n",
    "print(np.sqrt(x))"
   ]
  },
  {
   "cell_type": "markdown",
   "id": "58fd2413",
   "metadata": {},
   "source": [
    "#### Np.sum() and np.mean() (optional)"
   ]
  },
  {
   "cell_type": "code",
   "execution_count": null,
   "id": "2fb98cb5",
   "metadata": {},
   "outputs": [],
   "source": [
    "x = np.array([[1,2],[3,4]])\n",
    "\n",
    "### Compute sum of all elements; prints \"10\"\n",
    "print(np.sum(x))\n",
    "\n",
    "### Compute sum of each column; prints \"[4 6]\"\n",
    "print(np.sum(x, axis=0)) \n",
    "\n",
    "### Compute sum of each row; prints \"[3 7]\"\n",
    "print(np.sum(x, axis=1))"
   ]
  },
  {
   "cell_type": "code",
   "execution_count": null,
   "id": "55662841",
   "metadata": {},
   "outputs": [],
   "source": [
    "x = np.array([[1,2],[3,4]])\n",
    "\n",
    "### Compute mean of all elements; prints \"2.5\"\n",
    "print(np.mean(x))\n",
    "\n",
    "### Compute mean of each column; prints \"[2 3]\"\n",
    "print(np.mean(x, axis=0)) \n",
    "\n",
    "### Compute mean of each row; prints \"[1.5 3.5]\"\n",
    "print(np.mean(x, axis=1))"
   ]
  },
  {
   "cell_type": "markdown",
   "id": "030635a7",
   "metadata": {},
   "source": [
    "### 2. Pandas"
   ]
  },
  {
   "cell_type": "markdown",
   "id": "820653cc",
   "metadata": {},
   "source": [
    "**Example:** Constructing a dataframe from list of lists"
   ]
  },
  {
   "cell_type": "code",
   "execution_count": null,
   "id": "f9702aaa",
   "metadata": {},
   "outputs": [],
   "source": [
    "# Create a 4x2 nested list - data are grouped by row\n",
    "nested_list = [['Henry Wolf', 45],['John Miller', 27],['Mary Wong', 38],['Alice Wilson', 63]]\n",
    "\n",
    "# Construct a dataframe from list of lists\n",
    "df1 = pd.DataFrame(data=nested_list, columns=['Name', 'Age'])\n",
    "df1"
   ]
  },
  {
   "cell_type": "code",
   "execution_count": null,
   "id": "74f24b86",
   "metadata": {},
   "outputs": [],
   "source": [
    "# Don't save the extra row index\n",
    "df1.to_csv('file1.csv', index=False)"
   ]
  },
  {
   "cell_type": "code",
   "execution_count": null,
   "id": "29f98790",
   "metadata": {},
   "outputs": [],
   "source": [
    "df = pd.read_csv('file1.csv')\n",
    "df"
   ]
  },
  {
   "cell_type": "markdown",
   "id": "0dc80eb6",
   "metadata": {},
   "source": [
    "**Exaple:** Constructing a dataframe from a dictionary"
   ]
  },
  {
   "cell_type": "code",
   "execution_count": null,
   "id": "529ad230",
   "metadata": {},
   "outputs": [],
   "source": [
    "# Note: data are grouped by column. Dictionary keys are the column name.\n",
    "my_dict = {'Fruit': ['Apple', 'Banana', 'Grape', 'Peach'], 'Price/Lb':[1.99, 0.65, 2.99, 3.99]}\n",
    "pd.DataFrame(data=my_dict)"
   ]
  },
  {
   "cell_type": "markdown",
   "id": "fa09eaa7",
   "metadata": {},
   "source": [
    "**Exaple:** Constructing a dataframe from a numpy array"
   ]
  },
  {
   "cell_type": "code",
   "execution_count": null,
   "id": "d1c67728",
   "metadata": {},
   "outputs": [],
   "source": [
    "import numpy as np\n",
    "\n",
    "np_arr = np.array([['F', 68, 98], ['M', 95, 70], ['F', 85, 96], ['M', 92, 80]])\n",
    "pd.DataFrame(data=np_arr, columns=['Gender', 'Score1', 'Sore2'])"
   ]
  },
  {
   "cell_type": "markdown",
   "id": "ea21ae12",
   "metadata": {},
   "source": [
    "### 3. Matplotlib"
   ]
  },
  {
   "cell_type": "code",
   "execution_count": null,
   "id": "88ded966",
   "metadata": {},
   "outputs": [],
   "source": [
    "# http://matplotlib.org/examples/index.html\n",
    "# https://matplotlib.org/2.0.2/examples/pylab_examples/hist2d_demo.html\n",
    "import matplotlib.pyplot as plt\n",
    "import numpy as np\n",
    "\n",
    "# normal distribution center at x1=0 and y1=5\n",
    "x1 = np.random.randn(1000)\n",
    "y1 = np.random.randn(1000) + 5\n",
    "\n",
    "\n",
    "plt.hist2d(x=x1, y=y1, bins=40)\n",
    "plt.show()"
   ]
  },
  {
   "cell_type": "code",
   "execution_count": null,
   "id": "9e93befe",
   "metadata": {},
   "outputs": [],
   "source": [
    "# Other common plots\n",
    "plt.scatter(x1, y1, alpha=0.3)\n",
    "plt.show()\n",
    "\n",
    "plt.hist(x1)\n",
    "plt.hist(y1)\n",
    "plt.show()\n",
    "\n",
    "plt.boxplot(x1)\n",
    "plt.show()"
   ]
  },
  {
   "cell_type": "code",
   "execution_count": null,
   "id": "a25b6479",
   "metadata": {},
   "outputs": [],
   "source": [
    "#define some data\n",
    "x2 = [1,2,3,4]\n",
    "y2 = [20, 21, 20.5, 20.8]\n",
    "\n",
    "#plot data\n",
    "plt.plot(x2, y2)\n",
    "\n",
    "plt.show()"
   ]
  },
  {
   "cell_type": "markdown",
   "id": "3c45a90a",
   "metadata": {},
   "source": [
    "## Sqlite3: Python Package for Writing to and Reading from Databases"
   ]
  },
  {
   "cell_type": "code",
   "execution_count": null,
   "id": "fca983bd",
   "metadata": {},
   "outputs": [],
   "source": [
    "import sqlite3\n",
    "\n",
    "# Create a connection to sqlite\n",
    "conn = sqlite3.connect('test1.db')\n",
    "\n",
    "# Open a cursor\n",
    "c = conn.cursor()\n",
    "\n",
    "# Execute any SQL statement\n",
    "# Create table named \"stocks\" if it does not already exist.\n",
    "c.execute(\"create table if not exists stocks \\\n",
    "           (date text, trans text,symbol text, qty real, price real)\")\n",
    "\n",
    "# Add entries\n",
    "c.execute(\"insert into stocks values ('2006-02-05','SELL','RHAT',50,50.25)\")\n",
    "c.execute(\"insert into stocks values ('2006-03-15','BUY','GOOG',1000,350.13)\")\n",
    "c.execute(\"insert into stocks values ('2006-10-05','BUY','GOOG',100000,400.14)\")\n",
    "conn.commit()\n",
    "\n",
    "# Query all the entries in the database\n",
    "alllines = c.execute(\"select * from stocks\")\n",
    "print(\"All lines: \", alllines)\n",
    "\n",
    "# Print it\n",
    "for lines in alllines:\n",
    "    print(\"Line:\", lines)\n",
    "\n",
    "c.close()"
   ]
  },
  {
   "cell_type": "markdown",
   "id": "7a04c34d",
   "metadata": {},
   "source": [
    "## OS: Module Provides Functions for Interacting with the Operating System"
   ]
  },
  {
   "cell_type": "code",
   "execution_count": 2,
   "id": "908d1f86",
   "metadata": {},
   "outputs": [
    {
     "data": {
      "text/plain": [
       "['.ipynb_checkpoints',\n",
       " 'Capstone-Project.ipynb',\n",
       " 'FCSN_Python_0501_Modules.ipynb',\n",
       " 'file1.csv',\n",
       " 'file2.csv',\n",
       " 'file2.txt',\n",
       " 'myfolder',\n",
       " 'myprog.py',\n",
       " 'test1.db',\n",
       " '__pycache__']"
      ]
     },
     "execution_count": 2,
     "metadata": {},
     "output_type": "execute_result"
    }
   ],
   "source": [
    "import os\n",
    "\n",
    "os.listdir(\".\")"
   ]
  },
  {
   "cell_type": "code",
   "execution_count": 6,
   "id": "309880aa",
   "metadata": {},
   "outputs": [
    {
     "data": {
      "text/plain": [
       "'C:\\\\Users\\\\huiyi\\\\FCSN\\\\Python_Course\\\\05-Modules and Packages'"
      ]
     },
     "execution_count": 6,
     "metadata": {},
     "output_type": "execute_result"
    }
   ],
   "source": [
    "pwd"
   ]
  },
  {
   "cell_type": "code",
   "execution_count": 3,
   "id": "fc6f97b6",
   "metadata": {},
   "outputs": [
    {
     "data": {
      "text/plain": [
       "['.ipynb_checkpoints',\n",
       " 'Capstone-Project.ipynb',\n",
       " 'FCSN_Python_0501_Modules.ipynb',\n",
       " 'file1.csv',\n",
       " 'file2.csv',\n",
       " 'file2.txt',\n",
       " 'myfolder',\n",
       " 'myprog.py',\n",
       " 'test1.db',\n",
       " '__pycache__']"
      ]
     },
     "execution_count": 3,
     "metadata": {},
     "output_type": "execute_result"
    }
   ],
   "source": [
    "os.listdir('C:\\\\Users\\\\huiyi\\\\FCSN\\\\Python_Course\\\\05-Modules and Packages')"
   ]
  },
  {
   "cell_type": "code",
   "execution_count": 4,
   "id": "494a18e4",
   "metadata": {},
   "outputs": [
    {
     "name": "stdout",
     "output_type": "stream",
     "text": [
      "This is root:  C:\\Users\\huiyi\\FCSN\\Python_Course\\05-Modules and Packages\n",
      "This is dirs:  ['.ipynb_checkpoints', 'myfolder', '__pycache__']\n",
      "C:\\Users\\huiyi\\FCSN\\Python_Course\\05-Modules and Packages\\myprog.py\n",
      "This is root:  C:\\Users\\huiyi\\FCSN\\Python_Course\\05-Modules and Packages\\.ipynb_checkpoints\n",
      "This is dirs:  []\n",
      "This is root:  C:\\Users\\huiyi\\FCSN\\Python_Course\\05-Modules and Packages\\myfolder\n",
      "This is dirs:  ['.ipynb_checkpoints', '__pycache__']\n",
      "C:\\Users\\huiyi\\FCSN\\Python_Course\\05-Modules and Packages\\myfolder\\mymodule.py\n",
      "This is root:  C:\\Users\\huiyi\\FCSN\\Python_Course\\05-Modules and Packages\\myfolder\\.ipynb_checkpoints\n",
      "This is dirs:  []\n",
      "This is root:  C:\\Users\\huiyi\\FCSN\\Python_Course\\05-Modules and Packages\\myfolder\\__pycache__\n",
      "This is dirs:  []\n",
      "This is root:  C:\\Users\\huiyi\\FCSN\\Python_Course\\05-Modules and Packages\\__pycache__\n",
      "This is dirs:  []\n"
     ]
    }
   ],
   "source": [
    "for root, dirs, files in os.walk('C:\\\\Users\\\\huiyi\\\\FCSN\\\\Python_Course\\\\05-Modules and Packages'):\n",
    "    print(\"This is root: \", root)\n",
    "    print(\"This is dirs: \", dirs)\n",
    "    # root, dirs, files\n",
    "    for file in files:\n",
    "        if file.endswith(\".py\"):\n",
    "             print(os.path.join(root, file))"
   ]
  },
  {
   "cell_type": "code",
   "execution_count": 5,
   "id": "67431eff",
   "metadata": {},
   "outputs": [
    {
     "data": {
      "text/plain": [
       "'C:\\\\Users\\\\huiyi\\\\FCSN\\\\Python_Course\\\\05-Modules and Packages'"
      ]
     },
     "execution_count": 5,
     "metadata": {},
     "output_type": "execute_result"
    }
   ],
   "source": [
    "os.getcwd()"
   ]
  },
  {
   "cell_type": "markdown",
   "id": "c3b1f50d",
   "metadata": {},
   "source": [
    "## Math"
   ]
  },
  {
   "cell_type": "code",
   "execution_count": 7,
   "id": "84736a7d",
   "metadata": {},
   "outputs": [
    {
     "name": "stdout",
     "output_type": "stream",
     "text": [
      "0.7071067811865476\n"
     ]
    }
   ],
   "source": [
    "# Import all functions in a given module\n",
    "# You have to refer to the module name when \n",
    "# calling the function\n",
    "import math\n",
    "print(math.sin(math.pi/4))"
   ]
  },
  {
   "cell_type": "code",
   "execution_count": 8,
   "id": "ee401f32",
   "metadata": {},
   "outputs": [
    {
     "name": "stdout",
     "output_type": "stream",
     "text": [
      "0.7071067811865476\n"
     ]
    }
   ],
   "source": [
    "# Import all functions in a given module\n",
    "# You do not need to refer to the module name when \n",
    "# calling the function\n",
    "from math import *\n",
    "print(sin(pi/4))"
   ]
  },
  {
   "cell_type": "code",
   "execution_count": 10,
   "id": "91d2a3df",
   "metadata": {},
   "outputs": [
    {
     "name": "stdout",
     "output_type": "stream",
     "text": [
      "0.7071067811865476\n"
     ]
    }
   ],
   "source": [
    "# Give a shortcut name to the module. \n",
    "# Especially true for modules with long names such as matplotlib\n",
    "import math as ma\n",
    "print(ma.sin(ma.pi/4))"
   ]
  },
  {
   "cell_type": "code",
   "execution_count": 11,
   "id": "08f5e1c2",
   "metadata": {},
   "outputs": [
    {
     "name": "stdout",
     "output_type": "stream",
     "text": [
      "0.7071067811865476\n"
     ]
    }
   ],
   "source": [
    "# Only import the necessary functions from a module\n",
    "# This is memory efficient\n",
    "from math import sin,pi\n",
    "print(sin(pi/4))"
   ]
  },
  {
   "cell_type": "markdown",
   "id": "23069652",
   "metadata": {},
   "source": [
    "## Datetime: Module for Manipulating Dates and Times"
   ]
  },
  {
   "cell_type": "code",
   "execution_count": null,
   "id": "8439f3f2",
   "metadata": {},
   "outputs": [],
   "source": [
    "import datetime"
   ]
  },
  {
   "cell_type": "code",
   "execution_count": null,
   "id": "ce574dfe",
   "metadata": {},
   "outputs": [],
   "source": [
    "# Create a Python time object hour=8, minute=30, seconds = 0\n",
    "t = datetime.time(8,30,0)\n",
    "print(t)"
   ]
  },
  {
   "cell_type": "code",
   "execution_count": null,
   "id": "0663d2ab",
   "metadata": {},
   "outputs": [],
   "source": [
    "# Create a Python date object year = 2022, month = 12 and day = 6\n",
    "d = datetime.date(year=2022, month=12, day=6)\n",
    "print(d)"
   ]
  },
  {
   "cell_type": "code",
   "execution_count": null,
   "id": "32031d7a",
   "metadata": {},
   "outputs": [],
   "source": [
    "# Print current date\n",
    "print(datetime.date.today())"
   ]
  },
  {
   "cell_type": "code",
   "execution_count": null,
   "id": "d4883c02",
   "metadata": {},
   "outputs": [],
   "source": [
    "td = datetime.date.today() # Todays date\n",
    "tomd = datetime.date.today()+datetime.timedelta(days=1) # Tomorrows date\n",
    "print(td,tomd)"
   ]
  },
  {
   "cell_type": "code",
   "execution_count": null,
   "id": "7bd53d00",
   "metadata": {},
   "outputs": [],
   "source": [
    "# If you want both date and time\n",
    "today = datetime.datetime.today()\n",
    "print(today)"
   ]
  }
 ],
 "metadata": {
  "kernelspec": {
   "display_name": "Python 3 (ipykernel)",
   "language": "python",
   "name": "python3"
  },
  "language_info": {
   "codemirror_mode": {
    "name": "ipython",
    "version": 3
   },
   "file_extension": ".py",
   "mimetype": "text/x-python",
   "name": "python",
   "nbconvert_exporter": "python",
   "pygments_lexer": "ipython3",
   "version": "3.9.12"
  }
 },
 "nbformat": 4,
 "nbformat_minor": 5
}
