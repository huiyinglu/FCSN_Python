{
 "cells": [
  {
   "cell_type": "markdown",
   "id": "48bf3636",
   "metadata": {},
   "source": [
    "# Strings Exercise"
   ]
  },
  {
   "cell_type": "code",
   "execution_count": 3,
   "id": "9544bd19",
   "metadata": {},
   "outputs": [],
   "source": [
    "# Assign s as a string\n",
    "s = 'Hello World'"
   ]
  },
  {
   "cell_type": "markdown",
   "id": "5969bf07",
   "metadata": {},
   "source": [
    "## String Indexing\n",
    "We know strings are a __sequence__, which means Python can use __indexes__ to call parts of the sequence.\n",
    "\n",
    "In Python, we use brackets <code>[]</code> after an object to call its index. We should also note that indexing starts at 0 for Python."
   ]
  },
  {
   "cell_type": "code",
   "execution_count": null,
   "id": "6f3c7c06",
   "metadata": {},
   "outputs": [],
   "source": [
    "# KLU: show 2nd element in s using string indexing"
   ]
  },
  {
   "cell_type": "code",
   "execution_count": null,
   "id": "06020a51",
   "metadata": {},
   "outputs": [],
   "source": [
    "# KLU: show last element in s using string indexing"
   ]
  },
  {
   "cell_type": "markdown",
   "id": "70c753b9",
   "metadata": {},
   "source": [
    "## String Slicing\n",
    "\n",
    "We can use a <code>:</code> to perform __*slicing*__ which grabs everything up to a designated point. "
   ]
  },
  {
   "cell_type": "code",
   "execution_count": 1,
   "id": "5e3d88c1",
   "metadata": {},
   "outputs": [],
   "source": [
    "# KLU: Grab everything past the 3rd element all the way to the length of s which is len(s)"
   ]
  },
  {
   "cell_type": "code",
   "execution_count": 6,
   "id": "c99bc507",
   "metadata": {},
   "outputs": [],
   "source": [
    "# KLU: Grab everything UP TO the 5th index"
   ]
  },
  {
   "cell_type": "code",
   "execution_count": null,
   "id": "4aa69890",
   "metadata": {},
   "outputs": [],
   "source": [
    "#KLU: Grab everything using string slicing"
   ]
  },
  {
   "cell_type": "markdown",
   "id": "67833801",
   "metadata": {},
   "source": [
    "We can also use negative indexing to go backwards."
   ]
  },
  {
   "cell_type": "code",
   "execution_count": 7,
   "id": "ba4a3fcc",
   "metadata": {},
   "outputs": [],
   "source": [
    "# KLU: Grab everything but the last letter using string slicing"
   ]
  },
  {
   "cell_type": "markdown",
   "id": "90ed860c",
   "metadata": {},
   "source": [
    "We can also use <code>index</code> and <code>slice</code> notation to grab elements of a sequence by a specified __step size__ \n",
    "\n",
    "__Syntax__\n",
    "<br>string[start:end:step]</br>\n",
    "\n",
    "Note: you may skip start end or step. (the default for start is 0, end is the last element and the step size is 1)\n",
    "\n",
    "For instance we can use two colons in a row and then a number specifying the frequency to grab elements."
   ]
  },
  {
   "cell_type": "code",
   "execution_count": null,
   "id": "7b4fde5e",
   "metadata": {},
   "outputs": [],
   "source": [
    "# KLU: Using string slicing, grab everything, but go in step sizes of 2"
   ]
  },
  {
   "cell_type": "code",
   "execution_count": null,
   "id": "4da55d5f",
   "metadata": {},
   "outputs": [],
   "source": [
    "# KLU: Using string slicing, print a string backwards"
   ]
  },
  {
   "cell_type": "code",
   "execution_count": null,
   "id": "2dc203a7",
   "metadata": {},
   "outputs": [],
   "source": [
    "# KLU: Using string slicing, grab everything starting from 2st element (index 1) , until the last element, step size is 2"
   ]
  },
  {
   "cell_type": "markdown",
   "id": "db8e510c",
   "metadata": {},
   "source": [
    "## Basic Built-in String methods\n",
    "\n",
    "Objects in Python usually have built-in methods. These methods are functions inside the object that can perform actions or commands on the object itself.\n",
    "\n",
    "We call methods with a period and then the method name. Methods are in the form:\n",
    "\n",
    "object.method(parameters)\n",
    "\n",
    "Where parameters are extra arguments we can pass into the method."
   ]
  },
  {
   "cell_type": "code",
   "execution_count": 8,
   "id": "d538c274",
   "metadata": {},
   "outputs": [],
   "source": [
    "# KLU: execute this cell\n",
    "s = 'Python is interesting to learn'"
   ]
  },
  {
   "cell_type": "code",
   "execution_count": 12,
   "id": "4e056ea5",
   "metadata": {},
   "outputs": [
    {
     "data": {
      "text/plain": [
       "'PYTHON IS INTERESTING TO LEARN'"
      ]
     },
     "execution_count": 12,
     "metadata": {},
     "output_type": "execute_result"
    }
   ],
   "source": [
    "# KLU: Using a string method, show s in uppper case"
   ]
  },
  {
   "cell_type": "code",
   "execution_count": null,
   "id": "213d2327",
   "metadata": {},
   "outputs": [],
   "source": [
    "# KLU: Using a string method, show s in lower case"
   ]
  },
  {
   "cell_type": "code",
   "execution_count": 26,
   "id": "ecb6aa5d",
   "metadata": {},
   "outputs": [],
   "source": [
    "# KLU: Split a string by blank space (this is the default)\n",
    "# list1 = s.yourfunction()"
   ]
  },
  {
   "cell_type": "code",
   "execution_count": 29,
   "id": "c1d3cc7b",
   "metadata": {},
   "outputs": [],
   "source": [
    "# KLU: you may execute this cell after you've got the correct answer for the cell above this.\n",
    "# \" \".join(lists)"
   ]
  },
  {
   "cell_type": "code",
   "execution_count": 18,
   "id": "066e928f",
   "metadata": {},
   "outputs": [],
   "source": [
    "# KLU: count how many 'i' in string s. Hint: use s.count(...)"
   ]
  },
  {
   "cell_type": "code",
   "execution_count": 19,
   "id": "4f491464",
   "metadata": {},
   "outputs": [],
   "source": [
    "# KLU: return the lowest index in S where substring 'in' is found.\n",
    "#      Hint: use s.index(...) or s.find(...)"
   ]
  }
 ],
 "metadata": {
  "kernelspec": {
   "display_name": "Python 3 (ipykernel)",
   "language": "python",
   "name": "python3"
  },
  "language_info": {
   "codemirror_mode": {
    "name": "ipython",
    "version": 3
   },
   "file_extension": ".py",
   "mimetype": "text/x-python",
   "name": "python",
   "nbconvert_exporter": "python",
   "pygments_lexer": "ipython3",
   "version": "3.9.7"
  }
 },
 "nbformat": 4,
 "nbformat_minor": 5
}
